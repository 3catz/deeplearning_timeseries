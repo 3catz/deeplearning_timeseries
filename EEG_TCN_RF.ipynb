{
  "nbformat": 4,
  "nbformat_minor": 0,
  "metadata": {
    "colab": {
      "name": "EEG_TCN_RF.ipynb",
      "version": "0.3.2",
      "provenance": [],
      "collapsed_sections": [
        "w1sVV2CSbv3t"
      ],
      "include_colab_link": true
    },
    "kernelspec": {
      "name": "python3",
      "display_name": "Python 3"
    },
    "accelerator": "GPU"
  },
  "cells": [
    {
      "cell_type": "markdown",
      "metadata": {
        "id": "view-in-github",
        "colab_type": "text"
      },
      "source": [
        "<a href=\"https://colab.research.google.com/github/3catz/deeplearning_timeseries/blob/master/EEG_TCN_RF.ipynb\" target=\"_parent\"><img src=\"https://colab.research.google.com/assets/colab-badge.svg\" alt=\"Open In Colab\"/></a>"
      ]
    },
    {
      "metadata": {
        "id": "ax--B1rIbrD2",
        "colab_type": "text"
      },
      "cell_type": "markdown",
      "source": [
        "# Beginnings"
      ]
    },
    {
      "metadata": {
        "id": "rydY9rHUOoWs",
        "colab_type": "code",
        "colab": {}
      },
      "cell_type": "code",
      "source": [
        "from google.colab import files \n",
        "import os \n",
        "#os.mkdir(\"/content/subj1\")\n",
        "#os.chdir(\"/content/subj1\")\n",
        "os.listdir()\n",
        "\n",
        "from google.colab import auth\n",
        "auth.authenticate_user()"
      ],
      "execution_count": 0,
      "outputs": []
    },
    {
      "metadata": {
        "id": "-QZ7jrKybQy-",
        "colab_type": "code",
        "outputId": "d8e728c4-6048-45d5-e0e5-816ae8d679a6",
        "colab": {
          "base_uri": "https://localhost:8080/",
          "height": 34
        }
      },
      "cell_type": "code",
      "source": [
        "os.listdir()"
      ],
      "execution_count": 0,
      "outputs": [
        {
          "output_type": "execute_result",
          "data": {
            "text/plain": [
              "['.config', 'adc.json', 'sample_data']"
            ]
          },
          "metadata": {
            "tags": []
          },
          "execution_count": 2
        }
      ]
    },
    {
      "metadata": {
        "id": "_BwtarmgYny0",
        "colab_type": "code",
        "outputId": "f5824c9e-bff2-426a-e3c5-59189ef2430b",
        "colab": {
          "base_uri": "https://localhost:8080/",
          "height": 3247
        }
      },
      "cell_type": "code",
      "source": [
        "!gsutil -m cp -r gs://peijinbucket/eeg_train /content"
      ],
      "execution_count": 0,
      "outputs": [
        {
          "output_type": "stream",
          "text": [
            "Copying gs://peijinbucket/eeg_train/subj10_series1_events.csv...\n",
            "Copying gs://peijinbucket/eeg_train/subj10_series1_data.csv...\n",
            "Copying gs://peijinbucket/eeg_train/subj10_series2_data.csv...\n",
            "/ [0 files][    0.0 B/  8.4 MiB]                                                \r/ [0 files][    0.0 B/ 51.5 MiB]                                                \r/ [0 files][    0.0 B/ 85.9 MiB]                                                \rCopying gs://peijinbucket/eeg_train/subj10_series2_events.csv...\n",
            "/ [0 files][    0.0 B/ 92.8 MiB]                                                \rCopying gs://peijinbucket/eeg_train/subj10_series3_data.csv...\n",
            "/ [0 files][    0.0 B/114.9 MiB]                                                \rCopying gs://peijinbucket/eeg_train/subj10_series3_events.csv...\n",
            "Copying gs://peijinbucket/eeg_train/subj10_series4_data.csv...\n",
            "/ [0 files][    0.0 B/  1.6 GiB]                                                \r/ [0 files][    0.0 B/  1.6 GiB]                                                \rCopying gs://peijinbucket/eeg_train/subj10_series4_events.csv...\n",
            "/ [0 files][    0.0 B/  1.6 GiB]                                                \rCopying gs://peijinbucket/eeg_train/subj10_series5_data.csv...\n",
            "Copying gs://peijinbucket/eeg_train/subj10_series5_events.csv...\n",
            "Copying gs://peijinbucket/eeg_train/subj10_series6_data.csv...\n",
            "Copying gs://peijinbucket/eeg_train/subj10_series6_events.csv...\n",
            "Copying gs://peijinbucket/eeg_train/subj10_series7_data.csv...\n",
            "Copying gs://peijinbucket/eeg_train/subj10_series7_events.csv...\n",
            "Copying gs://peijinbucket/eeg_train/subj10_series8_data.csv...\n",
            "Copying gs://peijinbucket/eeg_train/subj10_series8_events.csv...\n",
            "Copying gs://peijinbucket/eeg_train/subj11_series1_data.csv...\n",
            "Copying gs://peijinbucket/eeg_train/subj11_series1_events.csv...\n",
            "Copying gs://peijinbucket/eeg_train/subj11_series2_data.csv...\n",
            "Copying gs://peijinbucket/eeg_train/subj11_series2_events.csv...\n",
            "Copying gs://peijinbucket/eeg_train/subj11_series3_data.csv...\n",
            "Copying gs://peijinbucket/eeg_train/subj11_series3_events.csv...\n",
            "Copying gs://peijinbucket/eeg_train/subj11_series4_data.csv...\n",
            "Copying gs://peijinbucket/eeg_train/subj11_series4_events.csv...\n",
            "Copying gs://peijinbucket/eeg_train/subj11_series5_data.csv...\n",
            "Copying gs://peijinbucket/eeg_train/subj11_series6_data.csv...\n",
            "Copying gs://peijinbucket/eeg_train/subj11_series5_events.csv...\n",
            "Copying gs://peijinbucket/eeg_train/subj11_series6_events.csv...\n",
            "Copying gs://peijinbucket/eeg_train/subj11_series7_data.csv...\n",
            "Copying gs://peijinbucket/eeg_train/subj11_series7_events.csv...\n",
            "Copying gs://peijinbucket/eeg_train/subj11_series8_data.csv...\n",
            "Copying gs://peijinbucket/eeg_train/subj11_series8_events.csv...\n",
            "Copying gs://peijinbucket/eeg_train/subj12_series1_data.csv...\n",
            "Copying gs://peijinbucket/eeg_train/subj12_series1_events.csv...\n",
            "Copying gs://peijinbucket/eeg_train/subj12_series2_data.csv...\n",
            "Copying gs://peijinbucket/eeg_train/subj12_series2_events.csv...\n",
            "Copying gs://peijinbucket/eeg_train/subj12_series3_data.csv...\n",
            "Copying gs://peijinbucket/eeg_train/subj12_series3_events.csv...\n",
            "Copying gs://peijinbucket/eeg_train/subj12_series4_data.csv...\n",
            "Copying gs://peijinbucket/eeg_train/subj12_series4_events.csv...\n",
            "Copying gs://peijinbucket/eeg_train/subj12_series5_data.csv...\n",
            "Copying gs://peijinbucket/eeg_train/subj12_series5_events.csv...\n",
            "Copying gs://peijinbucket/eeg_train/subj12_series6_events.csv...\n",
            "Copying gs://peijinbucket/eeg_train/subj12_series7_events.csv...\n",
            "Copying gs://peijinbucket/eeg_train/subj1_series1_data.csv...\n",
            "Copying gs://peijinbucket/eeg_train/subj1_series1_events.csv...\n",
            "Copying gs://peijinbucket/eeg_train/subj1_series2_data.csv...\n",
            "Copying gs://peijinbucket/eeg_train/subj1_series2_events.csv...\n",
            "Copying gs://peijinbucket/eeg_train/subj1_series3_data.csv...\n",
            "Copying gs://peijinbucket/eeg_train/subj1_series3_events.csv...\n",
            "Copying gs://peijinbucket/eeg_train/subj1_series4_data.csv...\n",
            "Copying gs://peijinbucket/eeg_train/subj1_series4_events.csv...\n",
            "Copying gs://peijinbucket/eeg_train/subj1_series5_data.csv...\n",
            "Copying gs://peijinbucket/eeg_train/subj1_series5_events.csv...\n",
            "Copying gs://peijinbucket/eeg_train/subj1_series6_data.csv...\n",
            "Copying gs://peijinbucket/eeg_train/subj1_series6_events.csv...\n",
            "Copying gs://peijinbucket/eeg_train/subj1_series7_data.csv...\n",
            "Copying gs://peijinbucket/eeg_train/subj1_series7_events.csv...\n",
            "Copying gs://peijinbucket/eeg_train/subj1_series8_data.csv...\n",
            "Copying gs://peijinbucket/eeg_train/subj1_series8_events.csv...\n",
            "Copying gs://peijinbucket/eeg_train/subj2_series1_data.csv...\n",
            "Copying gs://peijinbucket/eeg_train/subj2_series1_events.csv...\n",
            "Copying gs://peijinbucket/eeg_train/subj2_series2_data.csv...\n",
            "Copying gs://peijinbucket/eeg_train/subj2_series2_events.csv...\n",
            "Copying gs://peijinbucket/eeg_train/subj2_series3_data.csv...\n",
            "Copying gs://peijinbucket/eeg_train/subj2_series3_events.csv...\n",
            "Copying gs://peijinbucket/eeg_train/subj2_series4_data.csv...\n",
            "Copying gs://peijinbucket/eeg_train/subj2_series4_events.csv...\n",
            "Copying gs://peijinbucket/eeg_train/subj2_series5_data.csv...\n",
            "Copying gs://peijinbucket/eeg_train/subj2_series5_events.csv...\n",
            "Copying gs://peijinbucket/eeg_train/subj2_series6_data.csv...\n",
            "Copying gs://peijinbucket/eeg_train/subj2_series6_events.csv...\n",
            "Copying gs://peijinbucket/eeg_train/subj2_series7_data.csv...\n",
            "Copying gs://peijinbucket/eeg_train/subj2_series7_events.csv...\n",
            "Copying gs://peijinbucket/eeg_train/subj2_series8_data.csv...\n",
            "Copying gs://peijinbucket/eeg_train/subj2_series8_events.csv...\n",
            "Copying gs://peijinbucket/eeg_train/subj3_series1_data.csv...\n",
            "Copying gs://peijinbucket/eeg_train/subj3_series1_events.csv...\n",
            "Copying gs://peijinbucket/eeg_train/subj3_series2_data.csv...\n",
            "Copying gs://peijinbucket/eeg_train/subj3_series2_events.csv...\n",
            "Copying gs://peijinbucket/eeg_train/subj3_series3_data.csv...\n",
            "Copying gs://peijinbucket/eeg_train/subj3_series3_events.csv...\n",
            "Copying gs://peijinbucket/eeg_train/subj3_series4_data.csv...\n",
            "Copying gs://peijinbucket/eeg_train/subj3_series4_events.csv...\n",
            "Copying gs://peijinbucket/eeg_train/subj3_series5_data.csv...\n",
            "Copying gs://peijinbucket/eeg_train/subj3_series5_events.csv...\n",
            "Copying gs://peijinbucket/eeg_train/subj3_series6_data.csv...\n",
            "Copying gs://peijinbucket/eeg_train/subj3_series6_events.csv...\n",
            "Copying gs://peijinbucket/eeg_train/subj3_series7_data.csv...\n",
            "Copying gs://peijinbucket/eeg_train/subj3_series7_events.csv...\n",
            "Copying gs://peijinbucket/eeg_train/subj3_series8_data.csv...\n",
            "Copying gs://peijinbucket/eeg_train/subj3_series8_events.csv...\n",
            "Copying gs://peijinbucket/eeg_train/subj4_series1_data.csv...\n",
            "Copying gs://peijinbucket/eeg_train/subj4_series1_events.csv...\n",
            "Copying gs://peijinbucket/eeg_train/subj4_series2_data.csv...\n",
            "Copying gs://peijinbucket/eeg_train/subj4_series2_events.csv...\n",
            "Copying gs://peijinbucket/eeg_train/subj4_series3_data.csv...\n",
            "Copying gs://peijinbucket/eeg_train/subj4_series3_events.csv...\n",
            "Copying gs://peijinbucket/eeg_train/subj4_series4_data.csv...\n",
            "Copying gs://peijinbucket/eeg_train/subj4_series4_events.csv...\n",
            "Copying gs://peijinbucket/eeg_train/subj4_series5_data.csv...\n",
            "Copying gs://peijinbucket/eeg_train/subj4_series5_events.csv...\n",
            "Copying gs://peijinbucket/eeg_train/subj4_series6_data.csv...\n",
            "Copying gs://peijinbucket/eeg_train/subj4_series6_events.csv...\n",
            "Copying gs://peijinbucket/eeg_train/subj4_series7_data.csv...\n",
            "Copying gs://peijinbucket/eeg_train/subj4_series7_events.csv...\n",
            "Copying gs://peijinbucket/eeg_train/subj4_series8_data.csv...\n",
            "Copying gs://peijinbucket/eeg_train/subj4_series8_events.csv...\n",
            "Copying gs://peijinbucket/eeg_train/subj5_series1_data.csv...\n",
            "Copying gs://peijinbucket/eeg_train/subj5_series1_events.csv...\n",
            "Copying gs://peijinbucket/eeg_train/subj5_series2_data.csv...\n",
            "Copying gs://peijinbucket/eeg_train/subj5_series2_events.csv...\n",
            "Copying gs://peijinbucket/eeg_train/subj5_series3_data.csv...\n",
            "Copying gs://peijinbucket/eeg_train/subj5_series3_events.csv...\n",
            "Copying gs://peijinbucket/eeg_train/subj5_series4_data.csv...\n",
            "Copying gs://peijinbucket/eeg_train/subj5_series4_events.csv...\n",
            "Copying gs://peijinbucket/eeg_train/subj5_series5_data.csv...\n",
            "Copying gs://peijinbucket/eeg_train/subj5_series5_events.csv...\n",
            "Copying gs://peijinbucket/eeg_train/subj5_series6_data.csv...\n",
            "Copying gs://peijinbucket/eeg_train/subj5_series6_events.csv...\n",
            "Copying gs://peijinbucket/eeg_train/subj5_series7_data.csv...\n",
            "Copying gs://peijinbucket/eeg_train/subj5_series7_events.csv...\n",
            "Copying gs://peijinbucket/eeg_train/subj5_series8_data.csv...\n",
            "Copying gs://peijinbucket/eeg_train/subj5_series8_events.csv...\n",
            "Copying gs://peijinbucket/eeg_train/subj6_series1_data.csv...\n",
            "Copying gs://peijinbucket/eeg_train/subj6_series1_events.csv...\n",
            "Copying gs://peijinbucket/eeg_train/subj6_series2_data.csv...\n",
            "Copying gs://peijinbucket/eeg_train/subj6_series2_events.csv...\n",
            "Copying gs://peijinbucket/eeg_train/subj6_series3_data.csv...\n",
            "Copying gs://peijinbucket/eeg_train/subj6_series3_events.csv...\n",
            "Copying gs://peijinbucket/eeg_train/subj6_series4_data.csv...\n",
            "Copying gs://peijinbucket/eeg_train/subj6_series4_events.csv...\n",
            "Copying gs://peijinbucket/eeg_train/subj6_series5_data.csv...\n",
            "Copying gs://peijinbucket/eeg_train/subj6_series5_events.csv...\n",
            "Copying gs://peijinbucket/eeg_train/subj6_series6_data.csv...\n",
            "Copying gs://peijinbucket/eeg_train/subj6_series6_events.csv...\n",
            "Copying gs://peijinbucket/eeg_train/subj6_series7_data.csv...\n",
            "Copying gs://peijinbucket/eeg_train/subj6_series7_events.csv...\n",
            "Copying gs://peijinbucket/eeg_train/subj6_series8_data.csv...\n",
            "Copying gs://peijinbucket/eeg_train/subj6_series8_events.csv...\n",
            "Copying gs://peijinbucket/eeg_train/subj7_series1_data.csv...\n",
            "Copying gs://peijinbucket/eeg_train/subj7_series1_events.csv...\n",
            "Copying gs://peijinbucket/eeg_train/subj7_series2_data.csv...\n",
            "Copying gs://peijinbucket/eeg_train/subj7_series2_events.csv...\n",
            "Copying gs://peijinbucket/eeg_train/subj7_series3_data.csv...\n",
            "Copying gs://peijinbucket/eeg_train/subj7_series3_events.csv...\n",
            "Copying gs://peijinbucket/eeg_train/subj7_series4_data.csv...\n",
            "Copying gs://peijinbucket/eeg_train/subj7_series4_events.csv...\n",
            "Copying gs://peijinbucket/eeg_train/subj7_series5_data.csv...\n",
            "Copying gs://peijinbucket/eeg_train/subj7_series5_events.csv...\n",
            "Copying gs://peijinbucket/eeg_train/subj7_series6_data.csv...\n",
            "Copying gs://peijinbucket/eeg_train/subj7_series6_events.csv...\n",
            "Copying gs://peijinbucket/eeg_train/subj7_series7_data.csv...\n",
            "Copying gs://peijinbucket/eeg_train/subj7_series7_events.csv...\n",
            "Copying gs://peijinbucket/eeg_train/subj7_series8_data.csv...\n",
            "Copying gs://peijinbucket/eeg_train/subj7_series8_events.csv...\n",
            "Copying gs://peijinbucket/eeg_train/subj8_series1_data.csv...\n",
            "Copying gs://peijinbucket/eeg_train/subj8_series1_events.csv...\n",
            "Copying gs://peijinbucket/eeg_train/subj8_series2_data.csv...\n",
            "Copying gs://peijinbucket/eeg_train/subj8_series2_events.csv...\n",
            "Copying gs://peijinbucket/eeg_train/subj8_series3_data.csv...\n",
            "Copying gs://peijinbucket/eeg_train/subj8_series3_events.csv...\n",
            "Copying gs://peijinbucket/eeg_train/subj8_series4_data.csv...\n",
            "Copying gs://peijinbucket/eeg_train/subj8_series4_events.csv...\n",
            "Copying gs://peijinbucket/eeg_train/subj8_series5_data.csv...\n",
            "Copying gs://peijinbucket/eeg_train/subj8_series5_events.csv...\n",
            "Copying gs://peijinbucket/eeg_train/subj8_series6_data.csv...\n",
            "Copying gs://peijinbucket/eeg_train/subj8_series6_events.csv...\n",
            "Copying gs://peijinbucket/eeg_train/subj8_series7_data.csv...\n",
            "Copying gs://peijinbucket/eeg_train/subj8_series7_events.csv...\n",
            "Copying gs://peijinbucket/eeg_train/subj8_series8_data.csv...\n",
            "Copying gs://peijinbucket/eeg_train/subj8_series8_events.csv...\n",
            "Copying gs://peijinbucket/eeg_train/subj9_series1_data.csv...\n",
            "Copying gs://peijinbucket/eeg_train/subj9_series1_events.csv...\n",
            "Copying gs://peijinbucket/eeg_train/subj9_series2_data.csv...\n",
            "Copying gs://peijinbucket/eeg_train/subj9_series2_events.csv...\n",
            "Copying gs://peijinbucket/eeg_train/subj9_series3_data.csv...\n",
            "Copying gs://peijinbucket/eeg_train/subj9_series3_events.csv...\n",
            "Copying gs://peijinbucket/eeg_train/subj9_series4_data.csv...\n",
            "Copying gs://peijinbucket/eeg_train/subj9_series4_events.csv...\n",
            "Copying gs://peijinbucket/eeg_train/subj9_series5_data.csv...\n",
            "Copying gs://peijinbucket/eeg_train/subj9_series5_events.csv...\n",
            "Copying gs://peijinbucket/eeg_train/subj9_series6_data.csv...\n",
            "Copying gs://peijinbucket/eeg_train/subj9_series6_events.csv...\n",
            "Copying gs://peijinbucket/eeg_train/subj9_series7_data.csv...\n",
            "Copying gs://peijinbucket/eeg_train/subj9_series7_events.csv...\n",
            "Copying gs://peijinbucket/eeg_train/subj9_series8_data.csv...\n",
            "Copying gs://peijinbucket/eeg_train/subj9_series8_events.csv...\n",
            "\\ [188/188 files][  3.0 GiB/  3.0 GiB] 100% Done  96.7 MiB/s ETA 00:00:00       \n",
            "Operation completed over 188 objects/3.0 GiB.                                    \n"
          ],
          "name": "stdout"
        }
      ]
    },
    {
      "metadata": {
        "id": "L1Fag5aoYvZi",
        "colab_type": "code",
        "outputId": "49da496a-89ab-4107-c12e-7661df26e456",
        "colab": {
          "base_uri": "https://localhost:8080/",
          "height": 459
        }
      },
      "cell_type": "code",
      "source": [
        "!gsutil -m cp -r gs://peijinbucket/test /content"
      ],
      "execution_count": 0,
      "outputs": [
        {
          "output_type": "stream",
          "text": [
            "Copying gs://peijinbucket/test/subj10_series10_data.csv...\n",
            "Copying gs://peijinbucket/test/subj12_series9_data.csv...\n",
            "Copying gs://peijinbucket/test/subj10_series9_data.csv...\n",
            "/ [0/24 files][    0.0 B/446.3 MiB]   0% Done                                   \r/ [0/24 files][    0.0 B/446.3 MiB]   0% Done                                   \r/ [0/24 files][    0.0 B/446.3 MiB]   0% Done                                   \rCopying gs://peijinbucket/test/subj1_series10_data.csv...\n",
            "/ [0/24 files][    0.0 B/446.3 MiB]   0% Done                                   \rCopying gs://peijinbucket/test/subj11_series10_data.csv...\n",
            "/ [0/24 files][    0.0 B/446.3 MiB]   0% Done                                   \rCopying gs://peijinbucket/test/subj1_series9_data.csv...\n",
            "/ [0/24 files][    0.0 B/446.3 MiB]   0% Done                                   \rCopying gs://peijinbucket/test/subj12_series10_data.csv...\n",
            "/ [0/24 files][    0.0 B/446.3 MiB]   0% Done                                   \rCopying gs://peijinbucket/test/subj11_series9_data.csv...\n",
            "/ [0/24 files][    0.0 B/446.3 MiB]   0% Done                                   \rCopying gs://peijinbucket/test/subj2_series9_data.csv...\n",
            "Copying gs://peijinbucket/test/subj2_series10_data.csv...\n",
            "Copying gs://peijinbucket/test/subj3_series10_data.csv...\n",
            "Copying gs://peijinbucket/test/subj3_series9_data.csv...\n",
            "Copying gs://peijinbucket/test/subj4_series10_data.csv...\n",
            "Copying gs://peijinbucket/test/subj4_series9_data.csv...\n",
            "Copying gs://peijinbucket/test/subj5_series10_data.csv...\n",
            "Copying gs://peijinbucket/test/subj5_series9_data.csv...\n",
            "Copying gs://peijinbucket/test/subj6_series10_data.csv...\n",
            "Copying gs://peijinbucket/test/subj6_series9_data.csv...\n",
            "Copying gs://peijinbucket/test/subj7_series10_data.csv...\n",
            "Copying gs://peijinbucket/test/subj7_series9_data.csv...\n",
            "Copying gs://peijinbucket/test/subj8_series10_data.csv...\n",
            "Copying gs://peijinbucket/test/subj8_series9_data.csv...\n",
            "Copying gs://peijinbucket/test/subj9_series10_data.csv...\n",
            "Copying gs://peijinbucket/test/subj9_series9_data.csv...\n",
            "/ [24/24 files][446.3 MiB/446.3 MiB] 100% Done                                  \n",
            "Operation completed over 24 objects/446.3 MiB.                                   \n"
          ],
          "name": "stdout"
        }
      ]
    },
    {
      "metadata": {
        "id": "oKZ_mY6RUvft",
        "colab_type": "code",
        "outputId": "3c7ca768-d365-4876-b94c-3513560724ca",
        "colab": {
          "base_uri": "https://localhost:8080/",
          "height": 2774
        }
      },
      "cell_type": "code",
      "source": [
        "!pip install -U imbalanced-learn\n",
        "!pip install keras-tcn\n",
        "!pip install scikit-multilearn\n",
        "     \n",
        "\n",
        "!pip install networkx tensorflow\n",
        "!git clone https://github.com/thunlp/OpenNE.git\n",
        "os.chdir(\"/content/OpenNE/src\")\n",
        "!python setup.py install \n",
        "!pip install liac-arff"
      ],
      "execution_count": 0,
      "outputs": [
        {
          "output_type": "stream",
          "text": [
            "Requirement already up-to-date: imbalanced-learn in /usr/local/lib/python3.6/dist-packages (0.4.3)\n",
            "Requirement already satisfied, skipping upgrade: scikit-learn>=0.20 in /usr/local/lib/python3.6/dist-packages (from imbalanced-learn) (0.20.2)\n",
            "Requirement already satisfied, skipping upgrade: numpy>=1.8.2 in /usr/local/lib/python3.6/dist-packages (from imbalanced-learn) (1.14.6)\n",
            "Requirement already satisfied, skipping upgrade: scipy>=0.13.3 in /usr/local/lib/python3.6/dist-packages (from imbalanced-learn) (1.1.0)\n",
            "Collecting keras-tcn\n",
            "  Downloading https://files.pythonhosted.org/packages/f2/bc/dcbdc24d80229022333150f42ff88ddf4c6793568f711a0d6fc1e83b102e/keras_tcn-2.3.5-py2.py3-none-any.whl\n",
            "Requirement already satisfied: numpy in /usr/local/lib/python3.6/dist-packages (from keras-tcn) (1.14.6)\n",
            "Requirement already satisfied: keras in /usr/local/lib/python3.6/dist-packages (from keras-tcn) (2.2.4)\n",
            "Requirement already satisfied: pyyaml in /usr/local/lib/python3.6/dist-packages (from keras->keras-tcn) (3.13)\n",
            "Requirement already satisfied: keras-preprocessing>=1.0.5 in /usr/local/lib/python3.6/dist-packages (from keras->keras-tcn) (1.0.9)\n",
            "Requirement already satisfied: six>=1.9.0 in /usr/local/lib/python3.6/dist-packages (from keras->keras-tcn) (1.11.0)\n",
            "Requirement already satisfied: scipy>=0.14 in /usr/local/lib/python3.6/dist-packages (from keras->keras-tcn) (1.1.0)\n",
            "Requirement already satisfied: keras-applications>=1.0.6 in /usr/local/lib/python3.6/dist-packages (from keras->keras-tcn) (1.0.7)\n",
            "Requirement already satisfied: h5py in /usr/local/lib/python3.6/dist-packages (from keras->keras-tcn) (2.8.0)\n",
            "Installing collected packages: keras-tcn\n",
            "Successfully installed keras-tcn-2.3.5\n",
            "Collecting scikit-multilearn\n",
            "\u001b[?25l  Downloading https://files.pythonhosted.org/packages/bb/1f/e6ff649c72a1cdf2c7a1d31eb21705110ce1c5d3e7e26b2cc300e1637272/scikit_multilearn-0.2.0-py3-none-any.whl (89kB)\n",
            "\u001b[K    100% |████████████████████████████████| 92kB 3.6MB/s \n",
            "\u001b[?25hInstalling collected packages: scikit-multilearn\n",
            "Successfully installed scikit-multilearn-0.2.0\n",
            "Requirement already satisfied: networkx in /usr/local/lib/python3.6/dist-packages (2.2)\n",
            "Requirement already satisfied: tensorflow in /usr/local/lib/python3.6/dist-packages (1.13.0rc1)\n",
            "Requirement already satisfied: decorator>=4.3.0 in /usr/local/lib/python3.6/dist-packages (from networkx) (4.3.2)\n",
            "Requirement already satisfied: absl-py>=0.1.6 in /usr/local/lib/python3.6/dist-packages (from tensorflow) (0.7.0)\n",
            "Requirement already satisfied: astor>=0.6.0 in /usr/local/lib/python3.6/dist-packages (from tensorflow) (0.7.1)\n",
            "Requirement already satisfied: grpcio>=1.8.6 in /usr/local/lib/python3.6/dist-packages (from tensorflow) (1.15.0)\n",
            "Requirement already satisfied: protobuf>=3.6.1 in /usr/local/lib/python3.6/dist-packages (from tensorflow) (3.6.1)\n",
            "Requirement already satisfied: wheel>=0.26 in /usr/local/lib/python3.6/dist-packages (from tensorflow) (0.33.0)\n",
            "Requirement already satisfied: keras-applications>=1.0.6 in /usr/local/lib/python3.6/dist-packages (from tensorflow) (1.0.7)\n",
            "Requirement already satisfied: tensorboard<1.13.0,>=1.12.0 in /usr/local/lib/python3.6/dist-packages (from tensorflow) (1.12.2)\n",
            "Requirement already satisfied: tensorflow-estimator<1.14.0rc0,>=1.13.0rc0 in /usr/local/lib/python3.6/dist-packages (from tensorflow) (1.13.0rc0)\n",
            "Requirement already satisfied: gast>=0.2.0 in /usr/local/lib/python3.6/dist-packages (from tensorflow) (0.2.2)\n",
            "Requirement already satisfied: termcolor>=1.1.0 in /usr/local/lib/python3.6/dist-packages (from tensorflow) (1.1.0)\n",
            "Requirement already satisfied: six>=1.10.0 in /usr/local/lib/python3.6/dist-packages (from tensorflow) (1.11.0)\n",
            "Requirement already satisfied: numpy>=1.13.3 in /usr/local/lib/python3.6/dist-packages (from tensorflow) (1.14.6)\n",
            "Requirement already satisfied: keras-preprocessing>=1.0.5 in /usr/local/lib/python3.6/dist-packages (from tensorflow) (1.0.9)\n",
            "Requirement already satisfied: setuptools in /usr/local/lib/python3.6/dist-packages (from protobuf>=3.6.1->tensorflow) (40.8.0)\n",
            "Requirement already satisfied: h5py in /usr/local/lib/python3.6/dist-packages (from keras-applications>=1.0.6->tensorflow) (2.8.0)\n",
            "Requirement already satisfied: markdown>=2.6.8 in /usr/local/lib/python3.6/dist-packages (from tensorboard<1.13.0,>=1.12.0->tensorflow) (3.0.1)\n",
            "Requirement already satisfied: werkzeug>=0.11.10 in /usr/local/lib/python3.6/dist-packages (from tensorboard<1.13.0,>=1.12.0->tensorflow) (0.14.1)\n",
            "Requirement already satisfied: mock>=2.0.0 in /usr/local/lib/python3.6/dist-packages (from tensorflow-estimator<1.14.0rc0,>=1.13.0rc0->tensorflow) (2.0.0)\n",
            "Requirement already satisfied: pbr>=0.11 in /usr/local/lib/python3.6/dist-packages (from mock>=2.0.0->tensorflow-estimator<1.14.0rc0,>=1.13.0rc0->tensorflow) (5.1.2)\n",
            "Cloning into 'OpenNE'...\n",
            "remote: Enumerating objects: 7, done.\u001b[K\n",
            "remote: Counting objects: 100% (7/7), done.\u001b[K\n",
            "remote: Compressing objects: 100% (7/7), done.\u001b[K\n",
            "remote: Total 537 (delta 0), reused 6 (delta 0), pack-reused 530\u001b[K\n",
            "Receiving objects: 100% (537/537), 14.93 MiB | 6.61 MiB/s, done.\n",
            "Resolving deltas: 100% (286/286), done.\n",
            "running install\n",
            "running bdist_egg\n",
            "running egg_info\n",
            "creating openne.egg-info\n",
            "writing openne.egg-info/PKG-INFO\n",
            "writing dependency_links to openne.egg-info/dependency_links.txt\n",
            "writing top-level names to openne.egg-info/top_level.txt\n",
            "writing manifest file 'openne.egg-info/SOURCES.txt'\n",
            "writing manifest file 'openne.egg-info/SOURCES.txt'\n",
            "installing library code to build/bdist.linux-x86_64/egg\n",
            "running install_lib\n",
            "running build_py\n",
            "creating build\n",
            "creating build/lib\n",
            "creating build/lib/openne\n",
            "copying openne/lle.py -> build/lib/openne\n",
            "copying openne/grarep.py -> build/lib/openne\n",
            "copying openne/lap.py -> build/lib/openne\n",
            "copying openne/node2vec.py -> build/lib/openne\n",
            "copying openne/hope.py -> build/lib/openne\n",
            "copying openne/classify.py -> build/lib/openne\n",
            "copying openne/sdne.py -> build/lib/openne\n",
            "copying openne/walker.py -> build/lib/openne\n",
            "copying openne/graph.py -> build/lib/openne\n",
            "copying openne/line.py -> build/lib/openne\n",
            "copying openne/gf.py -> build/lib/openne\n",
            "copying openne/tadw.py -> build/lib/openne\n",
            "copying openne/__main__.py -> build/lib/openne\n",
            "copying openne/__init__.py -> build/lib/openne\n",
            "creating build/lib/openne/gcn\n",
            "copying openne/gcn/inits.py -> build/lib/openne/gcn\n",
            "copying openne/gcn/train.py -> build/lib/openne/gcn\n",
            "copying openne/gcn/gcnAPI.py -> build/lib/openne/gcn\n",
            "copying openne/gcn/layers.py -> build/lib/openne/gcn\n",
            "copying openne/gcn/utils.py -> build/lib/openne/gcn\n",
            "copying openne/gcn/models.py -> build/lib/openne/gcn\n",
            "copying openne/gcn/__init__.py -> build/lib/openne/gcn\n",
            "copying openne/gcn/metrics.py -> build/lib/openne/gcn\n",
            "creating build/bdist.linux-x86_64\n",
            "creating build/bdist.linux-x86_64/egg\n",
            "creating build/bdist.linux-x86_64/egg/openne\n",
            "copying build/lib/openne/lle.py -> build/bdist.linux-x86_64/egg/openne\n",
            "copying build/lib/openne/grarep.py -> build/bdist.linux-x86_64/egg/openne\n",
            "copying build/lib/openne/lap.py -> build/bdist.linux-x86_64/egg/openne\n",
            "copying build/lib/openne/node2vec.py -> build/bdist.linux-x86_64/egg/openne\n",
            "creating build/bdist.linux-x86_64/egg/openne/gcn\n",
            "copying build/lib/openne/gcn/inits.py -> build/bdist.linux-x86_64/egg/openne/gcn\n",
            "copying build/lib/openne/gcn/train.py -> build/bdist.linux-x86_64/egg/openne/gcn\n",
            "copying build/lib/openne/gcn/gcnAPI.py -> build/bdist.linux-x86_64/egg/openne/gcn\n",
            "copying build/lib/openne/gcn/layers.py -> build/bdist.linux-x86_64/egg/openne/gcn\n",
            "copying build/lib/openne/gcn/utils.py -> build/bdist.linux-x86_64/egg/openne/gcn\n",
            "copying build/lib/openne/gcn/models.py -> build/bdist.linux-x86_64/egg/openne/gcn\n",
            "copying build/lib/openne/gcn/__init__.py -> build/bdist.linux-x86_64/egg/openne/gcn\n",
            "copying build/lib/openne/gcn/metrics.py -> build/bdist.linux-x86_64/egg/openne/gcn\n",
            "copying build/lib/openne/hope.py -> build/bdist.linux-x86_64/egg/openne\n",
            "copying build/lib/openne/classify.py -> build/bdist.linux-x86_64/egg/openne\n",
            "copying build/lib/openne/sdne.py -> build/bdist.linux-x86_64/egg/openne\n",
            "copying build/lib/openne/walker.py -> build/bdist.linux-x86_64/egg/openne\n",
            "copying build/lib/openne/graph.py -> build/bdist.linux-x86_64/egg/openne\n",
            "copying build/lib/openne/line.py -> build/bdist.linux-x86_64/egg/openne\n",
            "copying build/lib/openne/gf.py -> build/bdist.linux-x86_64/egg/openne\n",
            "copying build/lib/openne/tadw.py -> build/bdist.linux-x86_64/egg/openne\n",
            "copying build/lib/openne/__main__.py -> build/bdist.linux-x86_64/egg/openne\n",
            "copying build/lib/openne/__init__.py -> build/bdist.linux-x86_64/egg/openne\n",
            "byte-compiling build/bdist.linux-x86_64/egg/openne/lle.py to lle.cpython-36.pyc\n",
            "byte-compiling build/bdist.linux-x86_64/egg/openne/grarep.py to grarep.cpython-36.pyc\n",
            "byte-compiling build/bdist.linux-x86_64/egg/openne/lap.py to lap.cpython-36.pyc\n",
            "byte-compiling build/bdist.linux-x86_64/egg/openne/node2vec.py to node2vec.cpython-36.pyc\n",
            "byte-compiling build/bdist.linux-x86_64/egg/openne/gcn/inits.py to inits.cpython-36.pyc\n",
            "byte-compiling build/bdist.linux-x86_64/egg/openne/gcn/train.py to train.cpython-36.pyc\n",
            "byte-compiling build/bdist.linux-x86_64/egg/openne/gcn/gcnAPI.py to gcnAPI.cpython-36.pyc\n",
            "byte-compiling build/bdist.linux-x86_64/egg/openne/gcn/layers.py to layers.cpython-36.pyc\n",
            "byte-compiling build/bdist.linux-x86_64/egg/openne/gcn/utils.py to utils.cpython-36.pyc\n",
            "byte-compiling build/bdist.linux-x86_64/egg/openne/gcn/models.py to models.cpython-36.pyc\n",
            "byte-compiling build/bdist.linux-x86_64/egg/openne/gcn/__init__.py to __init__.cpython-36.pyc\n",
            "byte-compiling build/bdist.linux-x86_64/egg/openne/gcn/metrics.py to metrics.cpython-36.pyc\n",
            "byte-compiling build/bdist.linux-x86_64/egg/openne/hope.py to hope.cpython-36.pyc\n",
            "byte-compiling build/bdist.linux-x86_64/egg/openne/classify.py to classify.cpython-36.pyc\n",
            "byte-compiling build/bdist.linux-x86_64/egg/openne/sdne.py to sdne.cpython-36.pyc\n",
            "byte-compiling build/bdist.linux-x86_64/egg/openne/walker.py to walker.cpython-36.pyc\n",
            "byte-compiling build/bdist.linux-x86_64/egg/openne/graph.py to graph.cpython-36.pyc\n",
            "byte-compiling build/bdist.linux-x86_64/egg/openne/line.py to line.cpython-36.pyc\n",
            "byte-compiling build/bdist.linux-x86_64/egg/openne/gf.py to gf.cpython-36.pyc\n",
            "byte-compiling build/bdist.linux-x86_64/egg/openne/tadw.py to tadw.cpython-36.pyc\n",
            "byte-compiling build/bdist.linux-x86_64/egg/openne/__main__.py to __main__.cpython-36.pyc\n",
            "byte-compiling build/bdist.linux-x86_64/egg/openne/__init__.py to __init__.cpython-36.pyc\n",
            "creating build/bdist.linux-x86_64/egg/EGG-INFO\n",
            "copying openne.egg-info/PKG-INFO -> build/bdist.linux-x86_64/egg/EGG-INFO\n",
            "copying openne.egg-info/SOURCES.txt -> build/bdist.linux-x86_64/egg/EGG-INFO\n",
            "copying openne.egg-info/dependency_links.txt -> build/bdist.linux-x86_64/egg/EGG-INFO\n",
            "copying openne.egg-info/not-zip-safe -> build/bdist.linux-x86_64/egg/EGG-INFO\n",
            "copying openne.egg-info/top_level.txt -> build/bdist.linux-x86_64/egg/EGG-INFO\n",
            "creating dist\n",
            "creating 'dist/openne-0.0.0-py3.6.egg' and adding 'build/bdist.linux-x86_64/egg' to it\n",
            "removing 'build/bdist.linux-x86_64/egg' (and everything under it)\n",
            "Processing openne-0.0.0-py3.6.egg\n",
            "creating /usr/local/lib/python3.6/dist-packages/openne-0.0.0-py3.6.egg\n",
            "Extracting openne-0.0.0-py3.6.egg to /usr/local/lib/python3.6/dist-packages\n",
            "Adding openne 0.0.0 to easy-install.pth file\n",
            "\n",
            "Installed /usr/local/lib/python3.6/dist-packages/openne-0.0.0-py3.6.egg\n",
            "Processing dependencies for openne==0.0.0\n",
            "Finished processing dependencies for openne==0.0.0\n",
            "Collecting liac-arff\n",
            "  Downloading https://files.pythonhosted.org/packages/e9/35/fbc9217cfa91d98888b43e1a19c03a50d716108c58494c558c65e308f372/liac-arff-2.4.0.tar.gz\n",
            "Building wheels for collected packages: liac-arff\n",
            "  Building wheel for liac-arff (setup.py) ... \u001b[?25ldone\n",
            "\u001b[?25h  Stored in directory: /root/.cache/pip/wheels/d1/6a/e7/529dc54d76ecede4346164a09ae3168df358945612710f5203\n",
            "Successfully built liac-arff\n",
            "Installing collected packages: liac-arff\n",
            "Successfully installed liac-arff-2.4.0\n"
          ],
          "name": "stdout"
        }
      ]
    },
    {
      "metadata": {
        "id": "uGX1uPGRR06s",
        "colab_type": "code",
        "outputId": "ed5ea871-88c0-45d4-f9dd-c3d1d829578e",
        "colab": {
          "base_uri": "https://localhost:8080/",
          "height": 334
        }
      },
      "cell_type": "code",
      "source": [
        "import os \n",
        "import numpy as np\n",
        "import pandas as pd\n",
        "\n",
        "from glob import glob\n",
        "\n",
        "from pandas import DataFrame\n",
        "from pandas import concat\n",
        "from sklearn.preprocessing import StandardScaler\n",
        "from math import sqrt\n",
        "from numpy import split, array\n",
        "\n",
        "from pandas import read_csv\n",
        "from sklearn.metrics import mean_squared_error, roc_curve, auc\n",
        "from matplotlib import pyplot\n",
        "from keras.models import Sequential\n",
        "\n",
        "from keras.layers import ConvLSTM2D, Dense, Concatenate, Activation, Permute, Lambda, multiply, GlobalMaxPooling1D, Flatten, Bidirectional, TimeDistributed, RepeatVector, LSTM, Dropout, GRU, Conv1D, Conv2D, MaxPooling1D, GlobalMaxPooling1D\n",
        "from keras.callbacks import *\n",
        "from keras.constraints import max_norm\n",
        "from keras.optimizers import *\n",
        "from sklearn.model_selection import train_test_split\n",
        "from numpy.random import seed\n",
        "\n",
        "from keras.models import Input, Model\n",
        "from keras.regularizers import l2\n",
        "from keras.utils import to_categorical \n",
        "from tcn import TCN\n",
        "from google.colab import files \n",
        "from tensorflow import set_random_seed\n",
        "set_random_seed(5888)\n",
        "\n",
        "from skmultilearn.problem_transform import BinaryRelevance\n",
        "from skmultilearn.ext import Keras\n",
        "from imblearn.over_sampling import RandomOverSampler\n",
        "from imblearn.under_sampling import RandomUnderSampler, NearMiss\n",
        "#from skmultilearn.base.problem_transformation import LabelPowerset"
      ],
      "execution_count": 0,
      "outputs": [
        {
          "output_type": "error",
          "ename": "ImportError",
          "evalue": "ignored",
          "traceback": [
            "\u001b[0;31m---------------------------------------------------------------------------\u001b[0m",
            "\u001b[0;31mImportError\u001b[0m                               Traceback (most recent call last)",
            "\u001b[0;32m<ipython-input-8-caa8655aa7a9>\u001b[0m in \u001b[0;36m<module>\u001b[0;34m()\u001b[0m\n\u001b[1;32m     35\u001b[0m \u001b[0;32mfrom\u001b[0m \u001b[0mimblearn\u001b[0m\u001b[0;34m.\u001b[0m\u001b[0mover_sampling\u001b[0m \u001b[0;32mimport\u001b[0m \u001b[0mRandomOverSampler\u001b[0m\u001b[0;34m\u001b[0m\u001b[0;34m\u001b[0m\u001b[0m\n\u001b[1;32m     36\u001b[0m \u001b[0;32mfrom\u001b[0m \u001b[0mimblearn\u001b[0m\u001b[0;34m.\u001b[0m\u001b[0munder_sampling\u001b[0m \u001b[0;32mimport\u001b[0m \u001b[0mRandomUnderSampler\u001b[0m\u001b[0;34m,\u001b[0m \u001b[0mNearMiss\u001b[0m\u001b[0;34m\u001b[0m\u001b[0;34m\u001b[0m\u001b[0m\n\u001b[0;32m---> 37\u001b[0;31m \u001b[0;32mfrom\u001b[0m \u001b[0mskmultilearn\u001b[0m\u001b[0;34m.\u001b[0m\u001b[0mbase\u001b[0m\u001b[0;34m.\u001b[0m\u001b[0mproblem_transformation\u001b[0m \u001b[0;32mimport\u001b[0m \u001b[0mLabelPowerSet\u001b[0m\u001b[0;34m\u001b[0m\u001b[0;34m\u001b[0m\u001b[0m\n\u001b[0m",
            "\u001b[0;31mImportError\u001b[0m: cannot import name 'LabelPowerSet'",
            "",
            "\u001b[0;31m---------------------------------------------------------------------------\u001b[0;32m\nNOTE: If your import is failing due to a missing package, you can\nmanually install dependencies using either !pip or !apt.\n\nTo view examples of installing some common dependencies, click the\n\"Open Examples\" button below.\n\u001b[0;31m---------------------------------------------------------------------------\u001b[0m\n"
          ]
        }
      ]
    },
    {
      "metadata": {
        "id": "k_l7Ok24Oihz",
        "colab_type": "code",
        "colab": {}
      },
      "cell_type": "code",
      "source": [
        "#############function to read data###########\n",
        "\n",
        "def prepare_data_train(fname):\n",
        "    \"\"\" read and prepare training data \"\"\"\n",
        "    # Read data\n",
        "    data = pd.read_csv(fname)\n",
        "    # events file\n",
        "    events_fname = fname.replace('_data','_events')\n",
        "    # read event file\n",
        "    labels= pd.read_csv(events_fname)\n",
        "    clean=data.drop(['id' ], axis=1)#remove id\n",
        "    labels=labels.drop(['id' ], axis=1)#remove id\n",
        "    return  clean,labels\n",
        "from sklearn.preprocessing import StandardScaler\n",
        " \n",
        "#############function to read data###########\n",
        "\n",
        "def prepare_data_train(fname):\n",
        "    \"\"\" read and prepare training data \"\"\"\n",
        "    # Read data\n",
        "    data = pd.read_csv(fname)\n",
        "    # events file\n",
        "    events_fname = fname.replace('_data','_events')\n",
        "    # read event file\n",
        "    labels= pd.read_csv(events_fname)\n",
        "    clean=data.drop(['id' ], axis=1)#remove id\n",
        "    labels=labels.drop(['id' ], axis=1)#remove id\n",
        "    return  clean,labels\n",
        "\n",
        "def prepare_data_test(fname):\n",
        "    \"\"\" read and prepare test data \"\"\"\n",
        "    # Read data\n",
        "    data = pd.read_csv(fname)\n",
        "    return data\n",
        "\n",
        "scaler = StandardScaler()\n",
        "def data_preprocess_train(X):\n",
        "    X_prep=scaler.fit_transform(X)\n",
        "    #do here your preprocessing\n",
        "    return X_prep\n",
        "\n",
        "def data_preprocess_test(X):\n",
        "    X_prep=scaler.transform(X)\n",
        "    #do here your preprocessing\n",
        "    return X_prep\n"
      ],
      "execution_count": 0,
      "outputs": []
    },
    {
      "metadata": {
        "id": "0Gzgi2OoOih4",
        "colab_type": "code",
        "outputId": "364c72c2-2c53-477b-b1d3-0965df797867",
        "colab": {
          "base_uri": "https://localhost:8080/",
          "height": 71
        }
      },
      "cell_type": "code",
      "source": [
        "from glob import glob\n",
        "import pandas as pd\n",
        "import numpy as np \n",
        "ids_tot = []\n",
        "pred_tot = []\n",
        "\n",
        "y_raw= []\n",
        "raw = []\n",
        "for subject in [1]:\n",
        "  fnames =  glob('/content/eeg_train/subj%d_series*_data.csv' % (subject))\n",
        "  for fname in fnames:\n",
        "    data,labels=prepare_data_train(fname)\n",
        "    raw.append(data)\n",
        "    y_raw.append(labels)\n",
        "\n",
        "X = pd.concat(raw)\n",
        "y = pd.concat(y_raw)\n",
        "    #transform in numpy array\n",
        "    #transform train data in numpy array\n",
        "X_train = np.asarray(X.astype(np.float32))\n",
        "X_train = data_preprocess_train(X_train)\n",
        "y = np.asarray(y.astype(np.float32))\n",
        "\n",
        "\n",
        "test = []\n",
        "idx=[]\n",
        "for subject in [1]:\n",
        "  fnames =  glob('/content/test/subj%d_series*_data.csv' % (subject))\n",
        "  \n",
        "  for fname in fnames:\n",
        "    data=prepare_data_test(fname)\n",
        "    test.append(data)\n",
        "    idx.append(np.array(data['id']))\n",
        "X_test = pd.concat(test)\n",
        "ids = np.concatenate(idx)\n",
        "ids_tot.append(ids)\n",
        "X_test = X_test.drop(['id' ], axis=1)#remove id\n",
        "    #transform test data in numpy array\n",
        "\n",
        "X_test = data_preprocess_test(np.array(X_test))"
      ],
      "execution_count": 0,
      "outputs": [
        {
          "output_type": "stream",
          "text": [
            "/usr/local/lib/python3.6/dist-packages/sklearn/utils/validation.py:595: DataConversionWarning: Data with input dtype int64 was converted to float64 by StandardScaler.\n",
            "  warnings.warn(msg, DataConversionWarning)\n"
          ],
          "name": "stderr"
        }
      ]
    },
    {
      "metadata": {
        "id": "ytEAppCds8EK",
        "colab_type": "code",
        "outputId": "9c893950-41b2-44e3-a950-0258f255df7f",
        "colab": {
          "base_uri": "https://localhost:8080/",
          "height": 34
        }
      },
      "cell_type": "code",
      "source": [
        "X_train.shape, y.shape, X_test.shape"
      ],
      "execution_count": 0,
      "outputs": [
        {
          "output_type": "execute_result",
          "data": {
            "text/plain": [
              "((1422392, 32), (1422392, 6), (233081, 32))"
            ]
          },
          "metadata": {
            "tags": []
          },
          "execution_count": 11
        }
      ]
    },
    {
      "metadata": {
        "id": "fwFvlw88rwz0",
        "colab_type": "code",
        "outputId": "63a548b5-bd7f-497b-9e81-41ed9362eaca",
        "colab": {
          "base_uri": "https://localhost:8080/",
          "height": 221
        }
      },
      "cell_type": "code",
      "source": [
        "from skmultilearn.problem_transform import LabelPowerset\n",
        "lp = LabelPowerset()\n",
        "yt = lp.transform(y)\n",
        "pd.Series(yt).value_counts()"
      ],
      "execution_count": 0,
      "outputs": [
        {
          "output_type": "execute_result",
          "data": {
            "text/plain": [
              "0     1243589\n",
              "1       39000\n",
              "8       27670\n",
              "6       27670\n",
              "5       25013\n",
              "3       22624\n",
              "7       11330\n",
              "2        9120\n",
              "9        7256\n",
              "10       6731\n",
              "4        2389\n",
              "dtype: int64"
            ]
          },
          "metadata": {
            "tags": []
          },
          "execution_count": 12
        }
      ]
    },
    {
      "metadata": {
        "id": "xdfj_kC6sBrF",
        "colab_type": "code",
        "colab": {}
      },
      "cell_type": "code",
      "source": [
        "from imblearn.under_sampling import NearMiss\n",
        "nmiss = NearMiss(sampling_strategy = {0:20000})"
      ],
      "execution_count": 0,
      "outputs": []
    },
    {
      "metadata": {
        "id": "7GBczTTisilK",
        "colab_type": "code",
        "colab": {}
      },
      "cell_type": "code",
      "source": [
        "xt_res, yt_res = nmiss.fit_resample(X_train, yt) #undersample and then do the train test split "
      ],
      "execution_count": 0,
      "outputs": []
    },
    {
      "metadata": {
        "id": "EJpNrN80HXjt",
        "colab_type": "code",
        "colab": {}
      },
      "cell_type": "code",
      "source": [
        "import time\n",
        "import pandas as pd\n",
        "import numpy as np\n",
        "import matplotlib.pyplot as plt\n",
        "import matplotlib.patheffects as PathEffects\n",
        "%matplotlib inline\n",
        "\n",
        "import seaborn as sns\n",
        "sns.set_style('darkgrid')\n",
        "sns.set_palette('muted')\n",
        "sns.set_context(\"notebook\", font_scale=1.5,\n",
        "                rc={\"lines.linewidth\": 2.5})\n",
        "RS = 123\n",
        "def fashion_scatter(x, colors):\n",
        "    # choose a color palette with seaborn.\n",
        "    num_classes = len(np.unique(colors))\n",
        "    palette = np.array(sns.color_palette(\"hls\", num_classes))\n",
        "\n",
        "    # create a scatter plot.\n",
        "    f = plt.figure(figsize=(8, 8))\n",
        "    ax = plt.subplot(aspect='equal')\n",
        "    sc = ax.scatter(x[:,0], x[:,1], lw=0, s=40, c=palette[colors.astype(np.int)])\n",
        "    plt.xlim(-25, 25)\n",
        "    plt.ylim(-25, 25)\n",
        "    ax.axis('off')\n",
        "    ax.axis('tight')\n",
        "\n",
        "    # add the labels for each digit corresponding to the label\n",
        "    txts = []\n",
        "\n",
        "    for i in range(num_classes):\n",
        "\n",
        "        # Position of each label at median of data points.\n",
        "\n",
        "        xtext, ytext = np.median(x[colors == i, :], axis=0)\n",
        "        txt = ax.text(xtext, ytext, str(i), fontsize=12)\n",
        "        txt.set_path_effects([\n",
        "            PathEffects.Stroke(linewidth=5, foreground=\"w\"),\n",
        "            PathEffects.Normal()])\n",
        "        txts.append(txt)\n",
        "\n",
        "    return f, ax, sc, txts"
      ],
      "execution_count": 0,
      "outputs": []
    },
    {
      "metadata": {
        "id": "NviLv5IbIK3S",
        "colab_type": "code",
        "outputId": "4bbb46b7-1990-4c22-8fd1-1110a5bab0cf",
        "colab": {
          "base_uri": "https://localhost:8080/",
          "height": 34
        }
      },
      "cell_type": "code",
      "source": [
        "from sklearn.decomposition import PCA\n",
        "\n",
        "time_start = time.time()\n",
        "\n",
        "pca = PCA(n_components=4)\n",
        "pca_result = pca.fit_transform(X_train)\n",
        "\n",
        "print('PCA done! Time elapsed: {} seconds'.format(time.time()-time_start))"
      ],
      "execution_count": 0,
      "outputs": [
        {
          "output_type": "stream",
          "text": [
            "PCA done! Time elapsed: 4.282570123672485 seconds\n"
          ],
          "name": "stdout"
        }
      ]
    },
    {
      "metadata": {
        "id": "0eDOC2HOIiA4",
        "colab_type": "code",
        "outputId": "5ebdef7a-b793-48a7-a22d-2cdce2997054",
        "colab": {
          "base_uri": "https://localhost:8080/",
          "height": 34
        }
      },
      "cell_type": "code",
      "source": [
        "pca_df = pd.DataFrame(columns = ['pca1','pca2','pca3','pca4'])\n",
        "\n",
        "pca_df['pca1'] = pca_result[:,0]\n",
        "pca_df['pca2'] = pca_result[:,1]\n",
        "pca_df['pca3'] = pca_result[:,2]\n",
        "pca_df['pca4'] = pca_result[:,3]\n",
        "\n",
        "print('Variance explained per principal component: {}'.format(pca.explained_variance_ratio_))"
      ],
      "execution_count": 0,
      "outputs": [
        {
          "output_type": "stream",
          "text": [
            "Variance explained per principal component: [0.42718203 0.11557017 0.0709432  0.04517946]\n"
          ],
          "name": "stdout"
        }
      ]
    },
    {
      "metadata": {
        "id": "dLlO5SWtI0-m",
        "colab_type": "code",
        "outputId": "810c70ce-e51a-411f-9366-a6bf4b554565",
        "colab": {
          "base_uri": "https://localhost:8080/",
          "height": 725
        }
      },
      "cell_type": "code",
      "source": [
        "top_two_comp = pca_df[['pca1','pca2']] # taking first and second principal component\n",
        "\n",
        "fashion_scatter(top_two_comp.values,yt) # Visualizing the PCA output"
      ],
      "execution_count": 0,
      "outputs": [
        {
          "output_type": "execute_result",
          "data": {
            "text/plain": [
              "(<Figure size 576x576 with 1 Axes>,\n",
              " <matplotlib.axes._subplots.AxesSubplot at 0x7f029d1789b0>,\n",
              " <matplotlib.collections.PathCollection at 0x7f0298c3dd30>,\n",
              " [Text(0.2870195, -0.16683678, '0'),\n",
              "  Text(-1.0989608, -0.26527518, '1'),\n",
              "  Text(-1.8227584, -0.9480836, '2'),\n",
              "  Text(-1.2373312, -0.75737035, '3'),\n",
              "  Text(-0.8927579, -0.3360269, '4'),\n",
              "  Text(-1.0467259, -0.6193466, '5'),\n",
              "  Text(0.30665344, -1.4052598, '6'),\n",
              "  Text(0.6973564, -1.5040059, '7'),\n",
              "  Text(-0.13392898, -1.1091388, '8'),\n",
              "  Text(-1.1093204, -0.366948, '9'),\n",
              "  Text(-1.3401619, -0.5797329, '10')])"
            ]
          },
          "metadata": {
            "tags": []
          },
          "execution_count": 18
        },
        {
          "output_type": "display_data",
          "data": {
            "image/png": "[encoded data removed]",
            "text/plain": [
              "<Figure size 576x576 with 1 Axes>"
            ]
          },
          "metadata": {
            "tags": []
          }
        }
      ]
    },
    {
      "metadata": {
        "id": "KxqFnQJcJnR-",
        "colab_type": "code",
        "colab": {}
      },
      "cell_type": "code",
      "source": [
        "from sklearn.manifold import TSNE\n",
        "import time\n",
        "time_start = time.time()\n",
        "my_tsne = TSNE(random_state=RS).fit_transform(X_train)\n",
        "\n",
        "print('t-SNE done! Time elapsed: {} seconds'.format(time.time()-time_start))"
      ],
      "execution_count": 0,
      "outputs": []
    },
    {
      "metadata": {
        "id": "-C_94a9EJyRo",
        "colab_type": "code",
        "colab": {}
      },
      "cell_type": "code",
      "source": [
        "fashion_scatter(my_tsne, yt)"
      ],
      "execution_count": 0,
      "outputs": []
    },
    {
      "metadata": {
        "id": "PQOP9mhlxY1F",
        "colab_type": "code",
        "outputId": "5eb36fa7-7c85-43a4-854a-62ae17c1b860",
        "colab": {
          "base_uri": "https://localhost:8080/",
          "height": 187
        }
      },
      "cell_type": "code",
      "source": [
        "pd.Series(yt_res).value_counts()"
      ],
      "execution_count": 0,
      "outputs": [
        {
          "output_type": "execute_result",
          "data": {
            "text/plain": [
              "1    39000\n",
              "9    20770\n",
              "7    20770\n",
              "6    19224\n",
              "8    18230\n",
              "3    18041\n",
              "4    11443\n",
              "2     9473\n",
              "5     8290\n",
              "dtype: int64"
            ]
          },
          "metadata": {
            "tags": []
          },
          "execution_count": 50
        }
      ]
    },
    {
      "metadata": {
        "id": "g67OJ2UILAj-",
        "colab_type": "code",
        "colab": {}
      },
      "cell_type": "code",
      "source": [
        "!git clone https://github.com/WillKoehrsen/feature-selector.git\n",
        "os.chdir(\"feature-selector\")\n",
        "!python setup.py install "
      ],
      "execution_count": 0,
      "outputs": []
    },
    {
      "metadata": {
        "id": "zKX5yyGmLkAB",
        "colab_type": "code",
        "colab": {}
      },
      "cell_type": "code",
      "source": [
        "from feature_selector import FeatureSelector\n",
        "# Features are in train and labels are in train_labels\n",
        "fs = FeatureSelector(data = pd.DataFrame(xt_res), labels = yt_res)"
      ],
      "execution_count": 0,
      "outputs": []
    },
    {
      "metadata": {
        "id": "mb-JNNGuLwkl",
        "colab_type": "code",
        "outputId": "863e4671-b1a3-4d8f-c109-e2b4f6aa5e8b",
        "colab": {
          "base_uri": "https://localhost:8080/",
          "height": 51
        }
      },
      "cell_type": "code",
      "source": [
        "fs.identify_collinear(correlation_threshold = 0.75)\n"
      ],
      "execution_count": 0,
      "outputs": [
        {
          "output_type": "stream",
          "text": [
            "6 features with a correlation magnitude greater than 0.75.\n",
            "\n"
          ],
          "name": "stdout"
        }
      ]
    },
    {
      "metadata": {
        "id": "FJyVaU9JMhS-",
        "colab_type": "code",
        "outputId": "03ed95be-0228-4622-d481-c3a8d496d993",
        "colab": {
          "base_uri": "https://localhost:8080/",
          "height": 221
        }
      },
      "cell_type": "code",
      "source": [
        "collinear_features = fs.ops['collinear']\n",
        "print(collinear_features)\n",
        "fs.record_collinear.head()\n"
      ],
      "execution_count": 0,
      "outputs": [
        {
          "output_type": "stream",
          "text": [
            "[23, 24, 27, 28, 30, 31]\n"
          ],
          "name": "stdout"
        },
        {
          "output_type": "execute_result",
          "data": {
            "text/html": [
              "<div>\n",
              "<style scoped>\n",
              "    .dataframe tbody tr th:only-of-type {\n",
              "        vertical-align: middle;\n",
              "    }\n",
              "\n",
              "    .dataframe tbody tr th {\n",
              "        vertical-align: top;\n",
              "    }\n",
              "\n",
              "    .dataframe thead th {\n",
              "        text-align: right;\n",
              "    }\n",
              "</style>\n",
              "<table border=\"1\" class=\"dataframe\">\n",
              "  <thead>\n",
              "    <tr style=\"text-align: right;\">\n",
              "      <th></th>\n",
              "      <th>corr_feature</th>\n",
              "      <th>corr_value</th>\n",
              "      <th>drop_feature</th>\n",
              "    </tr>\n",
              "  </thead>\n",
              "  <tbody>\n",
              "    <tr>\n",
              "      <th>0</th>\n",
              "      <td>22</td>\n",
              "      <td>0.792700</td>\n",
              "      <td>23</td>\n",
              "    </tr>\n",
              "    <tr>\n",
              "      <th>1</th>\n",
              "      <td>23</td>\n",
              "      <td>0.752606</td>\n",
              "      <td>24</td>\n",
              "    </tr>\n",
              "    <tr>\n",
              "      <th>2</th>\n",
              "      <td>22</td>\n",
              "      <td>0.766958</td>\n",
              "      <td>27</td>\n",
              "    </tr>\n",
              "    <tr>\n",
              "      <th>3</th>\n",
              "      <td>23</td>\n",
              "      <td>0.752740</td>\n",
              "      <td>28</td>\n",
              "    </tr>\n",
              "    <tr>\n",
              "      <th>4</th>\n",
              "      <td>29</td>\n",
              "      <td>0.788678</td>\n",
              "      <td>30</td>\n",
              "    </tr>\n",
              "  </tbody>\n",
              "</table>\n",
              "</div>"
            ],
            "text/plain": [
              "  corr_feature  corr_value drop_feature\n",
              "0           22    0.792700           23\n",
              "1           23    0.752606           24\n",
              "2           22    0.766958           27\n",
              "3           23    0.752740           28\n",
              "4           29    0.788678           30"
            ]
          },
          "metadata": {
            "tags": []
          },
          "execution_count": 35
        }
      ]
    },
    {
      "metadata": {
        "id": "2nEDnfBxWLmd",
        "colab_type": "code",
        "colab": {}
      },
      "cell_type": "code",
      "source": [
        "xt_slim = pd.DataFrame(xt_res).drop(collinear_features, axis = 1)"
      ],
      "execution_count": 0,
      "outputs": []
    },
    {
      "metadata": {
        "id": "npuL2n7yauM3",
        "colab_type": "code",
        "outputId": "9ad8f019-12ac-41dc-d341-d48894920133",
        "colab": {
          "base_uri": "https://localhost:8080/",
          "height": 34
        }
      },
      "cell_type": "code",
      "source": [
        "x_train, x_val, y_train, y_val = train_test_split(xt_slim, yt_res, test_size = 0.20, shuffle = True)\n",
        "print(x_train.shape, x_val.shape)"
      ],
      "execution_count": 0,
      "outputs": [
        {
          "output_type": "stream",
          "text": [
            "(159042, 26) (39761, 26)\n"
          ],
          "name": "stdout"
        }
      ]
    },
    {
      "metadata": {
        "id": "hinkySm-XuD-",
        "colab_type": "code",
        "outputId": "0548eafb-afce-4f8d-c214-08b55e9c0169",
        "colab": {
          "base_uri": "https://localhost:8080/",
          "height": 34
        }
      },
      "cell_type": "code",
      "source": [
        ""
      ],
      "execution_count": 0,
      "outputs": [
        {
          "output_type": "execute_result",
          "data": {
            "text/plain": [
              "(69639, 31)"
            ]
          },
          "metadata": {
            "tags": []
          },
          "execution_count": 27
        }
      ]
    },
    {
      "metadata": {
        "id": "yFFfR1pXNSol",
        "colab_type": "code",
        "colab": {}
      },
      "cell_type": "code",
      "source": [
        "fs.identify_zero_importance(task = 'classification', \n",
        "                            eval_metric = 'auc', \n",
        "                            n_iterations = 10, \n",
        "                             early_stopping = True)\n",
        "# list of zero importance features\n",
        "zero_importance_features = fs.ops['zero_importance']"
      ],
      "execution_count": 0,
      "outputs": []
    },
    {
      "metadata": {
        "id": "w1sVV2CSbv3t",
        "colab_type": "text"
      },
      "cell_type": "markdown",
      "source": [
        "# Random Forest classifier\n"
      ]
    },
    {
      "metadata": {
        "id": "P7xPLf_1gncx",
        "colab_type": "code",
        "colab": {}
      },
      "cell_type": "code",
      "source": [
        "from skmultilearn.embedding import SKLearnEmbedder, EmbeddingClassifier\n",
        "from sklearn.manifold import SpectralEmbedding\n",
        "from sklearn.ensemble import RandomForestRegressor, RandomForestClassifier\n",
        "from skmultilearn.adapt import MLkNN\n",
        "\n",
        "\n",
        "\n",
        "clf = BinaryRelevance(classifier = RandomForestClassifier(n_estimators=20, class_weight = \"balanced\", verbose=1, max_depth = 5), require_dense=[True,True])"
      ],
      "execution_count": 0,
      "outputs": []
    },
    {
      "metadata": {
        "id": "kiP1RwTmsIYP",
        "colab_type": "code",
        "outputId": "e8c5f75b-360b-4c0e-a77d-4f7ecec6367e",
        "colab": {
          "base_uri": "https://localhost:8080/",
          "height": 357
        }
      },
      "cell_type": "code",
      "source": [
        "clf.fit(x_train, y_train)"
      ],
      "execution_count": 0,
      "outputs": [
        {
          "output_type": "stream",
          "text": [
            "[Parallel(n_jobs=1)]: Using backend SequentialBackend with 1 concurrent workers.\n",
            "[Parallel(n_jobs=1)]: Done  20 out of  20 | elapsed:   34.1s finished\n",
            "[Parallel(n_jobs=1)]: Using backend SequentialBackend with 1 concurrent workers.\n",
            "[Parallel(n_jobs=1)]: Done  20 out of  20 | elapsed:   32.6s finished\n",
            "[Parallel(n_jobs=1)]: Using backend SequentialBackend with 1 concurrent workers.\n",
            "[Parallel(n_jobs=1)]: Done  20 out of  20 | elapsed:   34.7s finished\n",
            "[Parallel(n_jobs=1)]: Using backend SequentialBackend with 1 concurrent workers.\n",
            "[Parallel(n_jobs=1)]: Done  20 out of  20 | elapsed:   33.8s finished\n",
            "[Parallel(n_jobs=1)]: Using backend SequentialBackend with 1 concurrent workers.\n",
            "[Parallel(n_jobs=1)]: Done  20 out of  20 | elapsed:   33.9s finished\n",
            "[Parallel(n_jobs=1)]: Using backend SequentialBackend with 1 concurrent workers.\n",
            "[Parallel(n_jobs=1)]: Done  20 out of  20 | elapsed:   36.1s finished\n"
          ],
          "name": "stderr"
        },
        {
          "output_type": "execute_result",
          "data": {
            "text/plain": [
              "BinaryRelevance(classifier=RandomForestClassifier(bootstrap=True, class_weight='balanced',\n",
              "            criterion='gini', max_depth=4, max_features='auto',\n",
              "            max_leaf_nodes=None, min_impurity_decrease=0.0,\n",
              "            min_impurity_split=None, min_samples_leaf=1,\n",
              "            min_samples_split=2, min_weight_fraction_leaf=0.0,\n",
              "            n_estimators=20, n_jobs=None, oob_score=False,\n",
              "            random_state=None, verbose=1, warm_start=False),\n",
              "        require_dense=[True, True])"
            ]
          },
          "metadata": {
            "tags": []
          },
          "execution_count": 64
        }
      ]
    },
    {
      "metadata": {
        "id": "6Hzf6lX88WW6",
        "colab_type": "code",
        "outputId": "46234474-014b-43c4-b440-fc6c5e610c34",
        "colab": {
          "base_uri": "https://localhost:8080/",
          "height": 323
        }
      },
      "cell_type": "code",
      "source": [
        "result = clf.predict(x_val)\n",
        "result = result.toarray()\n",
        "\n",
        "from sklearn.metrics import auc, roc_curve\n",
        "for index in range(6):\n",
        "  fpr_keras, tpr_keras, thresholds_keras = roc_curve(y_val[:,index], result[:,index])\n",
        "  auc_keras = auc(fpr_keras, tpr_keras)\n",
        "  print(auc_keras)"
      ],
      "execution_count": 0,
      "outputs": [
        {
          "output_type": "stream",
          "text": [
            "[Parallel(n_jobs=1)]: Using backend SequentialBackend with 1 concurrent workers.\n",
            "[Parallel(n_jobs=1)]: Done  20 out of  20 | elapsed:    0.6s finished\n",
            "[Parallel(n_jobs=1)]: Using backend SequentialBackend with 1 concurrent workers.\n",
            "[Parallel(n_jobs=1)]: Done  20 out of  20 | elapsed:    0.7s finished\n",
            "[Parallel(n_jobs=1)]: Using backend SequentialBackend with 1 concurrent workers.\n",
            "[Parallel(n_jobs=1)]: Done  20 out of  20 | elapsed:    0.6s finished\n",
            "[Parallel(n_jobs=1)]: Using backend SequentialBackend with 1 concurrent workers.\n",
            "[Parallel(n_jobs=1)]: Done  20 out of  20 | elapsed:    0.5s finished\n",
            "[Parallel(n_jobs=1)]: Using backend SequentialBackend with 1 concurrent workers.\n",
            "[Parallel(n_jobs=1)]: Done  20 out of  20 | elapsed:    0.4s finished\n",
            "[Parallel(n_jobs=1)]: Using backend SequentialBackend with 1 concurrent workers.\n"
          ],
          "name": "stderr"
        },
        {
          "output_type": "stream",
          "text": [
            "0.7035435265161376\n",
            "0.6631063674452841\n",
            "0.6504644578526994\n",
            "0.672597188947326\n",
            "0.6876487953075281\n",
            "0.6653013340099502\n"
          ],
          "name": "stdout"
        },
        {
          "output_type": "stream",
          "text": [
            "[Parallel(n_jobs=1)]: Done  20 out of  20 | elapsed:    0.4s finished\n"
          ],
          "name": "stderr"
        }
      ]
    },
    {
      "metadata": {
        "id": "Eo_o07IMv-Z-",
        "colab_type": "text"
      },
      "cell_type": "markdown",
      "source": [
        "\n",
        "# Keras\n"
      ]
    },
    {
      "metadata": {
        "id": "hTpqI8oJmaxH",
        "colab_type": "code",
        "colab": {}
      },
      "cell_type": "code",
      "source": [
        "import sklearn\n",
        "weights = sklearn.utils.class_weight.compute_class_weight('balanced', range(12), yt)"
      ],
      "execution_count": 0,
      "outputs": []
    },
    {
      "metadata": {
        "id": "LTJCxFpk-1Gc",
        "colab_type": "code",
        "outputId": "c405005a-7e5e-4b34-d125-017c87310921",
        "colab": {
          "base_uri": "https://localhost:8080/",
          "height": 68
        }
      },
      "cell_type": "code",
      "source": [
        "weights"
      ],
      "execution_count": 0,
      "outputs": [
        {
          "output_type": "execute_result",
          "data": {
            "text/plain": [
              "array([9.54670106e-02, 2.92558654e+00, 1.08272798e+01, 5.62876471e+00,\n",
              "       1.40601201e+01, 1.43736300e+01, 4.98886666e+00, 4.84811128e+00,\n",
              "       7.37757428e+00, 4.84811128e+00, 4.26295068e+01, 1.49147549e+03])"
            ]
          },
          "metadata": {
            "tags": []
          },
          "execution_count": 15
        }
      ]
    },
    {
      "metadata": {
        "id": "mD24mCJbt-cN",
        "colab_type": "code",
        "outputId": "9b5d7032-47fa-4528-cd92-2616694d8060",
        "colab": {
          "base_uri": "https://localhost:8080/",
          "height": 34
        }
      },
      "cell_type": "code",
      "source": [
        "y_train = pd.DataFrame(y_train)\n",
        "set(y_train)"
      ],
      "execution_count": 0,
      "outputs": [
        {
          "output_type": "execute_result",
          "data": {
            "text/plain": [
              "{0, 1, 2, 3, 4, 5, 6, 7, 8, 9, 10, 11}"
            ]
          },
          "metadata": {
            "tags": []
          },
          "execution_count": 41
        }
      ]
    },
    {
      "metadata": {
        "id": "mP4W4UPPtmrd",
        "colab_type": "code",
        "outputId": "bac28927-e8b2-4105-b7ae-2180e68293b5",
        "colab": {
          "base_uri": "https://localhost:8080/",
          "height": 34
        }
      },
      "cell_type": "code",
      "source": [
        "y_train.shape"
      ],
      "execution_count": 0,
      "outputs": [
        {
          "output_type": "execute_result",
          "data": {
            "text/plain": [
              "(132192,)"
            ]
          },
          "metadata": {
            "tags": []
          },
          "execution_count": 55
        }
      ]
    },
    {
      "metadata": {
        "id": "yy70XhactrmQ",
        "colab_type": "code",
        "colab": {}
      },
      "cell_type": "code",
      "source": [
        ""
      ],
      "execution_count": 0,
      "outputs": []
    },
    {
      "metadata": {
        "id": "ozTprP8JzWNz",
        "colab_type": "code",
        "outputId": "2009e5b2-aa87-46bc-8092-73b840938635",
        "colab": {
          "base_uri": "https://localhost:8080/",
          "height": 34
        }
      },
      "cell_type": "code",
      "source": [
        "y_train = to_categorical(y_train)\n",
        "y_val = to_categorical(y_val)\n",
        "print(y_train.shape, y_val.shape)"
      ],
      "execution_count": 0,
      "outputs": [
        {
          "output_type": "stream",
          "text": [
            "(159042, 11) (39761, 11)\n"
          ],
          "name": "stdout"
        }
      ]
    },
    {
      "metadata": {
        "id": "ClkDwT000GJh",
        "colab_type": "code",
        "outputId": "567d2a94-e363-4e0f-bba0-5a2a4c841e54",
        "colab": {
          "base_uri": "https://localhost:8080/",
          "height": 34
        }
      },
      "cell_type": "code",
      "source": [
        "x_train.shape"
      ],
      "execution_count": 0,
      "outputs": [
        {
          "output_type": "execute_result",
          "data": {
            "text/plain": [
              "(278553, 32)"
            ]
          },
          "metadata": {
            "tags": []
          },
          "execution_count": 21
        }
      ]
    },
    {
      "metadata": {
        "id": "sa252dCneAg8",
        "colab_type": "code",
        "colab": {}
      },
      "cell_type": "code",
      "source": [
        "\n",
        "import keras \n",
        "from keras import backend\n",
        "from matplotlib import pyplot\n",
        "from math import pi\n",
        "from math import cos\n",
        "from math import floor\n",
        "checkpointer = keras.callbacks.ModelCheckpoint(\"subj1.hdf5\", monitor='val_loss', verbose=1, save_best_only=True, save_weights_only=False, mode='auto', period=2)\n",
        "\n",
        "# define custom learning rate schedule\n",
        "class CosineAnnealingLearningRateSchedule(Callback):\n",
        "\t# constructor\n",
        "\tdef __init__(self, n_epochs, n_cycles, lrate_max, verbose=0):\n",
        "\t\tself.epochs = n_epochs\n",
        "\t\tself.cycles = n_cycles\n",
        "\t\tself.lr_max = lrate_max\n",
        "\t\tself.lrates = list()\n",
        "\n",
        "\t# calculate learning rate for an epoch\n",
        "\tdef cosine_annealing(self, epoch, n_epochs, n_cycles, lrate_max):\n",
        "\t\tepochs_per_cycle = floor(n_epochs/n_cycles)\n",
        "\t\tcos_inner = (pi * (epoch % epochs_per_cycle)) / (epochs_per_cycle)\n",
        "\t\treturn lrate_max/2 * (cos(cos_inner) + 1)\n",
        "\n",
        "\t# calculate and set learning rate at the start of the epoch\n",
        "\tdef on_epoch_begin(self, epoch, logs=None):\n",
        "\t\t# calculate learning rate\n",
        "\t\tlr = self.cosine_annealing(epoch, self.epochs, self.cycles, self.lr_max)\n",
        "\t\t# set learning rate\n",
        "\t\tbackend.set_value(self.model.optimizer.lr, lr)\n",
        "\t\t# log value\n",
        "\t\tself.lrates.append(lr)\n",
        "    \n",
        "ca = CosineAnnealingLearningRateSchedule(n_epochs = 500, n_cycles = 125, lrate_max = 1e-2)"
      ],
      "execution_count": 0,
      "outputs": []
    },
    {
      "metadata": {
        "id": "hmUPu5W0irwx",
        "colab_type": "code",
        "outputId": "6ab52ba4-2cf4-4215-db6e-fd9275aa644c",
        "colab": {
          "base_uri": "https://localhost:8080/",
          "height": 25551
        }
      },
      "cell_type": "code",
      "source": [
        "from keras.layers import Reshape\n",
        "def create_model_single_class(input_dim, output_dim):\n",
        "    # create model\n",
        "    i = Input(shape = (26,))\n",
        "    o = Reshape((1,26))(i)\n",
        "    o = TCN(64, nb_stacks = 1, dropout_rate = 0.5, use_skip_connections = True, return_sequences = False)(o)\n",
        "    o = Dense(11, activation = \"softmax\")(o)\n",
        "    model = Model(inputs=[i], outputs=[o])\n",
        "    model.compile(loss='categorical_crossentropy', optimizer = adam(lr=1e-2), metrics=['acc'])\n",
        "    return model \n",
        "\n",
        "model = create_model_single_class(26,11)  \n",
        "\n",
        "model.fit(x_train, y_train, validation_data = (x_val,y_val), epochs = 500, batch_size = 2048, callbacks = [ca, checkpointer])\n",
        "#KERAS_PARAMS = dict(epochs=5, batch_size=10000,verbose=1, callbacks = [], class_weight = dict(enumerate(weights)))\n",
        "#clf = BinaryRelevance(classifier = Keras(create_model_single_class, False, KERAS_PARAMS), require_dense = [True, True]) \n",
        "#clf.fit(x_train, y_train)"
      ],
      "execution_count": 0,
      "outputs": [
        {
          "output_type": "stream",
          "text": [
            "Train on 159042 samples, validate on 39761 samples\n",
            "Epoch 1/500\n",
            "159042/159042 [==============================] - 6s 41us/step - loss: 1.8689 - acc: 0.3517 - val_loss: 1.6678 - val_acc: 0.4132\n",
            "Epoch 2/500\n",
            "159042/159042 [==============================] - 3s 21us/step - loss: 1.6568 - acc: 0.4168 - val_loss: 1.5142 - val_acc: 0.4598\n",
            "\n",
            "Epoch 00002: val_loss improved from inf to 1.51419, saving model to subj1.hdf5\n",
            "Epoch 3/500\n",
            "159042/159042 [==============================] - 4s 22us/step - loss: 1.5481 - acc: 0.4476 - val_loss: 1.4080 - val_acc: 0.4899\n",
            "Epoch 4/500\n",
            "159042/159042 [==============================] - 3s 22us/step - loss: 1.4750 - acc: 0.4693 - val_loss: 1.3498 - val_acc: 0.5095\n",
            "\n",
            "Epoch 00004: val_loss improved from 1.51419 to 1.34981, saving model to subj1.hdf5\n",
            "Epoch 5/500\n",
            "159042/159042 [==============================] - 3s 22us/step - loss: 1.4854 - acc: 0.4663 - val_loss: 1.3165 - val_acc: 0.5189\n",
            "Epoch 6/500\n",
            "159042/159042 [==============================] - 3s 21us/step - loss: 1.4080 - acc: 0.4882 - val_loss: 1.2257 - val_acc: 0.5525\n",
            "\n",
            "Epoch 00006: val_loss improved from 1.34981 to 1.22569, saving model to subj1.hdf5\n",
            "Epoch 7/500\n",
            "159042/159042 [==============================] - 3s 21us/step - loss: 1.3336 - acc: 0.5110 - val_loss: 1.1612 - val_acc: 0.5705\n",
            "Epoch 8/500\n",
            "159042/159042 [==============================] - 3s 21us/step - loss: 1.2797 - acc: 0.5293 - val_loss: 1.1137 - val_acc: 0.5870\n",
            "\n",
            "Epoch 00008: val_loss improved from 1.22569 to 1.11372, saving model to subj1.hdf5\n",
            "Epoch 9/500\n",
            "159042/159042 [==============================] - 3s 22us/step - loss: 1.3258 - acc: 0.5134 - val_loss: 1.1413 - val_acc: 0.5756\n",
            "Epoch 10/500\n",
            "159042/159042 [==============================] - 3s 22us/step - loss: 1.2872 - acc: 0.5267 - val_loss: 1.0865 - val_acc: 0.5941\n",
            "\n",
            "Epoch 00010: val_loss improved from 1.11372 to 1.08652, saving model to subj1.hdf5\n",
            "Epoch 11/500\n",
            "159042/159042 [==============================] - 3s 21us/step - loss: 1.2312 - acc: 0.5436 - val_loss: 1.0450 - val_acc: 0.6088\n",
            "Epoch 12/500\n",
            "159042/159042 [==============================] - 3s 21us/step - loss: 1.1896 - acc: 0.5587 - val_loss: 1.0124 - val_acc: 0.6194\n",
            "\n",
            "Epoch 00012: val_loss improved from 1.08652 to 1.01237, saving model to subj1.hdf5\n",
            "Epoch 13/500\n",
            "159042/159042 [==============================] - 3s 22us/step - loss: 1.2435 - acc: 0.5401 - val_loss: 1.0675 - val_acc: 0.6029\n",
            "Epoch 14/500\n",
            "159042/159042 [==============================] - 3s 22us/step - loss: 1.2237 - acc: 0.5460 - val_loss: 1.0217 - val_acc: 0.6146\n",
            "\n",
            "Epoch 00014: val_loss did not improve from 1.01237\n",
            "Epoch 15/500\n",
            "159042/159042 [==============================] - 3s 22us/step - loss: 1.1750 - acc: 0.5627 - val_loss: 0.9764 - val_acc: 0.6327\n",
            "Epoch 16/500\n",
            "159042/159042 [==============================] - 3s 22us/step - loss: 1.1365 - acc: 0.5768 - val_loss: 0.9564 - val_acc: 0.6407\n",
            "\n",
            "Epoch 00016: val_loss improved from 1.01237 to 0.95638, saving model to subj1.hdf5\n",
            "Epoch 17/500\n",
            "159042/159042 [==============================] - 3s 21us/step - loss: 1.1891 - acc: 0.5583 - val_loss: 1.0083 - val_acc: 0.6242\n",
            "Epoch 18/500\n",
            "159042/159042 [==============================] - 3s 21us/step - loss: 1.1764 - acc: 0.5622 - val_loss: 0.9747 - val_acc: 0.6316\n",
            "\n",
            "Epoch 00018: val_loss did not improve from 0.95638\n",
            "Epoch 19/500\n",
            "159042/159042 [==============================] - 3s 21us/step - loss: 1.1360 - acc: 0.5758 - val_loss: 0.9355 - val_acc: 0.6474\n",
            "Epoch 20/500\n",
            "159042/159042 [==============================] - 3s 21us/step - loss: 1.1011 - acc: 0.5872 - val_loss: 0.9137 - val_acc: 0.6551\n",
            "\n",
            "Epoch 00020: val_loss improved from 0.95638 to 0.91370, saving model to subj1.hdf5\n",
            "Epoch 21/500\n",
            "159042/159042 [==============================] - 3s 21us/step - loss: 1.1512 - acc: 0.5708 - val_loss: 0.9641 - val_acc: 0.6379\n",
            "Epoch 22/500\n",
            "159042/159042 [==============================] - 3s 22us/step - loss: 1.1440 - acc: 0.5737 - val_loss: 0.9456 - val_acc: 0.6440\n",
            "\n",
            "Epoch 00022: val_loss did not improve from 0.91370\n",
            "Epoch 23/500\n",
            "159042/159042 [==============================] - 3s 21us/step - loss: 1.1056 - acc: 0.5855 - val_loss: 0.9142 - val_acc: 0.6538\n",
            "Epoch 24/500\n",
            "159042/159042 [==============================] - 3s 22us/step - loss: 1.0761 - acc: 0.5954 - val_loss: 0.8875 - val_acc: 0.6660\n",
            "\n",
            "Epoch 00024: val_loss improved from 0.91370 to 0.88751, saving model to subj1.hdf5\n",
            "Epoch 25/500\n",
            "159042/159042 [==============================] - 3s 21us/step - loss: 1.1248 - acc: 0.5803 - val_loss: 0.9383 - val_acc: 0.6457\n",
            "Epoch 26/500\n",
            "159042/159042 [==============================] - 3s 22us/step - loss: 1.1218 - acc: 0.5814 - val_loss: 0.9138 - val_acc: 0.6572\n",
            "\n",
            "Epoch 00026: val_loss did not improve from 0.88751\n",
            "Epoch 27/500\n",
            "159042/159042 [==============================] - 3s 22us/step - loss: 1.0868 - acc: 0.5938 - val_loss: 0.8881 - val_acc: 0.6641\n",
            "Epoch 28/500\n",
            "159042/159042 [==============================] - 3s 22us/step - loss: 1.0575 - acc: 0.6018 - val_loss: 0.8711 - val_acc: 0.6705\n",
            "\n",
            "Epoch 00028: val_loss improved from 0.88751 to 0.87107, saving model to subj1.hdf5\n",
            "Epoch 29/500\n",
            "159042/159042 [==============================] - 3s 21us/step - loss: 1.1049 - acc: 0.5866 - val_loss: 0.9144 - val_acc: 0.6563\n",
            "Epoch 30/500\n",
            "159042/159042 [==============================] - 3s 22us/step - loss: 1.1006 - acc: 0.5875 - val_loss: 0.8932 - val_acc: 0.6620\n",
            "\n",
            "Epoch 00030: val_loss did not improve from 0.87107\n",
            "Epoch 31/500\n",
            "159042/159042 [==============================] - 3s 22us/step - loss: 1.0711 - acc: 0.5982 - val_loss: 0.8737 - val_acc: 0.6671\n",
            "Epoch 32/500\n",
            "159042/159042 [==============================] - 3s 22us/step - loss: 1.0418 - acc: 0.6073 - val_loss: 0.8539 - val_acc: 0.6768\n",
            "\n",
            "Epoch 00032: val_loss improved from 0.87107 to 0.85390, saving model to subj1.hdf5\n",
            "Epoch 33/500\n",
            "159042/159042 [==============================] - 3s 21us/step - loss: 1.0897 - acc: 0.5916 - val_loss: 0.9104 - val_acc: 0.6543\n",
            "Epoch 34/500\n",
            "159042/159042 [==============================] - 3s 21us/step - loss: 1.0848 - acc: 0.5925 - val_loss: 0.8800 - val_acc: 0.6673\n",
            "\n",
            "Epoch 00034: val_loss did not improve from 0.85390\n",
            "Epoch 35/500\n",
            "159042/159042 [==============================] - 3s 22us/step - loss: 1.0579 - acc: 0.6023 - val_loss: 0.8617 - val_acc: 0.6705\n",
            "Epoch 36/500\n",
            "159042/159042 [==============================] - 3s 21us/step - loss: 1.0285 - acc: 0.6129 - val_loss: 0.8403 - val_acc: 0.6795\n",
            "\n",
            "Epoch 00036: val_loss improved from 0.85390 to 0.84026, saving model to subj1.hdf5\n",
            "Epoch 37/500\n",
            "159042/159042 [==============================] - 3s 21us/step - loss: 1.0756 - acc: 0.5958 - val_loss: 0.8867 - val_acc: 0.6618\n",
            "Epoch 38/500\n",
            "159042/159042 [==============================] - 3s 21us/step - loss: 1.0698 - acc: 0.5982 - val_loss: 0.8737 - val_acc: 0.6697\n",
            "\n",
            "Epoch 00038: val_loss did not improve from 0.84026\n",
            "Epoch 39/500\n",
            "159042/159042 [==============================] - 3s 22us/step - loss: 1.0476 - acc: 0.6064 - val_loss: 0.8497 - val_acc: 0.6733\n",
            "Epoch 40/500\n",
            "159042/159042 [==============================] - 3s 22us/step - loss: 1.0193 - acc: 0.6164 - val_loss: 0.8299 - val_acc: 0.6838\n",
            "\n",
            "Epoch 00040: val_loss improved from 0.84026 to 0.82987, saving model to subj1.hdf5\n",
            "Epoch 41/500\n",
            "159042/159042 [==============================] - 3s 21us/step - loss: 1.0659 - acc: 0.6004 - val_loss: 0.8742 - val_acc: 0.6652\n",
            "Epoch 42/500\n",
            "159042/159042 [==============================] - 3s 21us/step - loss: 1.0605 - acc: 0.6010 - val_loss: 0.8558 - val_acc: 0.6727\n",
            "\n",
            "Epoch 00042: val_loss did not improve from 0.82987\n",
            "Epoch 43/500\n",
            "159042/159042 [==============================] - 3s 22us/step - loss: 1.0371 - acc: 0.6091 - val_loss: 0.8437 - val_acc: 0.6788\n",
            "Epoch 44/500\n",
            "159042/159042 [==============================] - 3s 22us/step - loss: 1.0143 - acc: 0.6173 - val_loss: 0.8372 - val_acc: 0.6793\n",
            "\n",
            "Epoch 00044: val_loss did not improve from 0.82987\n",
            "Epoch 45/500\n",
            "159042/159042 [==============================] - 3s 21us/step - loss: 1.0583 - acc: 0.6027 - val_loss: 0.8602 - val_acc: 0.6690\n",
            "Epoch 46/500\n",
            "159042/159042 [==============================] - 3s 21us/step - loss: 1.0482 - acc: 0.6062 - val_loss: 0.8527 - val_acc: 0.6756\n",
            "\n",
            "Epoch 00046: val_loss did not improve from 0.82987\n",
            "Epoch 47/500\n",
            "159042/159042 [==============================] - 3s 22us/step - loss: 1.0264 - acc: 0.6120 - val_loss: 0.8279 - val_acc: 0.6836\n",
            "Epoch 48/500\n",
            "159042/159042 [==============================] - 3s 22us/step - loss: 0.9999 - acc: 0.6229 - val_loss: 0.8130 - val_acc: 0.6897\n",
            "\n",
            "Epoch 00048: val_loss improved from 0.82987 to 0.81304, saving model to subj1.hdf5\n",
            "Epoch 49/500\n",
            "159042/159042 [==============================] - 3s 22us/step - loss: 1.0455 - acc: 0.6064 - val_loss: 0.8557 - val_acc: 0.6724\n",
            "Epoch 50/500\n",
            "159042/159042 [==============================] - 3s 21us/step - loss: 1.0435 - acc: 0.6063 - val_loss: 0.8368 - val_acc: 0.6798\n",
            "\n",
            "Epoch 00050: val_loss did not improve from 0.81304\n",
            "Epoch 51/500\n",
            "159042/159042 [==============================] - 3s 21us/step - loss: 1.0175 - acc: 0.6161 - val_loss: 0.8214 - val_acc: 0.6843\n",
            "Epoch 52/500\n",
            "159042/159042 [==============================] - 3s 21us/step - loss: 0.9957 - acc: 0.6243 - val_loss: 0.8067 - val_acc: 0.6915\n",
            "\n",
            "Epoch 00052: val_loss improved from 0.81304 to 0.80667, saving model to subj1.hdf5\n",
            "Epoch 53/500\n",
            "159042/159042 [==============================] - 3s 22us/step - loss: 1.0365 - acc: 0.6102 - val_loss: 0.8527 - val_acc: 0.6742\n",
            "Epoch 54/500\n",
            "159042/159042 [==============================] - 3s 22us/step - loss: 1.0389 - acc: 0.6086 - val_loss: 0.8318 - val_acc: 0.6823\n",
            "\n",
            "Epoch 00054: val_loss did not improve from 0.80667\n",
            "Epoch 55/500\n",
            "159042/159042 [==============================] - 3s 22us/step - loss: 1.0125 - acc: 0.6170 - val_loss: 0.8125 - val_acc: 0.6907\n",
            "Epoch 56/500\n",
            "159042/159042 [==============================] - 3s 21us/step - loss: 0.9872 - acc: 0.6266 - val_loss: 0.7994 - val_acc: 0.6954\n",
            "\n",
            "Epoch 00056: val_loss improved from 0.80667 to 0.79937, saving model to subj1.hdf5\n",
            "Epoch 57/500\n",
            "159042/159042 [==============================] - 3s 21us/step - loss: 1.0287 - acc: 0.6120 - val_loss: 0.8322 - val_acc: 0.6814\n",
            "Epoch 58/500\n",
            "159042/159042 [==============================] - 3s 22us/step - loss: 1.0280 - acc: 0.6132 - val_loss: 0.8295 - val_acc: 0.6853\n",
            "\n",
            "Epoch 00058: val_loss did not improve from 0.79937\n",
            "Epoch 59/500\n",
            "159042/159042 [==============================] - 3s 21us/step - loss: 1.0060 - acc: 0.6204 - val_loss: 0.8054 - val_acc: 0.6920\n",
            "Epoch 60/500\n",
            "159042/159042 [==============================] - 3s 22us/step - loss: 0.9825 - acc: 0.6302 - val_loss: 0.7908 - val_acc: 0.6992\n",
            "\n",
            "Epoch 00060: val_loss improved from 0.79937 to 0.79076, saving model to subj1.hdf5\n",
            "Epoch 61/500\n",
            "159042/159042 [==============================] - 3s 22us/step - loss: 1.0266 - acc: 0.6128 - val_loss: 0.8310 - val_acc: 0.6820\n",
            "Epoch 62/500\n",
            "159042/159042 [==============================] - 3s 21us/step - loss: 1.0228 - acc: 0.6141 - val_loss: 0.8116 - val_acc: 0.6902\n",
            "\n",
            "Epoch 00062: val_loss did not improve from 0.79076\n",
            "Epoch 63/500\n",
            "159042/159042 [==============================] - 3s 21us/step - loss: 0.9987 - acc: 0.6231 - val_loss: 0.8034 - val_acc: 0.6908\n",
            "Epoch 64/500\n",
            "159042/159042 [==============================] - 3s 22us/step - loss: 0.9783 - acc: 0.6293 - val_loss: 0.7924 - val_acc: 0.6964\n",
            "\n",
            "Epoch 00064: val_loss did not improve from 0.79076\n",
            "Epoch 65/500\n",
            "159042/159042 [==============================] - 3s 21us/step - loss: 1.0174 - acc: 0.6172 - val_loss: 0.8256 - val_acc: 0.6826\n",
            "Epoch 66/500\n",
            "159042/159042 [==============================] - 3s 21us/step - loss: 1.0176 - acc: 0.6162 - val_loss: 0.8199 - val_acc: 0.6876\n",
            "\n",
            "Epoch 00066: val_loss did not improve from 0.79076\n",
            "Epoch 67/500\n",
            "159042/159042 [==============================] - 3s 22us/step - loss: 0.9931 - acc: 0.6243 - val_loss: 0.7984 - val_acc: 0.6954\n",
            "Epoch 68/500\n",
            "159042/159042 [==============================] - 3s 22us/step - loss: 0.9710 - acc: 0.6330 - val_loss: 0.7851 - val_acc: 0.6996\n",
            "\n",
            "Epoch 00068: val_loss improved from 0.79076 to 0.78513, saving model to subj1.hdf5\n",
            "Epoch 69/500\n",
            "159042/159042 [==============================] - 3s 22us/step - loss: 1.0114 - acc: 0.6190 - val_loss: 0.8250 - val_acc: 0.6842\n",
            "Epoch 70/500\n",
            "159042/159042 [==============================] - 3s 22us/step - loss: 1.0108 - acc: 0.6195 - val_loss: 0.8140 - val_acc: 0.6923\n",
            "\n",
            "Epoch 00070: val_loss did not improve from 0.78513\n",
            "Epoch 71/500\n",
            "159042/159042 [==============================] - 3s 21us/step - loss: 0.9897 - acc: 0.6259 - val_loss: 0.7887 - val_acc: 0.6975\n",
            "Epoch 72/500\n",
            "159042/159042 [==============================] - 3s 21us/step - loss: 0.9649 - acc: 0.6350 - val_loss: 0.7787 - val_acc: 0.7014\n",
            "\n",
            "Epoch 00072: val_loss improved from 0.78513 to 0.77866, saving model to subj1.hdf5\n",
            "Epoch 73/500\n",
            "159042/159042 [==============================] - 3s 21us/step - loss: 1.0061 - acc: 0.6218 - val_loss: 0.8182 - val_acc: 0.6917\n",
            "Epoch 74/500\n",
            "159042/159042 [==============================] - 3s 21us/step - loss: 1.0071 - acc: 0.6202 - val_loss: 0.8036 - val_acc: 0.6932\n",
            "\n",
            "Epoch 00074: val_loss did not improve from 0.77866\n",
            "Epoch 75/500\n",
            "159042/159042 [==============================] - 3s 21us/step - loss: 0.9857 - acc: 0.6278 - val_loss: 0.7892 - val_acc: 0.6963\n",
            "Epoch 76/500\n",
            "159042/159042 [==============================] - 3s 21us/step - loss: 0.9622 - acc: 0.6343 - val_loss: 0.7756 - val_acc: 0.7035\n",
            "\n",
            "Epoch 00076: val_loss improved from 0.77866 to 0.77562, saving model to subj1.hdf5\n",
            "Epoch 77/500\n",
            "159042/159042 [==============================] - 3s 22us/step - loss: 1.0061 - acc: 0.6211 - val_loss: 0.8109 - val_acc: 0.6887\n",
            "Epoch 78/500\n",
            "159042/159042 [==============================] - 3s 22us/step - loss: 1.0055 - acc: 0.6212 - val_loss: 0.7997 - val_acc: 0.6950\n",
            "\n",
            "Epoch 00078: val_loss did not improve from 0.77562\n",
            "Epoch 79/500\n",
            "159042/159042 [==============================] - 3s 22us/step - loss: 0.9807 - acc: 0.6295 - val_loss: 0.7882 - val_acc: 0.6988\n",
            "Epoch 80/500\n",
            "159042/159042 [==============================] - 3s 22us/step - loss: 0.9613 - acc: 0.6370 - val_loss: 0.7745 - val_acc: 0.7046\n",
            "\n",
            "Epoch 00080: val_loss improved from 0.77562 to 0.77447, saving model to subj1.hdf5\n",
            "Epoch 81/500\n",
            "159042/159042 [==============================] - 3s 22us/step - loss: 1.0006 - acc: 0.6216 - val_loss: 0.8113 - val_acc: 0.6950\n",
            "Epoch 82/500\n",
            "159042/159042 [==============================] - 3s 22us/step - loss: 0.9998 - acc: 0.6231 - val_loss: 0.7966 - val_acc: 0.6940\n",
            "\n",
            "Epoch 00082: val_loss did not improve from 0.77447\n",
            "Epoch 83/500\n",
            "159042/159042 [==============================] - 3s 21us/step - loss: 0.9745 - acc: 0.6325 - val_loss: 0.7873 - val_acc: 0.7006\n",
            "Epoch 84/500\n",
            "159042/159042 [==============================] - 3s 21us/step - loss: 0.9562 - acc: 0.6380 - val_loss: 0.7691 - val_acc: 0.7065\n",
            "\n",
            "Epoch 00084: val_loss improved from 0.77447 to 0.76911, saving model to subj1.hdf5\n",
            "Epoch 85/500\n",
            "159042/159042 [==============================] - 3s 21us/step - loss: 0.9953 - acc: 0.6244 - val_loss: 0.8099 - val_acc: 0.6874\n",
            "Epoch 86/500\n",
            "159042/159042 [==============================] - 3s 21us/step - loss: 0.9987 - acc: 0.6236 - val_loss: 0.7917 - val_acc: 0.6973\n",
            "\n",
            "Epoch 00086: val_loss did not improve from 0.76911\n",
            "Epoch 87/500\n",
            "159042/159042 [==============================] - 3s 22us/step - loss: 0.9704 - acc: 0.6328 - val_loss: 0.7789 - val_acc: 0.7011\n",
            "Epoch 88/500\n",
            "159042/159042 [==============================] - 3s 21us/step - loss: 0.9510 - acc: 0.6409 - val_loss: 0.7680 - val_acc: 0.7060\n",
            "\n",
            "Epoch 00088: val_loss improved from 0.76911 to 0.76805, saving model to subj1.hdf5\n",
            "Epoch 89/500\n",
            "159042/159042 [==============================] - 3s 21us/step - loss: 0.9924 - acc: 0.6255 - val_loss: 0.8021 - val_acc: 0.6921\n",
            "Epoch 90/500\n",
            "159042/159042 [==============================] - 3s 21us/step - loss: 0.9896 - acc: 0.6258 - val_loss: 0.7898 - val_acc: 0.6976\n",
            "\n",
            "Epoch 00090: val_loss did not improve from 0.76805\n",
            "Epoch 91/500\n",
            "159042/159042 [==============================] - 3s 21us/step - loss: 0.9726 - acc: 0.6313 - val_loss: 0.7719 - val_acc: 0.7021\n",
            "Epoch 92/500\n",
            "159042/159042 [==============================] - 3s 22us/step - loss: 0.9499 - acc: 0.6408 - val_loss: 0.7647 - val_acc: 0.7073\n",
            "\n",
            "Epoch 00092: val_loss improved from 0.76805 to 0.76467, saving model to subj1.hdf5\n",
            "Epoch 93/500\n",
            "159042/159042 [==============================] - 3s 22us/step - loss: 0.9884 - acc: 0.6268 - val_loss: 0.7954 - val_acc: 0.6981\n",
            "Epoch 94/500\n",
            "159042/159042 [==============================] - 3s 22us/step - loss: 0.9925 - acc: 0.6252 - val_loss: 0.7889 - val_acc: 0.7005\n",
            "\n",
            "Epoch 00094: val_loss did not improve from 0.76467\n",
            "Epoch 95/500\n",
            "159042/159042 [==============================] - 3s 22us/step - loss: 0.9671 - acc: 0.6337 - val_loss: 0.7736 - val_acc: 0.7026\n",
            "Epoch 96/500\n",
            "159042/159042 [==============================] - 3s 22us/step - loss: 0.9493 - acc: 0.6402 - val_loss: 0.7588 - val_acc: 0.7095\n",
            "\n",
            "Epoch 00096: val_loss improved from 0.76467 to 0.75881, saving model to subj1.hdf5\n",
            "Epoch 97/500\n",
            "159042/159042 [==============================] - 3s 21us/step - loss: 0.9841 - acc: 0.6280 - val_loss: 0.7989 - val_acc: 0.6937\n",
            "Epoch 98/500\n",
            "159042/159042 [==============================] - 3s 21us/step - loss: 0.9833 - acc: 0.6284 - val_loss: 0.7858 - val_acc: 0.6981\n",
            "\n",
            "Epoch 00098: val_loss did not improve from 0.75881\n",
            "Epoch 99/500\n",
            "159042/159042 [==============================] - 3s 22us/step - loss: 0.9609 - acc: 0.6363 - val_loss: 0.7703 - val_acc: 0.7056\n",
            "Epoch 100/500\n",
            "159042/159042 [==============================] - 3s 22us/step - loss: 0.9431 - acc: 0.6433 - val_loss: 0.7575 - val_acc: 0.7106\n",
            "\n",
            "Epoch 00100: val_loss improved from 0.75881 to 0.75748, saving model to subj1.hdf5\n",
            "Epoch 101/500\n",
            "159042/159042 [==============================] - 3s 22us/step - loss: 0.9817 - acc: 0.6300 - val_loss: 0.7890 - val_acc: 0.6981\n",
            "Epoch 102/500\n",
            "159042/159042 [==============================] - 3s 22us/step - loss: 0.9805 - acc: 0.6295 - val_loss: 0.7825 - val_acc: 0.7016\n",
            "\n",
            "Epoch 00102: val_loss did not improve from 0.75748\n",
            "Epoch 103/500\n",
            "159042/159042 [==============================] - 3s 21us/step - loss: 0.9574 - acc: 0.6369 - val_loss: 0.7651 - val_acc: 0.7087\n",
            "Epoch 104/500\n",
            "159042/159042 [==============================] - 3s 21us/step - loss: 0.9417 - acc: 0.6428 - val_loss: 0.7528 - val_acc: 0.7137\n",
            "\n",
            "Epoch 00104: val_loss improved from 0.75748 to 0.75284, saving model to subj1.hdf5\n",
            "Epoch 105/500\n",
            "159042/159042 [==============================] - 3s 21us/step - loss: 0.9808 - acc: 0.6289 - val_loss: 0.7882 - val_acc: 0.7004\n",
            "Epoch 106/500\n",
            "159042/159042 [==============================] - 3s 22us/step - loss: 0.9838 - acc: 0.6278 - val_loss: 0.7869 - val_acc: 0.6985\n",
            "\n",
            "Epoch 00106: val_loss did not improve from 0.75284\n",
            "Epoch 107/500\n",
            "159042/159042 [==============================] - 3s 22us/step - loss: 0.9605 - acc: 0.6370 - val_loss: 0.7708 - val_acc: 0.7052\n",
            "Epoch 108/500\n",
            "159042/159042 [==============================] - 3s 21us/step - loss: 0.9400 - acc: 0.6429 - val_loss: 0.7557 - val_acc: 0.7111\n",
            "\n",
            "Epoch 00108: val_loss did not improve from 0.75284\n",
            "Epoch 109/500\n",
            "159042/159042 [==============================] - 3s 22us/step - loss: 0.9780 - acc: 0.6311 - val_loss: 0.7906 - val_acc: 0.6961\n",
            "Epoch 110/500\n",
            "159042/159042 [==============================] - 3s 21us/step - loss: 0.9774 - acc: 0.6314 - val_loss: 0.7809 - val_acc: 0.7012\n",
            "\n",
            "Epoch 00110: val_loss did not improve from 0.75284\n",
            "Epoch 111/500\n",
            "159042/159042 [==============================] - 3s 21us/step - loss: 0.9574 - acc: 0.6378 - val_loss: 0.7688 - val_acc: 0.7052\n",
            "Epoch 112/500\n",
            "159042/159042 [==============================] - 3s 21us/step - loss: 0.9357 - acc: 0.6448 - val_loss: 0.7521 - val_acc: 0.7132\n",
            "\n",
            "Epoch 00112: val_loss improved from 0.75284 to 0.75210, saving model to subj1.hdf5\n",
            "Epoch 113/500\n",
            "159042/159042 [==============================] - 3s 22us/step - loss: 0.9787 - acc: 0.6301 - val_loss: 0.7814 - val_acc: 0.7027\n",
            "Epoch 114/500\n",
            "159042/159042 [==============================] - 3s 22us/step - loss: 0.9739 - acc: 0.6310 - val_loss: 0.7738 - val_acc: 0.7015\n",
            "\n",
            "Epoch 00114: val_loss did not improve from 0.75210\n",
            "Epoch 115/500\n",
            "159042/159042 [==============================] - 3s 21us/step - loss: 0.9531 - acc: 0.6375 - val_loss: 0.7665 - val_acc: 0.7061\n",
            "Epoch 116/500\n",
            "159042/159042 [==============================] - 3s 21us/step - loss: 0.9352 - acc: 0.6464 - val_loss: 0.7507 - val_acc: 0.7139\n",
            "\n",
            "Epoch 00116: val_loss improved from 0.75210 to 0.75067, saving model to subj1.hdf5\n",
            "Epoch 117/500\n",
            "159042/159042 [==============================] - 3s 21us/step - loss: 0.9693 - acc: 0.6340 - val_loss: 0.7772 - val_acc: 0.7017\n",
            "Epoch 118/500\n",
            "159042/159042 [==============================] - 3s 22us/step - loss: 0.9745 - acc: 0.6304 - val_loss: 0.7795 - val_acc: 0.7028\n",
            "\n",
            "Epoch 00118: val_loss did not improve from 0.75067\n",
            "Epoch 119/500\n",
            "159042/159042 [==============================] - 3s 21us/step - loss: 0.9707 - acc: 0.6329 - val_loss: 0.7988 - val_acc: 0.6957\n",
            "Epoch 120/500\n",
            "159042/159042 [==============================] - 3s 21us/step - loss: 0.9622 - acc: 0.6361 - val_loss: 0.7628 - val_acc: 0.7089\n",
            "\n",
            "Epoch 00120: val_loss did not improve from 0.75067\n",
            "Epoch 121/500\n",
            "159042/159042 [==============================] - 3s 22us/step - loss: 0.9734 - acc: 0.6314 - val_loss: 0.7775 - val_acc: 0.7035\n",
            "Epoch 122/500\n",
            "159042/159042 [==============================] - 3s 22us/step - loss: 0.9695 - acc: 0.6344 - val_loss: 0.7741 - val_acc: 0.7032\n",
            "\n",
            "Epoch 00122: val_loss did not improve from 0.75067\n",
            "Epoch 123/500\n",
            "159042/159042 [==============================] - 3s 22us/step - loss: 0.9486 - acc: 0.6402 - val_loss: 0.7600 - val_acc: 0.7086\n",
            "Epoch 124/500\n",
            "159042/159042 [==============================] - 3s 21us/step - loss: 0.9313 - acc: 0.6463 - val_loss: 0.7496 - val_acc: 0.7147\n",
            "\n",
            "Epoch 00124: val_loss improved from 0.75067 to 0.74961, saving model to subj1.hdf5\n",
            "Epoch 125/500\n",
            "159042/159042 [==============================] - 3s 21us/step - loss: 0.9654 - acc: 0.6355 - val_loss: 0.7710 - val_acc: 0.7063\n",
            "Epoch 126/500\n",
            "159042/159042 [==============================] - 3s 22us/step - loss: 0.9668 - acc: 0.6337 - val_loss: 0.7741 - val_acc: 0.7038\n",
            "\n",
            "Epoch 00126: val_loss did not improve from 0.74961\n",
            "Epoch 127/500\n",
            "159042/159042 [==============================] - 3s 22us/step - loss: 0.9497 - acc: 0.6396 - val_loss: 0.7553 - val_acc: 0.7126\n",
            "Epoch 128/500\n",
            "159042/159042 [==============================] - 3s 22us/step - loss: 0.9292 - acc: 0.6473 - val_loss: 0.7463 - val_acc: 0.7170\n",
            "\n",
            "Epoch 00128: val_loss improved from 0.74961 to 0.74630, saving model to subj1.hdf5\n",
            "Epoch 129/500\n",
            "159042/159042 [==============================] - 3s 22us/step - loss: 0.9656 - acc: 0.6344 - val_loss: 0.7730 - val_acc: 0.7054\n",
            "Epoch 130/500\n",
            "159042/159042 [==============================] - 3s 22us/step - loss: 0.9628 - acc: 0.6363 - val_loss: 0.7596 - val_acc: 0.7105\n",
            "\n",
            "Epoch 00130: val_loss did not improve from 0.74630\n",
            "Epoch 131/500\n",
            "159042/159042 [==============================] - 3s 22us/step - loss: 0.9469 - acc: 0.6412 - val_loss: 0.7560 - val_acc: 0.7133\n",
            "Epoch 132/500\n",
            "159042/159042 [==============================] - 3s 21us/step - loss: 0.9274 - acc: 0.6498 - val_loss: 0.7443 - val_acc: 0.7172\n",
            "\n",
            "Epoch 00132: val_loss improved from 0.74630 to 0.74426, saving model to subj1.hdf5\n",
            "Epoch 133/500\n",
            "159042/159042 [==============================] - 3s 21us/step - loss: 0.9622 - acc: 0.6366 - val_loss: 0.7781 - val_acc: 0.7016\n",
            "Epoch 134/500\n",
            "159042/159042 [==============================] - 3s 22us/step - loss: 0.9650 - acc: 0.6343 - val_loss: 0.7698 - val_acc: 0.7061\n",
            "\n",
            "Epoch 00134: val_loss did not improve from 0.74426\n",
            "Epoch 135/500\n",
            "159042/159042 [==============================] - 3s 21us/step - loss: 0.9434 - acc: 0.6415 - val_loss: 0.7477 - val_acc: 0.7145\n",
            "Epoch 136/500\n",
            "159042/159042 [==============================] - 3s 21us/step - loss: 0.9378 - acc: 0.6449 - val_loss: 0.7481 - val_acc: 0.7164\n",
            "\n",
            "Epoch 00136: val_loss did not improve from 0.74426\n",
            "Epoch 137/500\n",
            "159042/159042 [==============================] - 3s 21us/step - loss: 0.9575 - acc: 0.6372 - val_loss: 0.7637 - val_acc: 0.7084\n",
            "Epoch 138/500\n",
            "159042/159042 [==============================] - 3s 21us/step - loss: 0.9585 - acc: 0.6374 - val_loss: 0.7677 - val_acc: 0.7057\n",
            "\n",
            "Epoch 00138: val_loss did not improve from 0.74426\n",
            "Epoch 139/500\n",
            "159042/159042 [==============================] - 3s 21us/step - loss: 0.9421 - acc: 0.6425 - val_loss: 0.7496 - val_acc: 0.7152\n",
            "Epoch 140/500\n",
            "159042/159042 [==============================] - 3s 22us/step - loss: 0.9264 - acc: 0.6499 - val_loss: 0.7394 - val_acc: 0.7197\n",
            "\n",
            "Epoch 00140: val_loss improved from 0.74426 to 0.73942, saving model to subj1.hdf5\n",
            "Epoch 141/500\n",
            "159042/159042 [==============================] - 3s 21us/step - loss: 0.9573 - acc: 0.6377 - val_loss: 0.7722 - val_acc: 0.7077\n",
            "Epoch 142/500\n",
            "159042/159042 [==============================] - 3s 21us/step - loss: 0.9572 - acc: 0.6371 - val_loss: 0.7686 - val_acc: 0.7100\n",
            "\n",
            "Epoch 00142: val_loss did not improve from 0.73942\n",
            "Epoch 143/500\n",
            "159042/159042 [==============================] - 3s 22us/step - loss: 0.9443 - acc: 0.6434 - val_loss: 0.7513 - val_acc: 0.7135\n",
            "Epoch 144/500\n",
            "159042/159042 [==============================] - 3s 22us/step - loss: 0.9234 - acc: 0.6504 - val_loss: 0.7377 - val_acc: 0.7217\n",
            "\n",
            "Epoch 00144: val_loss improved from 0.73942 to 0.73775, saving model to subj1.hdf5\n",
            "Epoch 145/500\n",
            "159042/159042 [==============================] - 3s 21us/step - loss: 0.9539 - acc: 0.6400 - val_loss: 0.7767 - val_acc: 0.7040\n",
            "Epoch 146/500\n",
            "159042/159042 [==============================] - 3s 22us/step - loss: 0.9538 - acc: 0.6386 - val_loss: 0.7637 - val_acc: 0.7101\n",
            "\n",
            "Epoch 00146: val_loss did not improve from 0.73775\n",
            "Epoch 147/500\n",
            "159042/159042 [==============================] - 3s 21us/step - loss: 0.9405 - acc: 0.6430 - val_loss: 0.7465 - val_acc: 0.7151\n",
            "Epoch 148/500\n",
            "159042/159042 [==============================] - 3s 22us/step - loss: 0.9208 - acc: 0.6511 - val_loss: 0.7356 - val_acc: 0.7213\n",
            "\n",
            "Epoch 00148: val_loss improved from 0.73775 to 0.73560, saving model to subj1.hdf5\n",
            "Epoch 149/500\n",
            "159042/159042 [==============================] - 3s 21us/step - loss: 0.9522 - acc: 0.6397 - val_loss: 0.7630 - val_acc: 0.7095\n",
            "Epoch 150/500\n",
            "159042/159042 [==============================] - 3s 21us/step - loss: 0.9554 - acc: 0.6385 - val_loss: 0.7592 - val_acc: 0.7107\n",
            "\n",
            "Epoch 00150: val_loss did not improve from 0.73560\n",
            "Epoch 151/500\n",
            "159042/159042 [==============================] - 3s 21us/step - loss: 0.9388 - acc: 0.6439 - val_loss: 0.7434 - val_acc: 0.7158\n",
            "Epoch 152/500\n",
            "159042/159042 [==============================] - 3s 21us/step - loss: 0.9206 - acc: 0.6514 - val_loss: 0.7344 - val_acc: 0.7209\n",
            "\n",
            "Epoch 00152: val_loss improved from 0.73560 to 0.73443, saving model to subj1.hdf5\n",
            "Epoch 153/500\n",
            "159042/159042 [==============================] - 3s 21us/step - loss: 0.9530 - acc: 0.6404 - val_loss: 0.7675 - val_acc: 0.7090\n",
            "Epoch 154/500\n",
            "159042/159042 [==============================] - 3s 22us/step - loss: 0.9551 - acc: 0.6393 - val_loss: 0.7596 - val_acc: 0.7070\n",
            "\n",
            "Epoch 00154: val_loss did not improve from 0.73443\n",
            "Epoch 155/500\n",
            "159042/159042 [==============================] - 3s 21us/step - loss: 0.9346 - acc: 0.6453 - val_loss: 0.7421 - val_acc: 0.7163\n",
            "Epoch 156/500\n",
            "159042/159042 [==============================] - 3s 22us/step - loss: 0.9187 - acc: 0.6507 - val_loss: 0.7362 - val_acc: 0.7187\n",
            "\n",
            "Epoch 00156: val_loss did not improve from 0.73443\n",
            "Epoch 157/500\n",
            "159042/159042 [==============================] - 3s 22us/step - loss: 0.9518 - acc: 0.6392 - val_loss: 0.7636 - val_acc: 0.7079\n",
            "Epoch 158/500\n",
            "159042/159042 [==============================] - 3s 22us/step - loss: 0.9493 - acc: 0.6412 - val_loss: 0.7697 - val_acc: 0.7044\n",
            "\n",
            "Epoch 00158: val_loss did not improve from 0.73443\n",
            "Epoch 159/500\n",
            "159042/159042 [==============================] - 3s 22us/step - loss: 0.9340 - acc: 0.6459 - val_loss: 0.7427 - val_acc: 0.7157\n",
            "Epoch 160/500\n",
            "159042/159042 [==============================] - 3s 22us/step - loss: 0.9173 - acc: 0.6518 - val_loss: 0.7318 - val_acc: 0.7202\n",
            "\n",
            "Epoch 00160: val_loss improved from 0.73443 to 0.73181, saving model to subj1.hdf5\n",
            "Epoch 161/500\n",
            "159042/159042 [==============================] - 3s 21us/step - loss: 0.9511 - acc: 0.6394 - val_loss: 0.7627 - val_acc: 0.7101\n",
            "Epoch 162/500\n",
            "159042/159042 [==============================] - 3s 21us/step - loss: 0.9544 - acc: 0.6387 - val_loss: 0.7571 - val_acc: 0.7097\n",
            "\n",
            "Epoch 00162: val_loss did not improve from 0.73181\n",
            "Epoch 163/500\n",
            "159042/159042 [==============================] - 3s 21us/step - loss: 0.9323 - acc: 0.6479 - val_loss: 0.7401 - val_acc: 0.7173\n",
            "Epoch 164/500\n",
            "159042/159042 [==============================] - 3s 21us/step - loss: 0.9144 - acc: 0.6535 - val_loss: 0.7310 - val_acc: 0.7217\n",
            "\n",
            "Epoch 00164: val_loss improved from 0.73181 to 0.73102, saving model to subj1.hdf5\n",
            "Epoch 165/500\n",
            "159042/159042 [==============================] - 3s 21us/step - loss: 0.9497 - acc: 0.6393 - val_loss: 0.7629 - val_acc: 0.7076\n",
            "Epoch 166/500\n",
            "159042/159042 [==============================] - 3s 21us/step - loss: 0.9529 - acc: 0.6390 - val_loss: 0.7604 - val_acc: 0.7102\n",
            "\n",
            "Epoch 00166: val_loss did not improve from 0.73102\n",
            "Epoch 167/500\n",
            "159042/159042 [==============================] - 3s 21us/step - loss: 0.9287 - acc: 0.6480 - val_loss: 0.7439 - val_acc: 0.7154\n",
            "Epoch 168/500\n",
            "159042/159042 [==============================] - 3s 21us/step - loss: 0.9147 - acc: 0.6546 - val_loss: 0.7302 - val_acc: 0.7222\n",
            "\n",
            "Epoch 00168: val_loss improved from 0.73102 to 0.73020, saving model to subj1.hdf5\n",
            "Epoch 169/500\n",
            "159042/159042 [==============================] - 3s 21us/step - loss: 0.9464 - acc: 0.6424 - val_loss: 0.7532 - val_acc: 0.7147\n",
            "Epoch 170/500\n",
            "159042/159042 [==============================] - 3s 21us/step - loss: 0.9469 - acc: 0.6425 - val_loss: 0.7505 - val_acc: 0.7140\n",
            "\n",
            "Epoch 00170: val_loss did not improve from 0.73020\n",
            "Epoch 171/500\n",
            "159042/159042 [==============================] - 3s 21us/step - loss: 0.9338 - acc: 0.6464 - val_loss: 0.7407 - val_acc: 0.7175\n",
            "Epoch 172/500\n",
            "159042/159042 [==============================] - 3s 21us/step - loss: 0.9128 - acc: 0.6544 - val_loss: 0.7317 - val_acc: 0.7209\n",
            "\n",
            "Epoch 00172: val_loss did not improve from 0.73020\n",
            "Epoch 173/500\n",
            "159042/159042 [==============================] - 3s 21us/step - loss: 0.9444 - acc: 0.6422 - val_loss: 0.7523 - val_acc: 0.7125\n",
            "Epoch 174/500\n",
            "159042/159042 [==============================] - 3s 21us/step - loss: 0.9465 - acc: 0.6412 - val_loss: 0.7597 - val_acc: 0.7090\n",
            "\n",
            "Epoch 00174: val_loss did not improve from 0.73020\n",
            "Epoch 175/500\n",
            "159042/159042 [==============================] - 3s 21us/step - loss: 0.9316 - acc: 0.6459 - val_loss: 0.7364 - val_acc: 0.7198\n",
            "Epoch 176/500\n",
            "159042/159042 [==============================] - 3s 21us/step - loss: 0.9113 - acc: 0.6540 - val_loss: 0.7275 - val_acc: 0.7229\n",
            "\n",
            "Epoch 00176: val_loss improved from 0.73020 to 0.72749, saving model to subj1.hdf5\n",
            "Epoch 177/500\n",
            "159042/159042 [==============================] - 3s 21us/step - loss: 0.9433 - acc: 0.6433 - val_loss: 0.7664 - val_acc: 0.7087\n",
            "Epoch 178/500\n",
            "159042/159042 [==============================] - 3s 21us/step - loss: 0.9411 - acc: 0.6433 - val_loss: 0.7498 - val_acc: 0.7160\n",
            "\n",
            "Epoch 00178: val_loss did not improve from 0.72749\n",
            "Epoch 179/500\n",
            "159042/159042 [==============================] - 3s 21us/step - loss: 0.9270 - acc: 0.6489 - val_loss: 0.7388 - val_acc: 0.7160\n",
            "Epoch 180/500\n",
            "159042/159042 [==============================] - 3s 21us/step - loss: 0.9106 - acc: 0.6533 - val_loss: 0.7286 - val_acc: 0.7234\n",
            "\n",
            "Epoch 00180: val_loss did not improve from 0.72749\n",
            "Epoch 181/500\n",
            "159042/159042 [==============================] - 3s 21us/step - loss: 0.9441 - acc: 0.6424 - val_loss: 0.7493 - val_acc: 0.7145\n",
            "Epoch 182/500\n",
            "159042/159042 [==============================] - 3s 21us/step - loss: 0.9426 - acc: 0.6429 - val_loss: 0.7506 - val_acc: 0.7143\n",
            "\n",
            "Epoch 00182: val_loss did not improve from 0.72749\n",
            "Epoch 183/500\n",
            "159042/159042 [==============================] - 3s 21us/step - loss: 0.9296 - acc: 0.6469 - val_loss: 0.7353 - val_acc: 0.7196\n",
            "Epoch 184/500\n",
            "159042/159042 [==============================] - 3s 21us/step - loss: 0.9122 - acc: 0.6539 - val_loss: 0.7251 - val_acc: 0.7238\n",
            "\n",
            "Epoch 00184: val_loss improved from 0.72749 to 0.72514, saving model to subj1.hdf5\n",
            "Epoch 185/500\n",
            "159042/159042 [==============================] - 3s 21us/step - loss: 0.9427 - acc: 0.6434 - val_loss: 0.7561 - val_acc: 0.7121\n",
            "Epoch 186/500\n",
            "159042/159042 [==============================] - 3s 21us/step - loss: 0.9559 - acc: 0.6383 - val_loss: 0.7516 - val_acc: 0.7096\n",
            "\n",
            "Epoch 00186: val_loss did not improve from 0.72514\n",
            "Epoch 187/500\n",
            "159042/159042 [==============================] - 3s 21us/step - loss: 0.9303 - acc: 0.6474 - val_loss: 0.7379 - val_acc: 0.7179\n",
            "Epoch 188/500\n",
            "159042/159042 [==============================] - 3s 21us/step - loss: 0.9103 - acc: 0.6535 - val_loss: 0.7256 - val_acc: 0.7229\n",
            "\n",
            "Epoch 00188: val_loss did not improve from 0.72514\n",
            "Epoch 189/500\n",
            "159042/159042 [==============================] - 3s 21us/step - loss: 0.9409 - acc: 0.6435 - val_loss: 0.7577 - val_acc: 0.7092\n",
            "Epoch 190/500\n",
            "159042/159042 [==============================] - 3s 21us/step - loss: 0.9425 - acc: 0.6437 - val_loss: 0.7492 - val_acc: 0.7158\n",
            "\n",
            "Epoch 00190: val_loss did not improve from 0.72514\n",
            "Epoch 191/500\n",
            "159042/159042 [==============================] - 3s 21us/step - loss: 0.9254 - acc: 0.6485 - val_loss: 0.7347 - val_acc: 0.7181\n",
            "Epoch 192/500\n",
            "159042/159042 [==============================] - 3s 21us/step - loss: 0.9091 - acc: 0.6551 - val_loss: 0.7264 - val_acc: 0.7239\n",
            "\n",
            "Epoch 00192: val_loss did not improve from 0.72514\n",
            "Epoch 193/500\n",
            "159042/159042 [==============================] - 3s 21us/step - loss: 0.9442 - acc: 0.6440 - val_loss: 0.7511 - val_acc: 0.7131\n",
            "Epoch 194/500\n",
            "159042/159042 [==============================] - 3s 21us/step - loss: 0.9403 - acc: 0.6439 - val_loss: 0.7459 - val_acc: 0.7196\n",
            "\n",
            "Epoch 00194: val_loss did not improve from 0.72514\n",
            "Epoch 195/500\n",
            "159042/159042 [==============================] - 3s 21us/step - loss: 0.9250 - acc: 0.6494 - val_loss: 0.7321 - val_acc: 0.7207\n",
            "Epoch 196/500\n",
            "159042/159042 [==============================] - 3s 21us/step - loss: 0.9093 - acc: 0.6555 - val_loss: 0.7252 - val_acc: 0.7227\n",
            "\n",
            "Epoch 00196: val_loss did not improve from 0.72514\n",
            "Epoch 197/500\n",
            "159042/159042 [==============================] - 3s 21us/step - loss: 0.9366 - acc: 0.6461 - val_loss: 0.7525 - val_acc: 0.7113\n",
            "Epoch 198/500\n",
            "159042/159042 [==============================] - 3s 21us/step - loss: 0.9376 - acc: 0.6454 - val_loss: 0.7476 - val_acc: 0.7143\n",
            "\n",
            "Epoch 00198: val_loss did not improve from 0.72514\n",
            "Epoch 199/500\n",
            "159042/159042 [==============================] - 3s 21us/step - loss: 0.9263 - acc: 0.6490 - val_loss: 0.7334 - val_acc: 0.7200\n",
            "Epoch 200/500\n",
            "159042/159042 [==============================] - 3s 22us/step - loss: 0.9075 - acc: 0.6555 - val_loss: 0.7223 - val_acc: 0.7239\n",
            "\n",
            "Epoch 00200: val_loss improved from 0.72514 to 0.72232, saving model to subj1.hdf5\n",
            "Epoch 201/500\n",
            "159042/159042 [==============================] - 3s 21us/step - loss: 0.9398 - acc: 0.6453 - val_loss: 0.7438 - val_acc: 0.7158\n",
            "Epoch 202/500\n",
            "159042/159042 [==============================] - 3s 21us/step - loss: 0.9410 - acc: 0.6429 - val_loss: 0.7407 - val_acc: 0.7179\n",
            "\n",
            "Epoch 00202: val_loss did not improve from 0.72232\n",
            "Epoch 203/500\n",
            "159042/159042 [==============================] - 3s 22us/step - loss: 0.9218 - acc: 0.6499 - val_loss: 0.7298 - val_acc: 0.7226\n",
            "Epoch 204/500\n",
            "159042/159042 [==============================] - 3s 22us/step - loss: 0.9032 - acc: 0.6570 - val_loss: 0.7201 - val_acc: 0.7250\n",
            "\n",
            "Epoch 00204: val_loss improved from 0.72232 to 0.72005, saving model to subj1.hdf5\n",
            "Epoch 205/500\n",
            "159042/159042 [==============================] - 3s 22us/step - loss: 0.9330 - acc: 0.6461 - val_loss: 0.7475 - val_acc: 0.7137\n",
            "Epoch 206/500\n",
            "159042/159042 [==============================] - 3s 22us/step - loss: 0.9386 - acc: 0.6443 - val_loss: 0.7461 - val_acc: 0.7157\n",
            "\n",
            "Epoch 00206: val_loss did not improve from 0.72005\n",
            "Epoch 207/500\n",
            "159042/159042 [==============================] - 3s 22us/step - loss: 0.9232 - acc: 0.6496 - val_loss: 0.7268 - val_acc: 0.7244\n",
            "Epoch 208/500\n",
            "159042/159042 [==============================] - 3s 22us/step - loss: 0.9085 - acc: 0.6552 - val_loss: 0.7200 - val_acc: 0.7256\n",
            "\n",
            "Epoch 00208: val_loss improved from 0.72005 to 0.71997, saving model to subj1.hdf5\n",
            "Epoch 209/500\n",
            "159042/159042 [==============================] - 3s 22us/step - loss: 0.9334 - acc: 0.6462 - val_loss: 0.7420 - val_acc: 0.7161\n",
            "Epoch 210/500\n",
            "159042/159042 [==============================] - 3s 21us/step - loss: 0.9371 - acc: 0.6455 - val_loss: 0.7398 - val_acc: 0.7206\n",
            "\n",
            "Epoch 00210: val_loss did not improve from 0.71997\n",
            "Epoch 211/500\n",
            "159042/159042 [==============================] - 3s 22us/step - loss: 0.9209 - acc: 0.6514 - val_loss: 0.7317 - val_acc: 0.7203\n",
            "Epoch 212/500\n",
            "159042/159042 [==============================] - 3s 21us/step - loss: 0.9001 - acc: 0.6576 - val_loss: 0.7199 - val_acc: 0.7266\n",
            "\n",
            "Epoch 00212: val_loss improved from 0.71997 to 0.71991, saving model to subj1.hdf5\n",
            "Epoch 213/500\n",
            "159042/159042 [==============================] - 3s 21us/step - loss: 0.9319 - acc: 0.6470 - val_loss: 0.7459 - val_acc: 0.7171\n",
            "Epoch 214/500\n",
            "159042/159042 [==============================] - 3s 21us/step - loss: 0.9336 - acc: 0.6469 - val_loss: 0.7375 - val_acc: 0.7176\n",
            "\n",
            "Epoch 00214: val_loss did not improve from 0.71991\n",
            "Epoch 215/500\n",
            "159042/159042 [==============================] - 3s 21us/step - loss: 0.9183 - acc: 0.6515 - val_loss: 0.7266 - val_acc: 0.7240\n",
            "Epoch 216/500\n",
            "159042/159042 [==============================] - 3s 21us/step - loss: 0.9054 - acc: 0.6571 - val_loss: 0.7198 - val_acc: 0.7258\n",
            "\n",
            "Epoch 00216: val_loss improved from 0.71991 to 0.71975, saving model to subj1.hdf5\n",
            "Epoch 217/500\n",
            "159042/159042 [==============================] - 3s 21us/step - loss: 0.9330 - acc: 0.6486 - val_loss: 0.7456 - val_acc: 0.7152\n",
            "Epoch 218/500\n",
            "159042/159042 [==============================] - 3s 21us/step - loss: 0.9355 - acc: 0.6475 - val_loss: 0.7420 - val_acc: 0.7184\n",
            "\n",
            "Epoch 00218: val_loss did not improve from 0.71975\n",
            "Epoch 219/500\n",
            "159042/159042 [==============================] - 3s 21us/step - loss: 0.9181 - acc: 0.6514 - val_loss: 0.7247 - val_acc: 0.7237\n",
            "Epoch 220/500\n",
            "159042/159042 [==============================] - 3s 21us/step - loss: 0.9022 - acc: 0.6565 - val_loss: 0.7201 - val_acc: 0.7260\n",
            "\n",
            "Epoch 00220: val_loss did not improve from 0.71975\n",
            "Epoch 221/500\n",
            "159042/159042 [==============================] - 3s 21us/step - loss: 0.9344 - acc: 0.6455 - val_loss: 0.7453 - val_acc: 0.7159\n",
            "Epoch 222/500\n",
            "159042/159042 [==============================] - 3s 21us/step - loss: 0.9318 - acc: 0.6483 - val_loss: 0.7397 - val_acc: 0.7167\n",
            "\n",
            "Epoch 00222: val_loss did not improve from 0.71975\n",
            "Epoch 223/500\n",
            "159042/159042 [==============================] - 3s 21us/step - loss: 0.9168 - acc: 0.6527 - val_loss: 0.7293 - val_acc: 0.7205\n",
            "Epoch 224/500\n",
            "159042/159042 [==============================] - 3s 21us/step - loss: 0.9038 - acc: 0.6577 - val_loss: 0.7193 - val_acc: 0.7261\n",
            "\n",
            "Epoch 00224: val_loss improved from 0.71975 to 0.71930, saving model to subj1.hdf5\n",
            "Epoch 225/500\n",
            "159042/159042 [==============================] - 3s 21us/step - loss: 0.9329 - acc: 0.6489 - val_loss: 0.7406 - val_acc: 0.7153\n",
            "Epoch 226/500\n",
            "159042/159042 [==============================] - 3s 21us/step - loss: 0.9324 - acc: 0.6470 - val_loss: 0.7408 - val_acc: 0.7176\n",
            "\n",
            "Epoch 00226: val_loss did not improve from 0.71930\n",
            "Epoch 227/500\n",
            "159042/159042 [==============================] - 3s 21us/step - loss: 0.9152 - acc: 0.6519 - val_loss: 0.7230 - val_acc: 0.7212\n",
            "Epoch 228/500\n",
            "159042/159042 [==============================] - 3s 21us/step - loss: 0.9019 - acc: 0.6584 - val_loss: 0.7179 - val_acc: 0.7257\n",
            "\n",
            "Epoch 00228: val_loss improved from 0.71930 to 0.71786, saving model to subj1.hdf5\n",
            "Epoch 229/500\n",
            "159042/159042 [==============================] - 3s 21us/step - loss: 0.9278 - acc: 0.6502 - val_loss: 0.7402 - val_acc: 0.7167\n",
            "Epoch 230/500\n",
            "159042/159042 [==============================] - 3s 21us/step - loss: 0.9317 - acc: 0.6462 - val_loss: 0.7388 - val_acc: 0.7176\n",
            "\n",
            "Epoch 00230: val_loss did not improve from 0.71786\n",
            "Epoch 231/500\n",
            "159042/159042 [==============================] - 3s 21us/step - loss: 0.9137 - acc: 0.6549 - val_loss: 0.7247 - val_acc: 0.7229\n",
            "Epoch 232/500\n",
            "159042/159042 [==============================] - 3s 21us/step - loss: 0.8993 - acc: 0.6598 - val_loss: 0.7166 - val_acc: 0.7274\n",
            "\n",
            "Epoch 00232: val_loss improved from 0.71786 to 0.71663, saving model to subj1.hdf5\n",
            "Epoch 233/500\n",
            "159042/159042 [==============================] - 3s 21us/step - loss: 0.9299 - acc: 0.6483 - val_loss: 0.7379 - val_acc: 0.7175\n",
            "Epoch 234/500\n",
            "159042/159042 [==============================] - 3s 21us/step - loss: 0.9278 - acc: 0.6477 - val_loss: 0.7371 - val_acc: 0.7184\n",
            "\n",
            "Epoch 00234: val_loss did not improve from 0.71663\n",
            "Epoch 235/500\n",
            "159042/159042 [==============================] - 3s 21us/step - loss: 0.9108 - acc: 0.6542 - val_loss: 0.7211 - val_acc: 0.7239\n",
            "Epoch 236/500\n",
            "159042/159042 [==============================] - 3s 21us/step - loss: 0.8946 - acc: 0.6600 - val_loss: 0.7138 - val_acc: 0.7253\n",
            "\n",
            "Epoch 00236: val_loss improved from 0.71663 to 0.71377, saving model to subj1.hdf5\n",
            "Epoch 237/500\n",
            "159042/159042 [==============================] - 3s 21us/step - loss: 0.9256 - acc: 0.6500 - val_loss: 0.7370 - val_acc: 0.7169\n",
            "Epoch 238/500\n",
            "159042/159042 [==============================] - 3s 21us/step - loss: 0.9268 - acc: 0.6495 - val_loss: 0.7379 - val_acc: 0.7157\n",
            "\n",
            "Epoch 00238: val_loss did not improve from 0.71377\n",
            "Epoch 239/500\n",
            "159042/159042 [==============================] - 3s 21us/step - loss: 0.9146 - acc: 0.6536 - val_loss: 0.7205 - val_acc: 0.7239\n",
            "Epoch 240/500\n",
            "159042/159042 [==============================] - 3s 21us/step - loss: 0.8964 - acc: 0.6592 - val_loss: 0.7157 - val_acc: 0.7252\n",
            "\n",
            "Epoch 00240: val_loss did not improve from 0.71377\n",
            "Epoch 241/500\n",
            "159042/159042 [==============================] - 3s 21us/step - loss: 0.9280 - acc: 0.6480 - val_loss: 0.7411 - val_acc: 0.7136\n",
            "Epoch 242/500\n",
            "159042/159042 [==============================] - 3s 21us/step - loss: 0.9283 - acc: 0.6479 - val_loss: 0.7343 - val_acc: 0.7184\n",
            "\n",
            "Epoch 00242: val_loss did not improve from 0.71377\n",
            "Epoch 243/500\n",
            "159042/159042 [==============================] - 3s 21us/step - loss: 0.9142 - acc: 0.6531 - val_loss: 0.7221 - val_acc: 0.7257\n",
            "Epoch 244/500\n",
            "159042/159042 [==============================] - 3s 21us/step - loss: 0.8956 - acc: 0.6608 - val_loss: 0.7144 - val_acc: 0.7271\n",
            "\n",
            "Epoch 00244: val_loss did not improve from 0.71377\n",
            "Epoch 245/500\n",
            "159042/159042 [==============================] - 3s 21us/step - loss: 0.9294 - acc: 0.6489 - val_loss: 0.7405 - val_acc: 0.7180\n",
            "Epoch 246/500\n",
            "159042/159042 [==============================] - 3s 21us/step - loss: 0.9268 - acc: 0.6492 - val_loss: 0.7311 - val_acc: 0.7205\n",
            "\n",
            "Epoch 00246: val_loss did not improve from 0.71377\n",
            "Epoch 247/500\n",
            "159042/159042 [==============================] - 3s 21us/step - loss: 0.9086 - acc: 0.6563 - val_loss: 0.7199 - val_acc: 0.7238\n",
            "Epoch 248/500\n",
            "159042/159042 [==============================] - 3s 21us/step - loss: 0.8972 - acc: 0.6594 - val_loss: 0.7129 - val_acc: 0.7280\n",
            "\n",
            "Epoch 00248: val_loss improved from 0.71377 to 0.71291, saving model to subj1.hdf5\n",
            "Epoch 249/500\n",
            "159042/159042 [==============================] - 3s 21us/step - loss: 0.9225 - acc: 0.6498 - val_loss: 0.7377 - val_acc: 0.7186\n",
            "Epoch 250/500\n",
            "159042/159042 [==============================] - 3s 22us/step - loss: 0.9275 - acc: 0.6495 - val_loss: 0.7352 - val_acc: 0.7162\n",
            "\n",
            "Epoch 00250: val_loss did not improve from 0.71291\n",
            "Epoch 251/500\n",
            "159042/159042 [==============================] - 3s 22us/step - loss: 0.9078 - acc: 0.6558 - val_loss: 0.7204 - val_acc: 0.7261\n",
            "Epoch 252/500\n",
            "159042/159042 [==============================] - 3s 22us/step - loss: 0.8978 - acc: 0.6594 - val_loss: 0.7116 - val_acc: 0.7282\n",
            "\n",
            "Epoch 00252: val_loss improved from 0.71291 to 0.71165, saving model to subj1.hdf5\n",
            "Epoch 253/500\n",
            "159042/159042 [==============================] - 3s 21us/step - loss: 0.9237 - acc: 0.6494 - val_loss: 0.7372 - val_acc: 0.7190\n",
            "Epoch 254/500\n",
            "159042/159042 [==============================] - 3s 21us/step - loss: 0.9257 - acc: 0.6500 - val_loss: 0.7336 - val_acc: 0.7193\n",
            "\n",
            "Epoch 00254: val_loss did not improve from 0.71165\n",
            "Epoch 255/500\n",
            "159042/159042 [==============================] - 3s 21us/step - loss: 0.9128 - acc: 0.6542 - val_loss: 0.7234 - val_acc: 0.7218\n",
            "Epoch 256/500\n",
            "159042/159042 [==============================] - 3s 22us/step - loss: 0.8959 - acc: 0.6610 - val_loss: 0.7126 - val_acc: 0.7282\n",
            "\n",
            "Epoch 00256: val_loss did not improve from 0.71165\n",
            "Epoch 257/500\n",
            "159042/159042 [==============================] - 3s 21us/step - loss: 0.9240 - acc: 0.6503 - val_loss: 0.7329 - val_acc: 0.7185\n",
            "Epoch 258/500\n",
            "159042/159042 [==============================] - 3s 22us/step - loss: 0.9233 - acc: 0.6495 - val_loss: 0.7367 - val_acc: 0.7194\n",
            "\n",
            "Epoch 00258: val_loss did not improve from 0.71165\n",
            "Epoch 259/500\n",
            "159042/159042 [==============================] - 3s 21us/step - loss: 0.9095 - acc: 0.6545 - val_loss: 0.7203 - val_acc: 0.7257\n",
            "Epoch 260/500\n",
            "159042/159042 [==============================] - 3s 21us/step - loss: 0.8959 - acc: 0.6600 - val_loss: 0.7118 - val_acc: 0.7284\n",
            "\n",
            "Epoch 00260: val_loss did not improve from 0.71165\n",
            "Epoch 261/500\n",
            "159042/159042 [==============================] - 3s 21us/step - loss: 0.9241 - acc: 0.6494 - val_loss: 0.7360 - val_acc: 0.7158\n",
            "Epoch 262/500\n",
            "159042/159042 [==============================] - 3s 21us/step - loss: 0.9227 - acc: 0.6502 - val_loss: 0.7337 - val_acc: 0.7189\n",
            "\n",
            "Epoch 00262: val_loss did not improve from 0.71165\n",
            "Epoch 263/500\n",
            "159042/159042 [==============================] - 3s 22us/step - loss: 0.9078 - acc: 0.6554 - val_loss: 0.7166 - val_acc: 0.7283\n",
            "Epoch 264/500\n",
            "159042/159042 [==============================] - 3s 22us/step - loss: 0.8951 - acc: 0.6600 - val_loss: 0.7100 - val_acc: 0.7299\n",
            "\n",
            "Epoch 00264: val_loss improved from 0.71165 to 0.71005, saving model to subj1.hdf5\n",
            "Epoch 265/500\n",
            "159042/159042 [==============================] - 3s 21us/step - loss: 0.9225 - acc: 0.6487 - val_loss: 0.7326 - val_acc: 0.7218\n",
            "Epoch 266/500\n",
            "159042/159042 [==============================] - 3s 21us/step - loss: 0.9199 - acc: 0.6510 - val_loss: 0.7319 - val_acc: 0.7211\n",
            "\n",
            "Epoch 00266: val_loss did not improve from 0.71005\n",
            "Epoch 267/500\n",
            "159042/159042 [==============================] - 3s 21us/step - loss: 0.9106 - acc: 0.6537 - val_loss: 0.7174 - val_acc: 0.7261\n",
            "Epoch 268/500\n",
            "159042/159042 [==============================] - 3s 21us/step - loss: 0.8915 - acc: 0.6616 - val_loss: 0.7086 - val_acc: 0.7315\n",
            "\n",
            "Epoch 00268: val_loss improved from 0.71005 to 0.70859, saving model to subj1.hdf5\n",
            "Epoch 269/500\n",
            "159042/159042 [==============================] - 3s 21us/step - loss: 0.9178 - acc: 0.6499 - val_loss: 0.7399 - val_acc: 0.7157\n",
            "Epoch 270/500\n",
            "159042/159042 [==============================] - 3s 21us/step - loss: 0.9226 - acc: 0.6495 - val_loss: 0.7319 - val_acc: 0.7225\n",
            "\n",
            "Epoch 00270: val_loss did not improve from 0.70859\n",
            "Epoch 271/500\n",
            "159042/159042 [==============================] - 3s 21us/step - loss: 0.9049 - acc: 0.6561 - val_loss: 0.7177 - val_acc: 0.7270\n",
            "Epoch 272/500\n",
            "159042/159042 [==============================] - 3s 21us/step - loss: 0.8912 - acc: 0.6610 - val_loss: 0.7057 - val_acc: 0.7327\n",
            "\n",
            "Epoch 00272: val_loss improved from 0.70859 to 0.70568, saving model to subj1.hdf5\n",
            "Epoch 273/500\n",
            "159042/159042 [==============================] - 3s 21us/step - loss: 0.9195 - acc: 0.6514 - val_loss: 0.7287 - val_acc: 0.7236\n",
            "Epoch 274/500\n",
            "159042/159042 [==============================] - 3s 21us/step - loss: 0.9209 - acc: 0.6513 - val_loss: 0.7268 - val_acc: 0.7230\n",
            "\n",
            "Epoch 00274: val_loss did not improve from 0.70568\n",
            "Epoch 275/500\n",
            "159042/159042 [==============================] - 3s 21us/step - loss: 0.9079 - acc: 0.6560 - val_loss: 0.7168 - val_acc: 0.7265\n",
            "Epoch 276/500\n",
            "159042/159042 [==============================] - 3s 22us/step - loss: 0.8895 - acc: 0.6643 - val_loss: 0.7082 - val_acc: 0.7304\n",
            "\n",
            "Epoch 00276: val_loss did not improve from 0.70568\n",
            "Epoch 277/500\n",
            "159042/159042 [==============================] - 3s 22us/step - loss: 0.9166 - acc: 0.6533 - val_loss: 0.7274 - val_acc: 0.7255\n",
            "Epoch 278/500\n",
            "159042/159042 [==============================] - 3s 22us/step - loss: 0.9190 - acc: 0.6508 - val_loss: 0.7246 - val_acc: 0.7246\n",
            "\n",
            "Epoch 00278: val_loss did not improve from 0.70568\n",
            "Epoch 279/500\n",
            "159042/159042 [==============================] - 4s 22us/step - loss: 0.9066 - acc: 0.6562 - val_loss: 0.7174 - val_acc: 0.7257\n",
            "Epoch 280/500\n",
            "159042/159042 [==============================] - 3s 22us/step - loss: 0.8929 - acc: 0.6617 - val_loss: 0.7067 - val_acc: 0.7305\n",
            "\n",
            "Epoch 00280: val_loss did not improve from 0.70568\n",
            "Epoch 281/500\n",
            "159042/159042 [==============================] - 3s 22us/step - loss: 0.9169 - acc: 0.6524 - val_loss: 0.7341 - val_acc: 0.7177\n",
            "Epoch 282/500\n",
            "159042/159042 [==============================] - 3s 22us/step - loss: 0.9318 - acc: 0.6501 - val_loss: 0.7813 - val_acc: 0.7013\n",
            "\n",
            "Epoch 00282: val_loss did not improve from 0.70568\n",
            "Epoch 283/500\n",
            "159042/159042 [==============================] - 3s 22us/step - loss: 0.9399 - acc: 0.6450 - val_loss: 0.7293 - val_acc: 0.7229\n",
            "Epoch 284/500\n",
            "159042/159042 [==============================] - 3s 22us/step - loss: 0.9057 - acc: 0.6574 - val_loss: 0.7203 - val_acc: 0.7241\n",
            "\n",
            "Epoch 00284: val_loss did not improve from 0.70568\n",
            "Epoch 285/500\n",
            "159042/159042 [==============================] - 3s 22us/step - loss: 0.9245 - acc: 0.6501 - val_loss: 0.7302 - val_acc: 0.7227\n",
            "Epoch 286/500\n",
            "159042/159042 [==============================] - 3s 22us/step - loss: 0.9202 - acc: 0.6507 - val_loss: 0.7255 - val_acc: 0.7243\n",
            "\n",
            "Epoch 00286: val_loss did not improve from 0.70568\n",
            "Epoch 287/500\n",
            "159042/159042 [==============================] - 3s 22us/step - loss: 0.9078 - acc: 0.6560 - val_loss: 0.7164 - val_acc: 0.7250\n",
            "Epoch 288/500\n",
            "159042/159042 [==============================] - 3s 22us/step - loss: 0.8944 - acc: 0.6606 - val_loss: 0.7074 - val_acc: 0.7301\n",
            "\n",
            "Epoch 00288: val_loss did not improve from 0.70568\n",
            "Epoch 289/500\n",
            "159042/159042 [==============================] - 3s 22us/step - loss: 0.9165 - acc: 0.6537 - val_loss: 0.7305 - val_acc: 0.7217\n",
            "Epoch 290/500\n",
            "159042/159042 [==============================] - 3s 22us/step - loss: 0.9172 - acc: 0.6511 - val_loss: 0.7243 - val_acc: 0.7234\n",
            "\n",
            "Epoch 00290: val_loss did not improve from 0.70568\n",
            "Epoch 291/500\n",
            "159042/159042 [==============================] - 3s 22us/step - loss: 0.9035 - acc: 0.6583 - val_loss: 0.7131 - val_acc: 0.7276\n",
            "Epoch 292/500\n",
            "159042/159042 [==============================] - 3s 22us/step - loss: 0.8905 - acc: 0.6626 - val_loss: 0.7075 - val_acc: 0.7299\n",
            "\n",
            "Epoch 00292: val_loss did not improve from 0.70568\n",
            "Epoch 293/500\n",
            "159042/159042 [==============================] - 3s 22us/step - loss: 0.9183 - acc: 0.6526 - val_loss: 0.7306 - val_acc: 0.7190\n",
            "Epoch 294/500\n",
            "159042/159042 [==============================] - 3s 22us/step - loss: 0.9186 - acc: 0.6516 - val_loss: 0.7232 - val_acc: 0.7223\n",
            "\n",
            "Epoch 00294: val_loss did not improve from 0.70568\n",
            "Epoch 295/500\n",
            "159042/159042 [==============================] - 3s 22us/step - loss: 0.9041 - acc: 0.6572 - val_loss: 0.7138 - val_acc: 0.7273\n",
            "Epoch 296/500\n",
            "159042/159042 [==============================] - 3s 22us/step - loss: 0.8889 - acc: 0.6636 - val_loss: 0.7064 - val_acc: 0.7315\n",
            "\n",
            "Epoch 00296: val_loss did not improve from 0.70568\n",
            "Epoch 297/500\n",
            "159042/159042 [==============================] - 3s 22us/step - loss: 0.9129 - acc: 0.6540 - val_loss: 0.7256 - val_acc: 0.7226\n",
            "Epoch 298/500\n",
            "159042/159042 [==============================] - 3s 22us/step - loss: 0.9167 - acc: 0.6531 - val_loss: 0.7251 - val_acc: 0.7232\n",
            "\n",
            "Epoch 00298: val_loss did not improve from 0.70568\n",
            "Epoch 299/500\n",
            "159042/159042 [==============================] - 3s 22us/step - loss: 0.9012 - acc: 0.6584 - val_loss: 0.7141 - val_acc: 0.7257\n",
            "Epoch 300/500\n",
            "159042/159042 [==============================] - 3s 22us/step - loss: 0.8856 - acc: 0.6633 - val_loss: 0.7037 - val_acc: 0.7310\n",
            "\n",
            "Epoch 00300: val_loss improved from 0.70568 to 0.70374, saving model to subj1.hdf5\n",
            "Epoch 301/500\n",
            "159042/159042 [==============================] - 3s 22us/step - loss: 0.9164 - acc: 0.6530 - val_loss: 0.7234 - val_acc: 0.7262\n",
            "Epoch 302/500\n",
            "159042/159042 [==============================] - 3s 22us/step - loss: 0.9170 - acc: 0.6540 - val_loss: 0.7210 - val_acc: 0.7250\n",
            "\n",
            "Epoch 00302: val_loss did not improve from 0.70374\n",
            "Epoch 303/500\n",
            "159042/159042 [==============================] - 3s 22us/step - loss: 0.9012 - acc: 0.6591 - val_loss: 0.7120 - val_acc: 0.7256\n",
            "Epoch 304/500\n",
            "159042/159042 [==============================] - 3s 22us/step - loss: 0.8862 - acc: 0.6641 - val_loss: 0.7041 - val_acc: 0.7303\n",
            "\n",
            "Epoch 00304: val_loss did not improve from 0.70374\n",
            "Epoch 305/500\n",
            "159042/159042 [==============================] - 3s 22us/step - loss: 0.9174 - acc: 0.6532 - val_loss: 0.7211 - val_acc: 0.7236\n",
            "Epoch 306/500\n",
            "159042/159042 [==============================] - 3s 22us/step - loss: 0.9153 - acc: 0.6520 - val_loss: 0.7212 - val_acc: 0.7274\n",
            "\n",
            "Epoch 00306: val_loss did not improve from 0.70374\n",
            "Epoch 307/500\n",
            "159042/159042 [==============================] - 3s 22us/step - loss: 0.9046 - acc: 0.6572 - val_loss: 0.7154 - val_acc: 0.7280\n",
            "Epoch 308/500\n",
            "159042/159042 [==============================] - 3s 22us/step - loss: 0.8871 - acc: 0.6629 - val_loss: 0.7026 - val_acc: 0.7332\n",
            "\n",
            "Epoch 00308: val_loss improved from 0.70374 to 0.70257, saving model to subj1.hdf5\n",
            "Epoch 309/500\n",
            "159042/159042 [==============================] - 3s 22us/step - loss: 0.9136 - acc: 0.6541 - val_loss: 0.7273 - val_acc: 0.7199\n",
            "Epoch 310/500\n",
            "159042/159042 [==============================] - 3s 22us/step - loss: 0.9176 - acc: 0.6540 - val_loss: 0.7214 - val_acc: 0.7274\n",
            "\n",
            "Epoch 00310: val_loss did not improve from 0.70257\n",
            "Epoch 311/500\n",
            "159042/159042 [==============================] - 3s 22us/step - loss: 0.8992 - acc: 0.6593 - val_loss: 0.7107 - val_acc: 0.7293\n",
            "Epoch 312/500\n",
            "159042/159042 [==============================] - 3s 22us/step - loss: 0.8864 - acc: 0.6644 - val_loss: 0.7039 - val_acc: 0.7320\n",
            "\n",
            "Epoch 00312: val_loss did not improve from 0.70257\n",
            "Epoch 313/500\n",
            "159042/159042 [==============================] - 3s 22us/step - loss: 0.9151 - acc: 0.6529 - val_loss: 0.7305 - val_acc: 0.7202\n",
            "Epoch 314/500\n",
            "159042/159042 [==============================] - 3s 22us/step - loss: 0.9155 - acc: 0.6534 - val_loss: 0.7236 - val_acc: 0.7226\n",
            "\n",
            "Epoch 00314: val_loss did not improve from 0.70257\n",
            "Epoch 315/500\n",
            "159042/159042 [==============================] - 3s 22us/step - loss: 0.8982 - acc: 0.6590 - val_loss: 0.7102 - val_acc: 0.7300\n",
            "Epoch 316/500\n",
            "159042/159042 [==============================] - 3s 22us/step - loss: 0.8851 - acc: 0.6642 - val_loss: 0.7036 - val_acc: 0.7344\n",
            "\n",
            "Epoch 00316: val_loss did not improve from 0.70257\n",
            "Epoch 317/500\n",
            "159042/159042 [==============================] - 3s 22us/step - loss: 0.9142 - acc: 0.6545 - val_loss: 0.7328 - val_acc: 0.7216\n",
            "Epoch 318/500\n",
            "159042/159042 [==============================] - 3s 22us/step - loss: 0.9183 - acc: 0.6532 - val_loss: 0.7275 - val_acc: 0.7233\n",
            "\n",
            "Epoch 00318: val_loss did not improve from 0.70257\n",
            "Epoch 319/500\n",
            "159042/159042 [==============================] - 3s 22us/step - loss: 0.9021 - acc: 0.6576 - val_loss: 0.7121 - val_acc: 0.7284\n",
            "Epoch 320/500\n",
            "159042/159042 [==============================] - 3s 22us/step - loss: 0.8854 - acc: 0.6636 - val_loss: 0.7019 - val_acc: 0.7328\n",
            "\n",
            "Epoch 00320: val_loss improved from 0.70257 to 0.70188, saving model to subj1.hdf5\n",
            "Epoch 321/500\n",
            "159042/159042 [==============================] - 3s 22us/step - loss: 0.9131 - acc: 0.6543 - val_loss: 0.7215 - val_acc: 0.7251\n",
            "Epoch 322/500\n",
            "159042/159042 [==============================] - 3s 22us/step - loss: 0.9122 - acc: 0.6537 - val_loss: 0.7204 - val_acc: 0.7258\n",
            "\n",
            "Epoch 00322: val_loss did not improve from 0.70188\n",
            "Epoch 323/500\n",
            "159042/159042 [==============================] - 3s 22us/step - loss: 0.9001 - acc: 0.6576 - val_loss: 0.7072 - val_acc: 0.7295\n",
            "Epoch 324/500\n",
            "159042/159042 [==============================] - 3s 22us/step - loss: 0.8868 - acc: 0.6635 - val_loss: 0.7019 - val_acc: 0.7333\n",
            "\n",
            "Epoch 00324: val_loss did not improve from 0.70188\n",
            "Epoch 325/500\n",
            "159042/159042 [==============================] - 3s 22us/step - loss: 0.9122 - acc: 0.6545 - val_loss: 0.7283 - val_acc: 0.7237\n",
            "Epoch 326/500\n",
            "159042/159042 [==============================] - 3s 22us/step - loss: 0.9251 - acc: 0.6507 - val_loss: 0.7208 - val_acc: 0.7263\n",
            "\n",
            "Epoch 00326: val_loss did not improve from 0.70188\n",
            "Epoch 327/500\n",
            "159042/159042 [==============================] - 3s 22us/step - loss: 0.9042 - acc: 0.6576 - val_loss: 0.7121 - val_acc: 0.7285\n",
            "Epoch 328/500\n",
            "159042/159042 [==============================] - 3s 22us/step - loss: 0.8869 - acc: 0.6626 - val_loss: 0.7045 - val_acc: 0.7316\n",
            "\n",
            "Epoch 00328: val_loss did not improve from 0.70188\n",
            "Epoch 329/500\n",
            "159042/159042 [==============================] - 3s 22us/step - loss: 0.9127 - acc: 0.6539 - val_loss: 0.7363 - val_acc: 0.7178\n",
            "Epoch 330/500\n",
            "159042/159042 [==============================] - 3s 22us/step - loss: 0.9172 - acc: 0.6526 - val_loss: 0.7191 - val_acc: 0.7264\n",
            "\n",
            "Epoch 00330: val_loss did not improve from 0.70188\n",
            "Epoch 331/500\n",
            "159042/159042 [==============================] - 3s 21us/step - loss: 0.8968 - acc: 0.6601 - val_loss: 0.7113 - val_acc: 0.7276\n",
            "Epoch 332/500\n",
            "159042/159042 [==============================] - 3s 21us/step - loss: 0.8876 - acc: 0.6636 - val_loss: 0.7028 - val_acc: 0.7323\n",
            "\n",
            "Epoch 00332: val_loss did not improve from 0.70188\n",
            "Epoch 333/500\n",
            "159042/159042 [==============================] - 3s 22us/step - loss: 0.9117 - acc: 0.6543 - val_loss: 0.7206 - val_acc: 0.7252\n",
            "Epoch 334/500\n",
            "159042/159042 [==============================] - 3s 22us/step - loss: 0.9131 - acc: 0.6544 - val_loss: 0.7220 - val_acc: 0.7235\n",
            "\n",
            "Epoch 00334: val_loss did not improve from 0.70188\n",
            "Epoch 335/500\n",
            "159042/159042 [==============================] - 3s 22us/step - loss: 0.8966 - acc: 0.6600 - val_loss: 0.7084 - val_acc: 0.7298\n",
            "Epoch 336/500\n",
            "159042/159042 [==============================] - 3s 22us/step - loss: 0.8848 - acc: 0.6649 - val_loss: 0.7025 - val_acc: 0.7326\n",
            "\n",
            "Epoch 00336: val_loss did not improve from 0.70188\n",
            "Epoch 337/500\n",
            "159042/159042 [==============================] - 3s 21us/step - loss: 0.9110 - acc: 0.6563 - val_loss: 0.7254 - val_acc: 0.7204\n",
            "Epoch 338/500\n",
            "159042/159042 [==============================] - 3s 22us/step - loss: 0.9101 - acc: 0.6555 - val_loss: 0.7186 - val_acc: 0.7264\n",
            "\n",
            "Epoch 00338: val_loss did not improve from 0.70188\n",
            "Epoch 339/500\n",
            "159042/159042 [==============================] - 3s 22us/step - loss: 0.8988 - acc: 0.6586 - val_loss: 0.7079 - val_acc: 0.7310\n",
            "Epoch 340/500\n",
            "159042/159042 [==============================] - 3s 22us/step - loss: 0.8838 - acc: 0.6637 - val_loss: 0.6992 - val_acc: 0.7343\n",
            "\n",
            "Epoch 00340: val_loss improved from 0.70188 to 0.69923, saving model to subj1.hdf5\n",
            "Epoch 341/500\n",
            "159042/159042 [==============================] - 3s 22us/step - loss: 0.9092 - acc: 0.6549 - val_loss: 0.7179 - val_acc: 0.7275\n",
            "Epoch 342/500\n",
            "159042/159042 [==============================] - 3s 22us/step - loss: 0.9135 - acc: 0.6524 - val_loss: 0.7219 - val_acc: 0.7204\n",
            "\n",
            "Epoch 00342: val_loss did not improve from 0.69923\n",
            "Epoch 343/500\n",
            "159042/159042 [==============================] - 3s 22us/step - loss: 0.8970 - acc: 0.6594 - val_loss: 0.7081 - val_acc: 0.7288\n",
            "Epoch 344/500\n",
            "159042/159042 [==============================] - 3s 22us/step - loss: 0.8831 - acc: 0.6653 - val_loss: 0.6998 - val_acc: 0.7348\n",
            "\n",
            "Epoch 00344: val_loss did not improve from 0.69923\n",
            "Epoch 345/500\n",
            "159042/159042 [==============================] - 3s 22us/step - loss: 0.9064 - acc: 0.6561 - val_loss: 0.7187 - val_acc: 0.7284\n",
            "Epoch 346/500\n",
            "159042/159042 [==============================] - 3s 22us/step - loss: 0.9092 - acc: 0.6562 - val_loss: 0.7196 - val_acc: 0.7262\n",
            "\n",
            "Epoch 00346: val_loss did not improve from 0.69923\n",
            "Epoch 347/500\n",
            "159042/159042 [==============================] - 3s 22us/step - loss: 0.8952 - acc: 0.6610 - val_loss: 0.7091 - val_acc: 0.7288\n",
            "Epoch 348/500\n",
            "159042/159042 [==============================] - 3s 22us/step - loss: 0.8800 - acc: 0.6657 - val_loss: 0.6988 - val_acc: 0.7341\n",
            "\n",
            "Epoch 00348: val_loss improved from 0.69923 to 0.69876, saving model to subj1.hdf5\n",
            "Epoch 349/500\n",
            "159042/159042 [==============================] - 3s 22us/step - loss: 0.9060 - acc: 0.6560 - val_loss: 0.7221 - val_acc: 0.7266\n",
            "Epoch 350/500\n",
            "159042/159042 [==============================] - 3s 22us/step - loss: 0.9062 - acc: 0.6563 - val_loss: 0.7125 - val_acc: 0.7282\n",
            "\n",
            "Epoch 00350: val_loss did not improve from 0.69876\n",
            "Epoch 351/500\n",
            "159042/159042 [==============================] - 3s 22us/step - loss: 0.8950 - acc: 0.6612 - val_loss: 0.7034 - val_acc: 0.7319\n",
            "Epoch 352/500\n",
            "159042/159042 [==============================] - 3s 22us/step - loss: 0.8810 - acc: 0.6664 - val_loss: 0.6979 - val_acc: 0.7344\n",
            "\n",
            "Epoch 00352: val_loss improved from 0.69876 to 0.69788, saving model to subj1.hdf5\n",
            "Epoch 353/500\n",
            "159042/159042 [==============================] - 3s 22us/step - loss: 0.9096 - acc: 0.6556 - val_loss: 0.7195 - val_acc: 0.7255\n",
            "Epoch 354/500\n",
            "159042/159042 [==============================] - 3s 22us/step - loss: 0.9091 - acc: 0.6568 - val_loss: 0.7172 - val_acc: 0.7223\n",
            "\n",
            "Epoch 00354: val_loss did not improve from 0.69788\n",
            "Epoch 355/500\n",
            "159042/159042 [==============================] - 3s 22us/step - loss: 0.8952 - acc: 0.6611 - val_loss: 0.7066 - val_acc: 0.7295\n",
            "Epoch 356/500\n",
            "159042/159042 [==============================] - 3s 22us/step - loss: 0.8804 - acc: 0.6648 - val_loss: 0.6985 - val_acc: 0.7358\n",
            "\n",
            "Epoch 00356: val_loss did not improve from 0.69788\n",
            "Epoch 357/500\n",
            "159042/159042 [==============================] - 3s 22us/step - loss: 0.9073 - acc: 0.6570 - val_loss: 0.7227 - val_acc: 0.7215\n",
            "Epoch 358/500\n",
            "159042/159042 [==============================] - 3s 22us/step - loss: 0.9109 - acc: 0.6546 - val_loss: 0.7171 - val_acc: 0.7265\n",
            "\n",
            "Epoch 00358: val_loss did not improve from 0.69788\n",
            "Epoch 359/500\n",
            "159042/159042 [==============================] - 3s 22us/step - loss: 0.8938 - acc: 0.6600 - val_loss: 0.7030 - val_acc: 0.7320\n",
            "Epoch 360/500\n",
            "159042/159042 [==============================] - 3s 22us/step - loss: 0.8791 - acc: 0.6657 - val_loss: 0.6964 - val_acc: 0.7341\n",
            "\n",
            "Epoch 00360: val_loss improved from 0.69788 to 0.69644, saving model to subj1.hdf5\n",
            "Epoch 361/500\n",
            "159042/159042 [==============================] - 3s 21us/step - loss: 0.9057 - acc: 0.6566 - val_loss: 0.7204 - val_acc: 0.7252\n",
            "Epoch 362/500\n",
            "159042/159042 [==============================] - 3s 22us/step - loss: 0.9076 - acc: 0.6568 - val_loss: 0.7117 - val_acc: 0.7260\n",
            "\n",
            "Epoch 00362: val_loss did not improve from 0.69644\n",
            "Epoch 363/500\n",
            "159042/159042 [==============================] - 3s 22us/step - loss: 0.8940 - acc: 0.6611 - val_loss: 0.7043 - val_acc: 0.7299\n",
            "Epoch 364/500\n",
            "159042/159042 [==============================] - 3s 22us/step - loss: 0.8804 - acc: 0.6671 - val_loss: 0.6979 - val_acc: 0.7330\n",
            "\n",
            "Epoch 00364: val_loss did not improve from 0.69644\n",
            "Epoch 365/500\n",
            "159042/159042 [==============================] - 3s 22us/step - loss: 0.9078 - acc: 0.6549 - val_loss: 0.7199 - val_acc: 0.7242\n",
            "Epoch 366/500\n",
            "159042/159042 [==============================] - 3s 22us/step - loss: 0.9057 - acc: 0.6573 - val_loss: 0.7159 - val_acc: 0.7238\n",
            "\n",
            "Epoch 00366: val_loss did not improve from 0.69644\n",
            "Epoch 367/500\n",
            "159042/159042 [==============================] - 3s 22us/step - loss: 0.8954 - acc: 0.6600 - val_loss: 0.7030 - val_acc: 0.7339\n",
            "Epoch 368/500\n",
            "159042/159042 [==============================] - 3s 22us/step - loss: 0.8803 - acc: 0.6649 - val_loss: 0.6969 - val_acc: 0.7347\n",
            "\n",
            "Epoch 00368: val_loss did not improve from 0.69644\n",
            "Epoch 369/500\n",
            "159042/159042 [==============================] - 3s 22us/step - loss: 0.9087 - acc: 0.6549 - val_loss: 0.7172 - val_acc: 0.7254\n",
            "Epoch 370/500\n",
            "159042/159042 [==============================] - 3s 22us/step - loss: 0.9077 - acc: 0.6573 - val_loss: 0.7162 - val_acc: 0.7247\n",
            "\n",
            "Epoch 00370: val_loss did not improve from 0.69644\n",
            "Epoch 371/500\n",
            "159042/159042 [==============================] - 3s 22us/step - loss: 0.8971 - acc: 0.6585 - val_loss: 0.7065 - val_acc: 0.7311\n",
            "Epoch 372/500\n",
            "159042/159042 [==============================] - 3s 22us/step - loss: 0.8768 - acc: 0.6676 - val_loss: 0.6952 - val_acc: 0.7363\n",
            "\n",
            "Epoch 00372: val_loss improved from 0.69644 to 0.69516, saving model to subj1.hdf5\n",
            "Epoch 373/500\n",
            "159042/159042 [==============================] - 3s 22us/step - loss: 0.9051 - acc: 0.6567 - val_loss: 0.7161 - val_acc: 0.7283\n",
            "Epoch 374/500\n",
            "159042/159042 [==============================] - 3s 22us/step - loss: 0.9069 - acc: 0.6557 - val_loss: 0.7150 - val_acc: 0.7258\n",
            "\n",
            "Epoch 00374: val_loss did not improve from 0.69516\n",
            "Epoch 375/500\n",
            "159042/159042 [==============================] - 3s 22us/step - loss: 0.8928 - acc: 0.6610 - val_loss: 0.7034 - val_acc: 0.7339\n",
            "Epoch 376/500\n",
            "159042/159042 [==============================] - 3s 22us/step - loss: 0.8802 - acc: 0.6662 - val_loss: 0.6961 - val_acc: 0.7358\n",
            "\n",
            "Epoch 00376: val_loss did not improve from 0.69516\n",
            "Epoch 377/500\n",
            "159042/159042 [==============================] - 3s 22us/step - loss: 0.9032 - acc: 0.6581 - val_loss: 0.7227 - val_acc: 0.7245\n",
            "Epoch 378/500\n",
            "159042/159042 [==============================] - 3s 22us/step - loss: 0.9094 - acc: 0.6557 - val_loss: 0.7125 - val_acc: 0.7292\n",
            "\n",
            "Epoch 00378: val_loss did not improve from 0.69516\n",
            "Epoch 379/500\n",
            "159042/159042 [==============================] - 3s 22us/step - loss: 0.8911 - acc: 0.6612 - val_loss: 0.7039 - val_acc: 0.7297\n",
            "Epoch 380/500\n",
            "159042/159042 [==============================] - 3s 22us/step - loss: 0.8779 - acc: 0.6682 - val_loss: 0.6946 - val_acc: 0.7364\n",
            "\n",
            "Epoch 00380: val_loss improved from 0.69516 to 0.69460, saving model to subj1.hdf5\n",
            "Epoch 381/500\n",
            "159042/159042 [==============================] - 3s 22us/step - loss: 0.9036 - acc: 0.6585 - val_loss: 0.7105 - val_acc: 0.7275\n",
            "Epoch 382/500\n",
            "159042/159042 [==============================] - 3s 22us/step - loss: 0.9074 - acc: 0.6559 - val_loss: 0.7135 - val_acc: 0.7272\n",
            "\n",
            "Epoch 00382: val_loss did not improve from 0.69460\n",
            "Epoch 383/500\n",
            "159042/159042 [==============================] - 3s 22us/step - loss: 0.8911 - acc: 0.6619 - val_loss: 0.7042 - val_acc: 0.7302\n",
            "Epoch 384/500\n",
            "159042/159042 [==============================] - 3s 21us/step - loss: 0.8804 - acc: 0.6655 - val_loss: 0.6940 - val_acc: 0.7373\n",
            "\n",
            "Epoch 00384: val_loss improved from 0.69460 to 0.69397, saving model to subj1.hdf5\n",
            "Epoch 385/500\n",
            "159042/159042 [==============================] - 3s 22us/step - loss: 0.9053 - acc: 0.6571 - val_loss: 0.7187 - val_acc: 0.7262\n",
            "Epoch 386/500\n",
            "159042/159042 [==============================] - 3s 22us/step - loss: 0.9081 - acc: 0.6556 - val_loss: 0.7130 - val_acc: 0.7276\n",
            "\n",
            "Epoch 00386: val_loss did not improve from 0.69397\n",
            "Epoch 387/500\n",
            "159042/159042 [==============================] - 3s 22us/step - loss: 0.8929 - acc: 0.6624 - val_loss: 0.7035 - val_acc: 0.7324\n",
            "Epoch 388/500\n",
            "159042/159042 [==============================] - 3s 22us/step - loss: 0.8755 - acc: 0.6678 - val_loss: 0.6932 - val_acc: 0.7378\n",
            "\n",
            "Epoch 00388: val_loss improved from 0.69397 to 0.69322, saving model to subj1.hdf5\n",
            "Epoch 389/500\n",
            "159042/159042 [==============================] - 3s 22us/step - loss: 0.9076 - acc: 0.6569 - val_loss: 0.7136 - val_acc: 0.7273\n",
            "Epoch 390/500\n",
            "159042/159042 [==============================] - 3s 22us/step - loss: 0.9062 - acc: 0.6577 - val_loss: 0.7170 - val_acc: 0.7273\n",
            "\n",
            "Epoch 00390: val_loss did not improve from 0.69322\n",
            "Epoch 391/500\n",
            "159042/159042 [==============================] - 3s 22us/step - loss: 0.8881 - acc: 0.6634 - val_loss: 0.6999 - val_acc: 0.7341\n",
            "Epoch 392/500\n",
            "159042/159042 [==============================] - 3s 22us/step - loss: 0.8757 - acc: 0.6676 - val_loss: 0.6939 - val_acc: 0.7374\n",
            "\n",
            "Epoch 00392: val_loss did not improve from 0.69322\n",
            "Epoch 393/500\n",
            "159042/159042 [==============================] - 3s 22us/step - loss: 0.9059 - acc: 0.6566 - val_loss: 0.7179 - val_acc: 0.7259\n",
            "Epoch 394/500\n",
            "159042/159042 [==============================] - 3s 22us/step - loss: 0.9047 - acc: 0.6571 - val_loss: 0.7093 - val_acc: 0.7310\n",
            "\n",
            "Epoch 00394: val_loss did not improve from 0.69322\n",
            "Epoch 395/500\n",
            "159042/159042 [==============================] - 3s 22us/step - loss: 0.8907 - acc: 0.6612 - val_loss: 0.7027 - val_acc: 0.7321\n",
            "Epoch 396/500\n",
            "159042/159042 [==============================] - 3s 22us/step - loss: 0.8770 - acc: 0.6655 - val_loss: 0.6959 - val_acc: 0.7358\n",
            "\n",
            "Epoch 00396: val_loss did not improve from 0.69322\n",
            "Epoch 397/500\n",
            "159042/159042 [==============================] - 3s 22us/step - loss: 0.9010 - acc: 0.6570 - val_loss: 0.7126 - val_acc: 0.7277\n",
            "Epoch 398/500\n",
            "159042/159042 [==============================] - 3s 22us/step - loss: 0.9035 - acc: 0.6570 - val_loss: 0.7121 - val_acc: 0.7275\n",
            "\n",
            "Epoch 00398: val_loss did not improve from 0.69322\n",
            "Epoch 399/500\n",
            "159042/159042 [==============================] - 3s 22us/step - loss: 0.8861 - acc: 0.6629 - val_loss: 0.7029 - val_acc: 0.7326\n",
            "Epoch 400/500\n",
            "159042/159042 [==============================] - 3s 22us/step - loss: 0.8734 - acc: 0.6686 - val_loss: 0.6930 - val_acc: 0.7352\n",
            "\n",
            "Epoch 00400: val_loss improved from 0.69322 to 0.69302, saving model to subj1.hdf5\n",
            "Epoch 401/500\n",
            "159042/159042 [==============================] - 3s 22us/step - loss: 0.9046 - acc: 0.6570 - val_loss: 0.7143 - val_acc: 0.7260\n",
            "Epoch 402/500\n",
            "159042/159042 [==============================] - 3s 22us/step - loss: 0.9000 - acc: 0.6591 - val_loss: 0.7092 - val_acc: 0.7293\n",
            "\n",
            "Epoch 00402: val_loss did not improve from 0.69302\n",
            "Epoch 403/500\n",
            "159042/159042 [==============================] - 3s 22us/step - loss: 0.8905 - acc: 0.6628 - val_loss: 0.6981 - val_acc: 0.7350\n",
            "Epoch 404/500\n",
            "159042/159042 [==============================] - 3s 22us/step - loss: 0.8778 - acc: 0.6664 - val_loss: 0.6922 - val_acc: 0.7377\n",
            "\n",
            "Epoch 00404: val_loss improved from 0.69302 to 0.69218, saving model to subj1.hdf5\n",
            "Epoch 405/500\n",
            "159042/159042 [==============================] - 3s 22us/step - loss: 0.9032 - acc: 0.6578 - val_loss: 0.7166 - val_acc: 0.7261\n",
            "Epoch 406/500\n",
            "159042/159042 [==============================] - 3s 22us/step - loss: 0.9035 - acc: 0.6582 - val_loss: 0.7106 - val_acc: 0.7303\n",
            "\n",
            "Epoch 00406: val_loss did not improve from 0.69218\n",
            "Epoch 407/500\n",
            "159042/159042 [==============================] - 3s 22us/step - loss: 0.8918 - acc: 0.6615 - val_loss: 0.7003 - val_acc: 0.7324\n",
            "Epoch 408/500\n",
            "159042/159042 [==============================] - 3s 22us/step - loss: 0.8746 - acc: 0.6667 - val_loss: 0.6926 - val_acc: 0.7364\n",
            "\n",
            "Epoch 00408: val_loss did not improve from 0.69218\n",
            "Epoch 409/500\n",
            "159042/159042 [==============================] - 3s 22us/step - loss: 0.9019 - acc: 0.6578 - val_loss: 0.7153 - val_acc: 0.7257\n",
            "Epoch 410/500\n",
            "159042/159042 [==============================] - 3s 22us/step - loss: 0.9017 - acc: 0.6590 - val_loss: 0.7094 - val_acc: 0.7313\n",
            "\n",
            "Epoch 00410: val_loss did not improve from 0.69218\n",
            "Epoch 411/500\n",
            "159042/159042 [==============================] - 3s 22us/step - loss: 0.8863 - acc: 0.6635 - val_loss: 0.6993 - val_acc: 0.7342\n",
            "Epoch 412/500\n",
            "159042/159042 [==============================] - 3s 22us/step - loss: 0.8761 - acc: 0.6672 - val_loss: 0.6930 - val_acc: 0.7375\n",
            "\n",
            "Epoch 00412: val_loss did not improve from 0.69218\n",
            "Epoch 413/500\n",
            "159042/159042 [==============================] - 4s 22us/step - loss: 0.9007 - acc: 0.6585 - val_loss: 0.7123 - val_acc: 0.7276\n",
            "Epoch 414/500\n",
            "159042/159042 [==============================] - 4s 22us/step - loss: 0.9028 - acc: 0.6577 - val_loss: 0.7098 - val_acc: 0.7252\n",
            "\n",
            "Epoch 00414: val_loss did not improve from 0.69218\n",
            "Epoch 415/500\n",
            "159042/159042 [==============================] - 4s 22us/step - loss: 0.8896 - acc: 0.6625 - val_loss: 0.6998 - val_acc: 0.7319\n",
            "Epoch 416/500\n",
            "159042/159042 [==============================] - 4s 22us/step - loss: 0.8744 - acc: 0.6679 - val_loss: 0.6934 - val_acc: 0.7351\n",
            "\n",
            "Epoch 00416: val_loss did not improve from 0.69218\n",
            "Epoch 417/500\n",
            "159042/159042 [==============================] - 3s 22us/step - loss: 0.9044 - acc: 0.6572 - val_loss: 0.7146 - val_acc: 0.7262\n",
            "Epoch 418/500\n",
            "159042/159042 [==============================] - 4s 22us/step - loss: 0.8983 - acc: 0.6589 - val_loss: 0.7091 - val_acc: 0.7303\n",
            "\n",
            "Epoch 00418: val_loss did not improve from 0.69218\n",
            "Epoch 419/500\n",
            "159042/159042 [==============================] - 3s 22us/step - loss: 0.8860 - acc: 0.6642 - val_loss: 0.7005 - val_acc: 0.7335\n",
            "Epoch 420/500\n",
            "159042/159042 [==============================] - 3s 22us/step - loss: 0.8759 - acc: 0.6669 - val_loss: 0.6912 - val_acc: 0.7363\n",
            "\n",
            "Epoch 00420: val_loss improved from 0.69218 to 0.69123, saving model to subj1.hdf5\n",
            "Epoch 421/500\n",
            "159042/159042 [==============================] - 4s 22us/step - loss: 0.9034 - acc: 0.6575 - val_loss: 0.7130 - val_acc: 0.7272\n",
            "Epoch 422/500\n",
            "159042/159042 [==============================] - 4s 22us/step - loss: 0.9007 - acc: 0.6597 - val_loss: 0.7108 - val_acc: 0.7272\n",
            "\n",
            "Epoch 00422: val_loss did not improve from 0.69123\n",
            "Epoch 423/500\n",
            "159042/159042 [==============================] - 4s 22us/step - loss: 0.8901 - acc: 0.6613 - val_loss: 0.7025 - val_acc: 0.7314\n",
            "Epoch 424/500\n",
            "159042/159042 [==============================] - 4s 22us/step - loss: 0.8711 - acc: 0.6681 - val_loss: 0.6923 - val_acc: 0.7368\n",
            "\n",
            "Epoch 00424: val_loss did not improve from 0.69123\n",
            "Epoch 425/500\n",
            "159042/159042 [==============================] - 4s 22us/step - loss: 0.8988 - acc: 0.6590 - val_loss: 0.7158 - val_acc: 0.7266\n",
            "Epoch 426/500\n",
            "159042/159042 [==============================] - 4s 22us/step - loss: 0.9023 - acc: 0.6569 - val_loss: 0.7100 - val_acc: 0.7283\n",
            "\n",
            "Epoch 00426: val_loss did not improve from 0.69123\n",
            "Epoch 427/500\n",
            "159042/159042 [==============================] - 4s 22us/step - loss: 0.8858 - acc: 0.6633 - val_loss: 0.6965 - val_acc: 0.7351\n",
            "Epoch 428/500\n",
            "159042/159042 [==============================] - 4s 22us/step - loss: 0.8719 - acc: 0.6701 - val_loss: 0.6922 - val_acc: 0.7366\n",
            "\n",
            "Epoch 00428: val_loss did not improve from 0.69123\n",
            "Epoch 429/500\n",
            "159042/159042 [==============================] - 4s 22us/step - loss: 0.9013 - acc: 0.6587 - val_loss: 0.7133 - val_acc: 0.7254\n",
            "Epoch 430/500\n",
            "159042/159042 [==============================] - 4s 22us/step - loss: 0.8990 - acc: 0.6595 - val_loss: 0.7102 - val_acc: 0.7303\n",
            "\n",
            "Epoch 00430: val_loss did not improve from 0.69123\n",
            "Epoch 431/500\n",
            "159042/159042 [==============================] - 3s 22us/step - loss: 0.8857 - acc: 0.6646 - val_loss: 0.6994 - val_acc: 0.7317\n",
            "Epoch 432/500\n",
            "159042/159042 [==============================] - 4s 22us/step - loss: 0.8739 - acc: 0.6689 - val_loss: 0.6907 - val_acc: 0.7371\n",
            "\n",
            "Epoch 00432: val_loss improved from 0.69123 to 0.69072, saving model to subj1.hdf5\n",
            "Epoch 433/500\n",
            "159042/159042 [==============================] - 4s 22us/step - loss: 0.9004 - acc: 0.6596 - val_loss: 0.7177 - val_acc: 0.7259\n",
            "Epoch 434/500\n",
            "159042/159042 [==============================] - 4s 22us/step - loss: 0.9015 - acc: 0.6592 - val_loss: 0.7107 - val_acc: 0.7276\n",
            "\n",
            "Epoch 00434: val_loss did not improve from 0.69072\n",
            "Epoch 435/500\n",
            "159042/159042 [==============================] - 4s 22us/step - loss: 0.8860 - acc: 0.6646 - val_loss: 0.6987 - val_acc: 0.7317\n",
            "Epoch 436/500\n",
            "159042/159042 [==============================] - 3s 22us/step - loss: 0.8755 - acc: 0.6678 - val_loss: 0.6918 - val_acc: 0.7358\n",
            "\n",
            "Epoch 00436: val_loss did not improve from 0.69072\n",
            "Epoch 437/500\n",
            "159042/159042 [==============================] - 3s 22us/step - loss: 0.8985 - acc: 0.6586 - val_loss: 0.7121 - val_acc: 0.7285\n",
            "Epoch 438/500\n",
            "159042/159042 [==============================] - 3s 22us/step - loss: 0.8972 - acc: 0.6596 - val_loss: 0.7025 - val_acc: 0.7310\n",
            "\n",
            "Epoch 00438: val_loss did not improve from 0.69072\n",
            "Epoch 439/500\n",
            "159042/159042 [==============================] - 3s 22us/step - loss: 0.8880 - acc: 0.6633 - val_loss: 0.6991 - val_acc: 0.7332\n",
            "Epoch 440/500\n",
            "159042/159042 [==============================] - 3s 22us/step - loss: 0.8729 - acc: 0.6682 - val_loss: 0.6903 - val_acc: 0.7359\n",
            "\n",
            "Epoch 00440: val_loss improved from 0.69072 to 0.69028, saving model to subj1.hdf5\n",
            "Epoch 441/500\n",
            "159042/159042 [==============================] - 3s 21us/step - loss: 0.8965 - acc: 0.6594 - val_loss: 0.7128 - val_acc: 0.7244\n",
            "Epoch 442/500\n",
            "159042/159042 [==============================] - 3s 22us/step - loss: 0.8990 - acc: 0.6595 - val_loss: 0.7146 - val_acc: 0.7215\n",
            "\n",
            "Epoch 00442: val_loss did not improve from 0.69028\n",
            "Epoch 443/500\n",
            "159042/159042 [==============================] - 3s 21us/step - loss: 0.8867 - acc: 0.6649 - val_loss: 0.6990 - val_acc: 0.7332\n",
            "Epoch 444/500\n",
            "159042/159042 [==============================] - 3s 21us/step - loss: 0.8742 - acc: 0.6689 - val_loss: 0.6913 - val_acc: 0.7366\n",
            "\n",
            "Epoch 00444: val_loss did not improve from 0.69028\n",
            "Epoch 445/500\n",
            "159042/159042 [==============================] - 3s 22us/step - loss: 0.8965 - acc: 0.6601 - val_loss: 0.7077 - val_acc: 0.7305\n",
            "Epoch 446/500\n",
            "159042/159042 [==============================] - 3s 22us/step - loss: 0.9001 - acc: 0.6576 - val_loss: 0.7066 - val_acc: 0.7287\n",
            "\n",
            "Epoch 00446: val_loss did not improve from 0.69028\n",
            "Epoch 447/500\n",
            "159042/159042 [==============================] - 3s 22us/step - loss: 0.8855 - acc: 0.6651 - val_loss: 0.6970 - val_acc: 0.7354\n",
            "Epoch 448/500\n",
            "159042/159042 [==============================] - 3s 22us/step - loss: 0.8718 - acc: 0.6703 - val_loss: 0.6900 - val_acc: 0.7368\n",
            "\n",
            "Epoch 00448: val_loss improved from 0.69028 to 0.69001, saving model to subj1.hdf5\n",
            "Epoch 449/500\n",
            "159042/159042 [==============================] - 3s 22us/step - loss: 0.8976 - acc: 0.6599 - val_loss: 0.7129 - val_acc: 0.7271\n",
            "Epoch 450/500\n",
            "159042/159042 [==============================] - 3s 22us/step - loss: 0.8943 - acc: 0.6601 - val_loss: 0.7071 - val_acc: 0.7275\n",
            "\n",
            "Epoch 00450: val_loss did not improve from 0.69001\n",
            "Epoch 451/500\n",
            "159042/159042 [==============================] - 3s 22us/step - loss: 0.8850 - acc: 0.6646 - val_loss: 0.6993 - val_acc: 0.7330\n",
            "Epoch 452/500\n",
            "159042/159042 [==============================] - 3s 22us/step - loss: 0.8674 - acc: 0.6696 - val_loss: 0.6860 - val_acc: 0.7387\n",
            "\n",
            "Epoch 00452: val_loss improved from 0.69001 to 0.68596, saving model to subj1.hdf5\n",
            "Epoch 453/500\n",
            "159042/159042 [==============================] - 3s 22us/step - loss: 0.8990 - acc: 0.6599 - val_loss: 0.7117 - val_acc: 0.7299\n",
            "Epoch 454/500\n",
            "159042/159042 [==============================] - 3s 22us/step - loss: 0.8963 - acc: 0.6597 - val_loss: 0.7075 - val_acc: 0.7272\n",
            "\n",
            "Epoch 00454: val_loss did not improve from 0.68596\n",
            "Epoch 455/500\n",
            "159042/159042 [==============================] - 3s 22us/step - loss: 0.8854 - acc: 0.6644 - val_loss: 0.6956 - val_acc: 0.7368\n",
            "Epoch 456/500\n",
            "159042/159042 [==============================] - 3s 22us/step - loss: 0.8725 - acc: 0.6677 - val_loss: 0.6879 - val_acc: 0.7384\n",
            "\n",
            "Epoch 00456: val_loss did not improve from 0.68596\n",
            "Epoch 457/500\n",
            "159042/159042 [==============================] - 3s 21us/step - loss: 0.8950 - acc: 0.6611 - val_loss: 0.7076 - val_acc: 0.7321\n",
            "Epoch 458/500\n",
            "159042/159042 [==============================] - 3s 22us/step - loss: 0.8977 - acc: 0.6588 - val_loss: 0.7066 - val_acc: 0.7324\n",
            "\n",
            "Epoch 00458: val_loss did not improve from 0.68596\n",
            "Epoch 459/500\n",
            "159042/159042 [==============================] - 3s 22us/step - loss: 0.8848 - acc: 0.6639 - val_loss: 0.6964 - val_acc: 0.7341\n",
            "Epoch 460/500\n",
            "159042/159042 [==============================] - 3s 22us/step - loss: 0.8699 - acc: 0.6691 - val_loss: 0.6885 - val_acc: 0.7378\n",
            "\n",
            "Epoch 00460: val_loss did not improve from 0.68596\n",
            "Epoch 461/500\n",
            "159042/159042 [==============================] - 3s 22us/step - loss: 0.8956 - acc: 0.6602 - val_loss: 0.7099 - val_acc: 0.7303\n",
            "Epoch 462/500\n",
            "159042/159042 [==============================] - 3s 22us/step - loss: 0.8964 - acc: 0.6606 - val_loss: 0.7046 - val_acc: 0.7282\n",
            "\n",
            "Epoch 00462: val_loss did not improve from 0.68596\n",
            "Epoch 463/500\n",
            "159042/159042 [==============================] - 3s 22us/step - loss: 0.8829 - acc: 0.6655 - val_loss: 0.6966 - val_acc: 0.7339\n",
            "Epoch 464/500\n",
            "159042/159042 [==============================] - 3s 22us/step - loss: 0.8714 - acc: 0.6691 - val_loss: 0.6876 - val_acc: 0.7382\n",
            "\n",
            "Epoch 00464: val_loss did not improve from 0.68596\n",
            "Epoch 465/500\n",
            "159042/159042 [==============================] - 3s 22us/step - loss: 0.8961 - acc: 0.6595 - val_loss: 0.7057 - val_acc: 0.7311\n",
            "Epoch 466/500\n",
            "159042/159042 [==============================] - 3s 21us/step - loss: 0.8976 - acc: 0.6590 - val_loss: 0.7034 - val_acc: 0.7320\n",
            "\n",
            "Epoch 00466: val_loss did not improve from 0.68596\n",
            "Epoch 467/500\n",
            "159042/159042 [==============================] - 3s 21us/step - loss: 0.8862 - acc: 0.6637 - val_loss: 0.6975 - val_acc: 0.7357\n",
            "Epoch 468/500\n",
            "159042/159042 [==============================] - 3s 21us/step - loss: 0.8723 - acc: 0.6685 - val_loss: 0.6889 - val_acc: 0.7374\n",
            "\n",
            "Epoch 00468: val_loss did not improve from 0.68596\n",
            "Epoch 469/500\n",
            "159042/159042 [==============================] - 3s 21us/step - loss: 0.8982 - acc: 0.6595 - val_loss: 0.7090 - val_acc: 0.7286\n",
            "Epoch 470/500\n",
            "159042/159042 [==============================] - 3s 22us/step - loss: 0.8961 - acc: 0.6598 - val_loss: 0.7102 - val_acc: 0.7257\n",
            "\n",
            "Epoch 00470: val_loss did not improve from 0.68596\n",
            "Epoch 471/500\n",
            "159042/159042 [==============================] - 3s 22us/step - loss: 0.8839 - acc: 0.6639 - val_loss: 0.6978 - val_acc: 0.7314\n",
            "Epoch 472/500\n",
            "159042/159042 [==============================] - 3s 22us/step - loss: 0.8716 - acc: 0.6692 - val_loss: 0.6890 - val_acc: 0.7375\n",
            "\n",
            "Epoch 00472: val_loss did not improve from 0.68596\n",
            "Epoch 473/500\n",
            "159042/159042 [==============================] - 3s 22us/step - loss: 0.8972 - acc: 0.6605 - val_loss: 0.7121 - val_acc: 0.7305\n",
            "Epoch 474/500\n",
            "159042/159042 [==============================] - 3s 22us/step - loss: 0.8969 - acc: 0.6601 - val_loss: 0.7059 - val_acc: 0.7288\n",
            "\n",
            "Epoch 00474: val_loss did not improve from 0.68596\n",
            "Epoch 475/500\n",
            "159042/159042 [==============================] - 3s 22us/step - loss: 0.8811 - acc: 0.6662 - val_loss: 0.6978 - val_acc: 0.7343\n",
            "Epoch 476/500\n",
            "159042/159042 [==============================] - 3s 22us/step - loss: 0.8728 - acc: 0.6680 - val_loss: 0.6870 - val_acc: 0.7391\n",
            "\n",
            "Epoch 00476: val_loss did not improve from 0.68596\n",
            "Epoch 477/500\n",
            "159042/159042 [==============================] - 3s 22us/step - loss: 0.8951 - acc: 0.6602 - val_loss: 0.7099 - val_acc: 0.7268\n",
            "Epoch 478/500\n",
            "159042/159042 [==============================] - 3s 22us/step - loss: 0.8932 - acc: 0.6614 - val_loss: 0.7023 - val_acc: 0.7309\n",
            "\n",
            "Epoch 00478: val_loss did not improve from 0.68596\n",
            "Epoch 479/500\n",
            "159042/159042 [==============================] - 3s 22us/step - loss: 0.8845 - acc: 0.6643 - val_loss: 0.6945 - val_acc: 0.7366\n",
            "Epoch 480/500\n",
            "159042/159042 [==============================] - 3s 21us/step - loss: 0.8690 - acc: 0.6700 - val_loss: 0.6898 - val_acc: 0.7375\n",
            "\n",
            "Epoch 00480: val_loss did not improve from 0.68596\n",
            "Epoch 481/500\n",
            "159042/159042 [==============================] - 3s 22us/step - loss: 0.8948 - acc: 0.6604 - val_loss: 0.7073 - val_acc: 0.7292\n",
            "Epoch 482/500\n",
            "159042/159042 [==============================] - 3s 22us/step - loss: 0.8961 - acc: 0.6601 - val_loss: 0.7049 - val_acc: 0.7309\n",
            "\n",
            "Epoch 00482: val_loss did not improve from 0.68596\n",
            "Epoch 483/500\n",
            "159042/159042 [==============================] - 3s 22us/step - loss: 0.8829 - acc: 0.6652 - val_loss: 0.6964 - val_acc: 0.7334\n",
            "Epoch 484/500\n",
            "159042/159042 [==============================] - 3s 22us/step - loss: 0.8696 - acc: 0.6701 - val_loss: 0.6860 - val_acc: 0.7400\n",
            "\n",
            "Epoch 00484: val_loss did not improve from 0.68596\n",
            "Epoch 485/500\n",
            "159042/159042 [==============================] - 3s 21us/step - loss: 0.8941 - acc: 0.6600 - val_loss: 0.7058 - val_acc: 0.7310\n",
            "Epoch 486/500\n",
            "159042/159042 [==============================] - 3s 22us/step - loss: 0.8936 - acc: 0.6599 - val_loss: 0.7077 - val_acc: 0.7288\n",
            "\n",
            "Epoch 00486: val_loss did not improve from 0.68596\n",
            "Epoch 487/500\n",
            "159042/159042 [==============================] - 3s 22us/step - loss: 0.8790 - acc: 0.6654 - val_loss: 0.6909 - val_acc: 0.7348\n",
            "Epoch 488/500\n",
            "159042/159042 [==============================] - 3s 22us/step - loss: 0.8678 - acc: 0.6704 - val_loss: 0.6830 - val_acc: 0.7403\n",
            "\n",
            "Epoch 00488: val_loss improved from 0.68596 to 0.68296, saving model to subj1.hdf5\n",
            "Epoch 489/500\n",
            "159042/159042 [==============================] - 3s 22us/step - loss: 0.8913 - acc: 0.6620 - val_loss: 0.7057 - val_acc: 0.7304\n",
            "Epoch 490/500\n",
            "159042/159042 [==============================] - 3s 22us/step - loss: 0.8921 - acc: 0.6615 - val_loss: 0.7016 - val_acc: 0.7333\n",
            "\n",
            "Epoch 00490: val_loss did not improve from 0.68296\n",
            "Epoch 491/500\n",
            "159042/159042 [==============================] - 3s 22us/step - loss: 0.8821 - acc: 0.6644 - val_loss: 0.6927 - val_acc: 0.7359\n",
            "Epoch 492/500\n",
            "159042/159042 [==============================] - 3s 22us/step - loss: 0.8700 - acc: 0.6706 - val_loss: 0.6853 - val_acc: 0.7392\n",
            "\n",
            "Epoch 00492: val_loss did not improve from 0.68296\n",
            "Epoch 493/500\n",
            "159042/159042 [==============================] - 3s 22us/step - loss: 0.8949 - acc: 0.6612 - val_loss: 0.7047 - val_acc: 0.7321\n",
            "Epoch 494/500\n",
            "159042/159042 [==============================] - 3s 22us/step - loss: 0.8950 - acc: 0.6611 - val_loss: 0.7026 - val_acc: 0.7328\n",
            "\n",
            "Epoch 00494: val_loss did not improve from 0.68296\n",
            "Epoch 495/500\n",
            "159042/159042 [==============================] - 3s 22us/step - loss: 0.8807 - acc: 0.6662 - val_loss: 0.6901 - val_acc: 0.7354\n",
            "Epoch 496/500\n",
            "159042/159042 [==============================] - 3s 22us/step - loss: 0.8672 - acc: 0.6717 - val_loss: 0.6850 - val_acc: 0.7409\n",
            "\n",
            "Epoch 00496: val_loss did not improve from 0.68296\n",
            "Epoch 497/500\n",
            "159042/159042 [==============================] - 3s 22us/step - loss: 0.8957 - acc: 0.6614 - val_loss: 0.7054 - val_acc: 0.7324\n",
            "Epoch 498/500\n",
            "159042/159042 [==============================] - 3s 22us/step - loss: 0.8964 - acc: 0.6612 - val_loss: 0.7023 - val_acc: 0.7285\n",
            "\n",
            "Epoch 00498: val_loss did not improve from 0.68296\n",
            "Epoch 499/500\n",
            "159042/159042 [==============================] - 3s 22us/step - loss: 0.8814 - acc: 0.6666 - val_loss: 0.6933 - val_acc: 0.7345\n",
            "Epoch 500/500\n",
            "159042/159042 [==============================] - 3s 22us/step - loss: 0.8685 - acc: 0.6701 - val_loss: 0.6863 - val_acc: 0.7396\n",
            "\n",
            "Epoch 00500: val_loss did not improve from 0.68296\n"
          ],
          "name": "stdout"
        },
        {
          "output_type": "execute_result",
          "data": {
            "text/plain": [
              "<keras.callbacks.History at 0x7f0283ddb3c8>"
            ]
          },
          "metadata": {
            "tags": []
          },
          "execution_count": 50
        }
      ]
    },
    {
      "metadata": {
        "id": "09CHoZ2fC_2S",
        "colab_type": "code",
        "outputId": "5df1bbcc-789f-4b42-8269-e4df5ef2395b",
        "colab": {
          "base_uri": "https://localhost:8080/",
          "height": 255
        }
      },
      "cell_type": "code",
      "source": [
        "preds = model.predict(x_val, verbose = 1) ; preds.shape\n",
        "print(preds)"
      ],
      "execution_count": 0,
      "outputs": [
        {
          "output_type": "stream",
          "text": [
            "33049/33049 [==============================] - 4s 129us/step\n",
            "[[3.39404394e-13 9.93124902e-01 5.23311552e-03 ... 9.34189970e-09\n",
            "  2.24512542e-06 5.11171929e-05]\n",
            " [5.43816334e-08 4.41716518e-03 6.81430250e-02 ... 6.00301973e-07\n",
            "  9.17529064e-07 9.41763290e-07]\n",
            " [1.36317915e-10 1.24232165e-05 1.12054136e-06 ... 1.23332240e-01\n",
            "  1.37482986e-01 7.39169300e-01]\n",
            " ...\n",
            " [1.08133129e-08 1.02636106e-02 3.00107840e-02 ... 2.20132605e-08\n",
            "  4.60885596e-09 5.32618643e-08]\n",
            " [6.19726848e-08 9.12420655e-05 4.08950364e-05 ... 1.70677438e-01\n",
            "  6.05338454e-01 2.23590016e-01]\n",
            " [1.07251447e-14 9.99502182e-01 4.46951046e-04 ... 4.28398705e-10\n",
            "  1.77677439e-09 1.07892335e-08]]\n"
          ],
          "name": "stdout"
        }
      ]
    },
    {
      "metadata": {
        "id": "KrqRep9hDiDZ",
        "colab_type": "code",
        "colab": {}
      },
      "cell_type": "code",
      "source": [
        "y_classes = preds.argmax(axis=-1)"
      ],
      "execution_count": 0,
      "outputs": []
    },
    {
      "metadata": {
        "id": "W7Ydxe_6Eh-Q",
        "colab_type": "code",
        "outputId": "c49d51b3-a4fd-4d12-a247-c32542eee3d9",
        "colab": {
          "base_uri": "https://localhost:8080/",
          "height": 34
        }
      },
      "cell_type": "code",
      "source": [
        "y_val_classes = y_val.argmax(axis = -1)\n",
        "print(y_val_classes)"
      ],
      "execution_count": 0,
      "outputs": [
        {
          "output_type": "stream",
          "text": [
            "[1 5 9 ... 4 9 1]\n"
          ],
          "name": "stdout"
        }
      ]
    },
    {
      "metadata": {
        "id": "g-WcSgOBEZ02",
        "colab_type": "code",
        "outputId": "bd1238f3-86f7-46f0-c524-0a3afa94d997",
        "colab": {
          "base_uri": "https://localhost:8080/",
          "height": 34
        }
      },
      "cell_type": "code",
      "source": [
        "from sklearn import metrics\n",
        "y_classes\n",
        "br_f1=metrics.f1_score(y_val_classes, y_classes, average='micro')\n",
        "print(br_f1)"
      ],
      "execution_count": 0,
      "outputs": [
        {
          "output_type": "stream",
          "text": [
            "0.704711186420164\n"
          ],
          "name": "stdout"
        }
      ]
    },
    {
      "metadata": {
        "id": "i8fxCJ3htGUc",
        "colab_type": "code",
        "outputId": "fdd691da-0580-4661-d762-fe4da2437946",
        "colab": {
          "base_uri": "https://localhost:8080/",
          "height": 231
        }
      },
      "cell_type": "code",
      "source": [
        "result = clf.predict(x_val)\n",
        "result = result.toarray()\n",
        "\n",
        "from sklearn.metrics import auc, roc_curve\n",
        "for index in range(6):\n",
        "  fpr_keras, tpr_keras, thresholds_keras = roc_curve(y_val[:,index], result[:,index])\n",
        "  auc_keras = auc(fpr_keras, tpr_keras)\n",
        "  print(auc_keras)"
      ],
      "execution_count": 0,
      "outputs": [
        {
          "output_type": "error",
          "ename": "NameError",
          "evalue": "ignored",
          "traceback": [
            "\u001b[0;31m---------------------------------------------------------------------------\u001b[0m",
            "\u001b[0;31mNameError\u001b[0m                                 Traceback (most recent call last)",
            "\u001b[0;32m<ipython-input-47-83d020e951ff>\u001b[0m in \u001b[0;36m<module>\u001b[0;34m()\u001b[0m\n\u001b[0;32m----> 1\u001b[0;31m \u001b[0mresult\u001b[0m \u001b[0;34m=\u001b[0m \u001b[0mclf\u001b[0m\u001b[0;34m.\u001b[0m\u001b[0mpredict\u001b[0m\u001b[0;34m(\u001b[0m\u001b[0mx_val\u001b[0m\u001b[0;34m)\u001b[0m\u001b[0;34m\u001b[0m\u001b[0;34m\u001b[0m\u001b[0m\n\u001b[0m\u001b[1;32m      2\u001b[0m \u001b[0mresult\u001b[0m \u001b[0;34m=\u001b[0m \u001b[0mresult\u001b[0m\u001b[0;34m.\u001b[0m\u001b[0mtoarray\u001b[0m\u001b[0;34m(\u001b[0m\u001b[0;34m)\u001b[0m\u001b[0;34m\u001b[0m\u001b[0;34m\u001b[0m\u001b[0m\n\u001b[1;32m      3\u001b[0m \u001b[0;34m\u001b[0m\u001b[0m\n\u001b[1;32m      4\u001b[0m \u001b[0;32mfrom\u001b[0m \u001b[0msklearn\u001b[0m\u001b[0;34m.\u001b[0m\u001b[0mmetrics\u001b[0m \u001b[0;32mimport\u001b[0m \u001b[0mauc\u001b[0m\u001b[0;34m,\u001b[0m \u001b[0mroc_curve\u001b[0m\u001b[0;34m\u001b[0m\u001b[0;34m\u001b[0m\u001b[0m\n\u001b[1;32m      5\u001b[0m \u001b[0;32mfor\u001b[0m \u001b[0mindex\u001b[0m \u001b[0;32min\u001b[0m \u001b[0mrange\u001b[0m\u001b[0;34m(\u001b[0m\u001b[0;36m6\u001b[0m\u001b[0;34m)\u001b[0m\u001b[0;34m:\u001b[0m\u001b[0;34m\u001b[0m\u001b[0;34m\u001b[0m\u001b[0m\n",
            "\u001b[0;31mNameError\u001b[0m: name 'clf' is not defined"
          ]
        }
      ]
    },
    {
      "metadata": {
        "id": "bwfqg6ywcOlg",
        "colab_type": "code",
        "outputId": "5516804e-ae7f-4a5d-8b35-675ffd56d741",
        "colab": {
          "base_uri": "https://localhost:8080/",
          "height": 221
        }
      },
      "cell_type": "code",
      "source": [
        "import sklearn.metrics as metrics\n",
        "for i in range(6):\n",
        "  y_test = y_val[:,i]\n",
        "  y_hat = result[:,i]\n",
        "  br_f1=metrics.f1_score(y_test, y_hat, average='micro')\n",
        "  br_hamm=metrics.hamming_loss(y_test,y_hat)\n",
        "  print('Binary Relevance F1-score:',round(br_f1,3))\n",
        "  print('Binary Relevance Hamming Loss:',round(br_hamm,3))"
      ],
      "execution_count": 0,
      "outputs": [
        {
          "output_type": "stream",
          "text": [
            "Binary Relevance F1-score: 0.834\n",
            "Binary Relevance Hamming Loss: 0.166\n",
            "Binary Relevance F1-score: 0.812\n",
            "Binary Relevance Hamming Loss: 0.188\n",
            "Binary Relevance F1-score: 0.799\n",
            "Binary Relevance Hamming Loss: 0.201\n",
            "Binary Relevance F1-score: 0.774\n",
            "Binary Relevance Hamming Loss: 0.226\n",
            "Binary Relevance F1-score: 0.874\n",
            "Binary Relevance Hamming Loss: 0.126\n",
            "Binary Relevance F1-score: 0.859\n",
            "Binary Relevance Hamming Loss: 0.141\n"
          ],
          "name": "stdout"
        }
      ]
    },
    {
      "metadata": {
        "id": "KBs4zCLKdxTA",
        "colab_type": "code",
        "outputId": "5e4b26d1-3339-4fea-9083-4b5f7898d244",
        "colab": {
          "base_uri": "https://localhost:8080/",
          "height": 34
        }
      },
      "cell_type": "code",
      "source": [
        "X_test.shape"
      ],
      "execution_count": 0,
      "outputs": [
        {
          "output_type": "execute_result",
          "data": {
            "text/plain": [
              "(298085, 32)"
            ]
          },
          "metadata": {
            "tags": []
          },
          "execution_count": 5
        }
      ]
    },
    {
      "metadata": {
        "id": "6dwJpt-OeBzU",
        "colab_type": "code",
        "outputId": "7e68867f-d7fd-4da8-bd4b-c19e9bb371fd",
        "colab": {
          "base_uri": "https://localhost:8080/",
          "height": 164
        }
      },
      "cell_type": "code",
      "source": [
        ""
      ],
      "execution_count": 0,
      "outputs": [
        {
          "output_type": "error",
          "ename": "NameError",
          "evalue": "ignored",
          "traceback": [
            "\u001b[0;31m---------------------------------------------------------------------------\u001b[0m",
            "\u001b[0;31mNameError\u001b[0m                                 Traceback (most recent call last)",
            "\u001b[0;32m<ipython-input-6-d81d1eea2757>\u001b[0m in \u001b[0;36m<module>\u001b[0;34m()\u001b[0m\n\u001b[0;32m----> 1\u001b[0;31m \u001b[0mcollinear_features\u001b[0m\u001b[0;34m\u001b[0m\u001b[0;34m\u001b[0m\u001b[0m\n\u001b[0m",
            "\u001b[0;31mNameError\u001b[0m: name 'collinear_features' is not defined"
          ]
        }
      ]
    },
    {
      "metadata": {
        "id": "iJz5aNQWSMus",
        "colab_type": "code",
        "outputId": "baa681d1-3526-4d70-c65a-ac72e4b0b413",
        "colab": {
          "base_uri": "https://localhost:8080/",
          "height": 1034
        }
      },
      "cell_type": "code",
      "source": [
        "start=time.time()\n",
        "final_preds=clf.predict(X_test)\n",
        "print('prediction time taken: ',round(time.time()-start,0),'seconds')\n",
        "final_preds = final_preds.toarray()"
      ],
      "execution_count": 0,
      "outputs": [
        {
          "output_type": "error",
          "ename": "ValueError",
          "evalue": "ignored",
          "traceback": [
            "\u001b[0;31m---------------------------------------------------------------------------\u001b[0m",
            "\u001b[0;31mValueError\u001b[0m                                Traceback (most recent call last)",
            "\u001b[0;32m<ipython-input-73-0b4a68d1ab97>\u001b[0m in \u001b[0;36m<module>\u001b[0;34m()\u001b[0m\n\u001b[1;32m      1\u001b[0m \u001b[0mstart\u001b[0m\u001b[0;34m=\u001b[0m\u001b[0mtime\u001b[0m\u001b[0;34m.\u001b[0m\u001b[0mtime\u001b[0m\u001b[0;34m(\u001b[0m\u001b[0;34m)\u001b[0m\u001b[0;34m\u001b[0m\u001b[0;34m\u001b[0m\u001b[0m\n\u001b[0;32m----> 2\u001b[0;31m \u001b[0mfinal_preds\u001b[0m\u001b[0;34m=\u001b[0m\u001b[0mclf\u001b[0m\u001b[0;34m.\u001b[0m\u001b[0mpredict\u001b[0m\u001b[0;34m(\u001b[0m\u001b[0mX_test\u001b[0m\u001b[0;34m)\u001b[0m\u001b[0;34m\u001b[0m\u001b[0;34m\u001b[0m\u001b[0m\n\u001b[0m\u001b[1;32m      3\u001b[0m \u001b[0mprint\u001b[0m\u001b[0;34m(\u001b[0m\u001b[0;34m'prediction time taken: '\u001b[0m\u001b[0;34m,\u001b[0m\u001b[0mround\u001b[0m\u001b[0;34m(\u001b[0m\u001b[0mtime\u001b[0m\u001b[0;34m.\u001b[0m\u001b[0mtime\u001b[0m\u001b[0;34m(\u001b[0m\u001b[0;34m)\u001b[0m\u001b[0;34m-\u001b[0m\u001b[0mstart\u001b[0m\u001b[0;34m,\u001b[0m\u001b[0;36m0\u001b[0m\u001b[0;34m)\u001b[0m\u001b[0;34m,\u001b[0m\u001b[0;34m'seconds'\u001b[0m\u001b[0;34m)\u001b[0m\u001b[0;34m\u001b[0m\u001b[0;34m\u001b[0m\u001b[0m\n\u001b[1;32m      4\u001b[0m \u001b[0mfinal_preds\u001b[0m \u001b[0;34m=\u001b[0m \u001b[0mfinal_preds\u001b[0m\u001b[0;34m.\u001b[0m\u001b[0mtoarray\u001b[0m\u001b[0;34m(\u001b[0m\u001b[0;34m)\u001b[0m\u001b[0;34m\u001b[0m\u001b[0;34m\u001b[0m\u001b[0m\n",
            "\u001b[0;32m/usr/local/lib/python3.6/dist-packages/skmultilearn/problem_transform/br.py\u001b[0m in \u001b[0;36mpredict\u001b[0;34m(self, X)\u001b[0m\n\u001b[1;32m    180\u001b[0m         predictions = [self._ensure_multi_label_from_single_class(\n\u001b[1;32m    181\u001b[0m             self.classifiers_[label].predict(self._ensure_input_format(X)))\n\u001b[0;32m--> 182\u001b[0;31m             for label in range(self.model_count_)]\n\u001b[0m\u001b[1;32m    183\u001b[0m \u001b[0;34m\u001b[0m\u001b[0m\n\u001b[1;32m    184\u001b[0m         \u001b[0;32mreturn\u001b[0m \u001b[0mhstack\u001b[0m\u001b[0;34m(\u001b[0m\u001b[0mpredictions\u001b[0m\u001b[0;34m)\u001b[0m\u001b[0;34m\u001b[0m\u001b[0;34m\u001b[0m\u001b[0m\n",
            "\u001b[0;32m/usr/local/lib/python3.6/dist-packages/skmultilearn/problem_transform/br.py\u001b[0m in \u001b[0;36m<listcomp>\u001b[0;34m(.0)\u001b[0m\n\u001b[1;32m    180\u001b[0m         predictions = [self._ensure_multi_label_from_single_class(\n\u001b[1;32m    181\u001b[0m             self.classifiers_[label].predict(self._ensure_input_format(X)))\n\u001b[0;32m--> 182\u001b[0;31m             for label in range(self.model_count_)]\n\u001b[0m\u001b[1;32m    183\u001b[0m \u001b[0;34m\u001b[0m\u001b[0m\n\u001b[1;32m    184\u001b[0m         \u001b[0;32mreturn\u001b[0m \u001b[0mhstack\u001b[0m\u001b[0;34m(\u001b[0m\u001b[0mpredictions\u001b[0m\u001b[0;34m)\u001b[0m\u001b[0;34m\u001b[0m\u001b[0;34m\u001b[0m\u001b[0m\n",
            "\u001b[0;32m/usr/local/lib/python3.6/dist-packages/skmultilearn/ext/keras.py\u001b[0m in \u001b[0;36mpredict\u001b[0;34m(self, X)\u001b[0m\n\u001b[1;32m     29\u001b[0m \u001b[0;34m\u001b[0m\u001b[0m\n\u001b[1;32m     30\u001b[0m     \u001b[0;32mdef\u001b[0m \u001b[0mpredict\u001b[0m\u001b[0;34m(\u001b[0m\u001b[0mself\u001b[0m\u001b[0;34m,\u001b[0m \u001b[0mX\u001b[0m\u001b[0;34m)\u001b[0m\u001b[0;34m:\u001b[0m\u001b[0;34m\u001b[0m\u001b[0;34m\u001b[0m\u001b[0m\n\u001b[0;32m---> 31\u001b[0;31m         \u001b[0;32mreturn\u001b[0m \u001b[0mself\u001b[0m\u001b[0;34m.\u001b[0m\u001b[0mclassifier_\u001b[0m\u001b[0;34m.\u001b[0m\u001b[0mpredict\u001b[0m\u001b[0;34m(\u001b[0m\u001b[0mX\u001b[0m\u001b[0;34m)\u001b[0m\u001b[0;34m\u001b[0m\u001b[0;34m\u001b[0m\u001b[0m\n\u001b[0m",
            "\u001b[0;32m/usr/local/lib/python3.6/dist-packages/keras/wrappers/scikit_learn.py\u001b[0m in \u001b[0;36mpredict\u001b[0;34m(self, x, **kwargs)\u001b[0m\n\u001b[1;32m    227\u001b[0m         \u001b[0mkwargs\u001b[0m \u001b[0;34m=\u001b[0m \u001b[0mself\u001b[0m\u001b[0;34m.\u001b[0m\u001b[0mfilter_sk_params\u001b[0m\u001b[0;34m(\u001b[0m\u001b[0mSequential\u001b[0m\u001b[0;34m.\u001b[0m\u001b[0mpredict_classes\u001b[0m\u001b[0;34m,\u001b[0m \u001b[0mkwargs\u001b[0m\u001b[0;34m)\u001b[0m\u001b[0;34m\u001b[0m\u001b[0;34m\u001b[0m\u001b[0m\n\u001b[1;32m    228\u001b[0m \u001b[0;34m\u001b[0m\u001b[0m\n\u001b[0;32m--> 229\u001b[0;31m         \u001b[0mproba\u001b[0m \u001b[0;34m=\u001b[0m \u001b[0mself\u001b[0m\u001b[0;34m.\u001b[0m\u001b[0mmodel\u001b[0m\u001b[0;34m.\u001b[0m\u001b[0mpredict\u001b[0m\u001b[0;34m(\u001b[0m\u001b[0mx\u001b[0m\u001b[0;34m,\u001b[0m \u001b[0;34m**\u001b[0m\u001b[0mkwargs\u001b[0m\u001b[0;34m)\u001b[0m\u001b[0;34m\u001b[0m\u001b[0;34m\u001b[0m\u001b[0m\n\u001b[0m\u001b[1;32m    230\u001b[0m         \u001b[0;32mif\u001b[0m \u001b[0mproba\u001b[0m\u001b[0;34m.\u001b[0m\u001b[0mshape\u001b[0m\u001b[0;34m[\u001b[0m\u001b[0;34m-\u001b[0m\u001b[0;36m1\u001b[0m\u001b[0;34m]\u001b[0m \u001b[0;34m>\u001b[0m \u001b[0;36m1\u001b[0m\u001b[0;34m:\u001b[0m\u001b[0;34m\u001b[0m\u001b[0;34m\u001b[0m\u001b[0m\n\u001b[1;32m    231\u001b[0m             \u001b[0mclasses\u001b[0m \u001b[0;34m=\u001b[0m \u001b[0mproba\u001b[0m\u001b[0;34m.\u001b[0m\u001b[0margmax\u001b[0m\u001b[0;34m(\u001b[0m\u001b[0maxis\u001b[0m\u001b[0;34m=\u001b[0m\u001b[0;34m-\u001b[0m\u001b[0;36m1\u001b[0m\u001b[0;34m)\u001b[0m\u001b[0;34m\u001b[0m\u001b[0;34m\u001b[0m\u001b[0m\n",
            "\u001b[0;32m/usr/local/lib/python3.6/dist-packages/keras/engine/training.py\u001b[0m in \u001b[0;36mpredict\u001b[0;34m(self, x, batch_size, verbose, steps)\u001b[0m\n\u001b[1;32m   1147\u001b[0m                              'argument.')\n\u001b[1;32m   1148\u001b[0m         \u001b[0;31m# Validate user data.\u001b[0m\u001b[0;34m\u001b[0m\u001b[0;34m\u001b[0m\u001b[0;34m\u001b[0m\u001b[0m\n\u001b[0;32m-> 1149\u001b[0;31m         \u001b[0mx\u001b[0m\u001b[0;34m,\u001b[0m \u001b[0m_\u001b[0m\u001b[0;34m,\u001b[0m \u001b[0m_\u001b[0m \u001b[0;34m=\u001b[0m \u001b[0mself\u001b[0m\u001b[0;34m.\u001b[0m\u001b[0m_standardize_user_data\u001b[0m\u001b[0;34m(\u001b[0m\u001b[0mx\u001b[0m\u001b[0;34m)\u001b[0m\u001b[0;34m\u001b[0m\u001b[0;34m\u001b[0m\u001b[0m\n\u001b[0m\u001b[1;32m   1150\u001b[0m         \u001b[0;32mif\u001b[0m \u001b[0mself\u001b[0m\u001b[0;34m.\u001b[0m\u001b[0mstateful\u001b[0m\u001b[0;34m:\u001b[0m\u001b[0;34m\u001b[0m\u001b[0;34m\u001b[0m\u001b[0m\n\u001b[1;32m   1151\u001b[0m             \u001b[0;32mif\u001b[0m \u001b[0mx\u001b[0m\u001b[0;34m[\u001b[0m\u001b[0;36m0\u001b[0m\u001b[0;34m]\u001b[0m\u001b[0;34m.\u001b[0m\u001b[0mshape\u001b[0m\u001b[0;34m[\u001b[0m\u001b[0;36m0\u001b[0m\u001b[0;34m]\u001b[0m \u001b[0;34m>\u001b[0m \u001b[0mbatch_size\u001b[0m \u001b[0;32mand\u001b[0m \u001b[0mx\u001b[0m\u001b[0;34m[\u001b[0m\u001b[0;36m0\u001b[0m\u001b[0;34m]\u001b[0m\u001b[0;34m.\u001b[0m\u001b[0mshape\u001b[0m\u001b[0;34m[\u001b[0m\u001b[0;36m0\u001b[0m\u001b[0;34m]\u001b[0m \u001b[0;34m%\u001b[0m \u001b[0mbatch_size\u001b[0m \u001b[0;34m!=\u001b[0m \u001b[0;36m0\u001b[0m\u001b[0;34m:\u001b[0m\u001b[0;34m\u001b[0m\u001b[0;34m\u001b[0m\u001b[0m\n",
            "\u001b[0;32m/usr/local/lib/python3.6/dist-packages/keras/engine/training.py\u001b[0m in \u001b[0;36m_standardize_user_data\u001b[0;34m(self, x, y, sample_weight, class_weight, check_array_lengths, batch_size)\u001b[0m\n\u001b[1;32m    749\u001b[0m             \u001b[0mfeed_input_shapes\u001b[0m\u001b[0;34m,\u001b[0m\u001b[0;34m\u001b[0m\u001b[0;34m\u001b[0m\u001b[0m\n\u001b[1;32m    750\u001b[0m             \u001b[0mcheck_batch_axis\u001b[0m\u001b[0;34m=\u001b[0m\u001b[0;32mFalse\u001b[0m\u001b[0;34m,\u001b[0m  \u001b[0;31m# Don't enforce the batch size.\u001b[0m\u001b[0;34m\u001b[0m\u001b[0;34m\u001b[0m\u001b[0m\n\u001b[0;32m--> 751\u001b[0;31m             exception_prefix='input')\n\u001b[0m\u001b[1;32m    752\u001b[0m \u001b[0;34m\u001b[0m\u001b[0m\n\u001b[1;32m    753\u001b[0m         \u001b[0;32mif\u001b[0m \u001b[0my\u001b[0m \u001b[0;32mis\u001b[0m \u001b[0;32mnot\u001b[0m \u001b[0;32mNone\u001b[0m\u001b[0;34m:\u001b[0m\u001b[0;34m\u001b[0m\u001b[0;34m\u001b[0m\u001b[0m\n",
            "\u001b[0;32m/usr/local/lib/python3.6/dist-packages/keras/engine/training_utils.py\u001b[0m in \u001b[0;36mstandardize_input_data\u001b[0;34m(data, names, shapes, check_batch_axis, exception_prefix)\u001b[0m\n\u001b[1;32m    136\u001b[0m                             \u001b[0;34m': expected '\u001b[0m \u001b[0;34m+\u001b[0m \u001b[0mnames\u001b[0m\u001b[0;34m[\u001b[0m\u001b[0mi\u001b[0m\u001b[0;34m]\u001b[0m \u001b[0;34m+\u001b[0m \u001b[0;34m' to have shape '\u001b[0m \u001b[0;34m+\u001b[0m\u001b[0;34m\u001b[0m\u001b[0;34m\u001b[0m\u001b[0m\n\u001b[1;32m    137\u001b[0m                             \u001b[0mstr\u001b[0m\u001b[0;34m(\u001b[0m\u001b[0mshape\u001b[0m\u001b[0;34m)\u001b[0m \u001b[0;34m+\u001b[0m \u001b[0;34m' but got array with shape '\u001b[0m \u001b[0;34m+\u001b[0m\u001b[0;34m\u001b[0m\u001b[0;34m\u001b[0m\u001b[0m\n\u001b[0;32m--> 138\u001b[0;31m                             str(data_shape))\n\u001b[0m\u001b[1;32m    139\u001b[0m     \u001b[0;32mreturn\u001b[0m \u001b[0mdata\u001b[0m\u001b[0;34m\u001b[0m\u001b[0;34m\u001b[0m\u001b[0m\n\u001b[1;32m    140\u001b[0m \u001b[0;34m\u001b[0m\u001b[0m\n",
            "\u001b[0;31mValueError\u001b[0m: Error when checking input: expected input_22 to have shape (26,) but got array with shape (32,)"
          ]
        }
      ]
    },
    {
      "metadata": {
        "id": "zQjABKd2ySZq",
        "colab_type": "code",
        "colab": {}
      },
      "cell_type": "code",
      "source": [
        "os.chdir(\"/content\")"
      ],
      "execution_count": 0,
      "outputs": []
    },
    {
      "metadata": {
        "id": "nR8UaYCxqp2o",
        "colab_type": "text"
      },
      "cell_type": "markdown",
      "source": [
        "The all zero target, ie (0,0,0,0,0,0) makes up 87.44% of the data, so it's pretty imbalanced.\n"
      ]
    },
    {
      "metadata": {
        "id": "RFY9YKhyOiiW",
        "colab_type": "code",
        "outputId": "ce4debb2-28e0-4d59-9a3b-2309d805901d",
        "colab": {
          "base_uri": "https://localhost:8080/",
          "height": 34
        }
      },
      "cell_type": "code",
      "source": [
        "print(subject)\n",
        "\n",
        "# submission file\n",
        "cols = ['HandStart','FirstDigitTouch',\n",
        "        'BothStartLoadPhase','LiftOff',\n",
        "        'Replace','BothReleased']\n",
        "submission_file = 'TCN_%d_2stacks.csv'\n",
        "# create pandas object for submission\n",
        "submission = pd.DataFrame(index = ids,\n",
        "                          columns = cols,\n",
        "                          data = final_preds)\n",
        "\n",
        "# write file\n",
        "submission.to_csv(submission_file,index_label='id',float_format='%.3f')"
      ],
      "execution_count": 0,
      "outputs": [
        {
          "output_type": "stream",
          "text": [
            "2\n"
          ],
          "name": "stdout"
        }
      ]
    },
    {
      "metadata": {
        "id": "Q2Hdk3KuOiiB",
        "colab_type": "code",
        "outputId": "6ec78761-bc6d-4a5b-fcfb-31f4fcaf0d68",
        "colab": {
          "base_uri": "https://localhost:8080/",
          "height": 51
        }
      },
      "cell_type": "code",
      "source": [
        "!gsutil -m cp /content/TCN_2_2stacks.csv gs://peijinbucket"
      ],
      "execution_count": 0,
      "outputs": [
        {
          "output_type": "stream",
          "text": [
            "CommandException: No URLs matched: /content/TCN_2_2stacks.csv\n",
            "CommandException: 1 file/object could not be transferred.\n"
          ],
          "name": "stdout"
        }
      ]
    },
    {
      "metadata": {
        "id": "nlfA4KSqLsk_",
        "colab_type": "code",
        "colab": {}
      },
      "cell_type": "code",
      "source": [
        ""
      ],
      "execution_count": 0,
      "outputs": []
    },
    {
      "metadata": {
        "id": "Cea9VQ_1pyxx",
        "colab_type": "code",
        "colab": {}
      },
      "cell_type": "code",
      "source": [
        ""
      ],
      "execution_count": 0,
      "outputs": []
    },
    {
      "metadata": {
        "colab_type": "code",
        "id": "KNp0vq1TXbwF",
        "colab": {}
      },
      "cell_type": "code",
      "source": [
        ""
      ],
      "execution_count": 0,
      "outputs": []
    },
    {
      "metadata": {
        "id": "ng2UO4e_ZQGP",
        "colab_type": "code",
        "colab": {}
      },
      "cell_type": "code",
      "source": [
        ""
      ],
      "execution_count": 0,
      "outputs": []
    },
    {
      "metadata": {
        "id": "BpdzGpqMaLU7",
        "colab_type": "code",
        "colab": {}
      },
      "cell_type": "code",
      "source": [
        ""
      ],
      "execution_count": 0,
      "outputs": []
    },
    {
      "metadata": {
        "id": "vKBpEAFAak-3",
        "colab_type": "code",
        "colab": {}
      },
      "cell_type": "code",
      "source": [
        ""
      ],
      "execution_count": 0,
      "outputs": []
    },
    {
      "metadata": {
        "id": "FuYI07v0VKpM",
        "colab_type": "code",
        "colab": {}
      },
      "cell_type": "code",
      "source": [
        "os.listdir()"
      ],
      "execution_count": 0,
      "outputs": []
    },
    {
      "metadata": {
        "scrolled": true,
        "id": "0WkSwr7LOiiQ",
        "colab_type": "code",
        "colab": {}
      },
      "cell_type": "code",
      "source": [
        ""
      ],
      "execution_count": 0,
      "outputs": []
    },
    {
      "metadata": {
        "id": "lT3Fvrftuo20",
        "colab_type": "code",
        "colab": {}
      },
      "cell_type": "code",
      "source": [
        ""
      ],
      "execution_count": 0,
      "outputs": []
    },
    {
      "metadata": {
        "id": "CRqbTkAsI1uH",
        "colab_type": "code",
        "colab": {}
      },
      "cell_type": "code",
      "source": [
        "#ids2 = ids.copy()\n",
        "#skup to ithe following cell\n",
        "ids3 = ids.copy()"
      ],
      "execution_count": 0,
      "outputs": []
    },
    {
      "metadata": {
        "id": "nV-ntoiHS-FF",
        "colab_type": "code",
        "colab": {}
      },
      "cell_type": "code",
      "source": [
        "ids_total = np.concatenate([ids2,ids3])"
      ],
      "execution_count": 0,
      "outputs": []
    },
    {
      "metadata": {
        "id": "hpRL__yBTBq6",
        "colab_type": "code",
        "outputId": "c8f0e033-ee2a-48d9-b911-324dda6656b0",
        "colab": {
          "base_uri": "https://localhost:8080/",
          "height": 187
        }
      },
      "cell_type": "code",
      "source": [
        "os.listdir()"
      ],
      "execution_count": 0,
      "outputs": [
        {
          "output_type": "execute_result",
          "data": {
            "text/plain": [
              "['.config',\n",
              " 'test',\n",
              " 'adc.json',\n",
              " 'eeg_train',\n",
              " 'newTCN4.csv',\n",
              " 'newTCN3.csv',\n",
              " 'OpenNE',\n",
              " 'newTCN2.csv',\n",
              " 'newTCN1.csv',\n",
              " 'sample_data']"
            ]
          },
          "metadata": {
            "tags": []
          },
          "execution_count": 61
        }
      ]
    },
    {
      "metadata": {
        "id": "bJcVlcu-ad7O",
        "colab_type": "text"
      },
      "cell_type": "markdown",
      "source": [
        "# See This "
      ]
    },
    {
      "metadata": {
        "id": "HK4-MXehYjTy",
        "colab_type": "code",
        "colab": {}
      },
      "cell_type": "code",
      "source": [
        ""
      ],
      "execution_count": 0,
      "outputs": []
    },
    {
      "metadata": {
        "id": "urKrv4hKNxuN",
        "colab_type": "code",
        "colab": {}
      },
      "cell_type": "code",
      "source": [
        "train_gen = BalancedBatchGenerator(trainX, trainY, sampler=RandomOverSampler(sampling_strategy = \"minority\"), batch_size = 1100, random_state=42)\n",
        "val_gen = BalancedBatchGenerator(valX, valY, sampler=RandomOverSampler(sampling_strategy = \"minority\"), batch_size = 1100, random_state=42)\n",
        "model.fit_generator(train_gen, val_gen, steps_per_epoch = ,epochs = 20, verbose = 1, callbacks = [checkpointer, reduce_lr])"
      ],
      "execution_count": 0,
      "outputs": []
    },
    {
      "metadata": {
        "id": "HDHbkPKWOiiZ",
        "colab_type": "code",
        "colab": {}
      },
      "cell_type": "code",
      "source": [
        "from glob import glob\n",
        "import pandas as pd\n",
        "raw = [] \n",
        "fnames =  glob('lstm*.csv')\n",
        "print(fnames)\n",
        "print(len(fnames))"
      ],
      "execution_count": 0,
      "outputs": []
    },
    {
      "metadata": {
        "id": "ChSzH4V8Nbie",
        "colab_type": "code",
        "colab": {}
      },
      "cell_type": "code",
      "source": [
        "for fname in fnames:\n",
        "    dat = pd.read_csv(fname)\n",
        "    raw.append(dat)\n",
        "final_submission = pd.concat(raw)"
      ],
      "execution_count": 0,
      "outputs": []
    },
    {
      "metadata": {
        "id": "lbxj2EsWcB0w",
        "colab_type": "code",
        "colab": {}
      },
      "cell_type": "code",
      "source": [
        "final_submission.shape"
      ],
      "execution_count": 0,
      "outputs": []
    },
    {
      "metadata": {
        "id": "c1zjPM8tOih9",
        "colab_type": "code",
        "colab": {}
      },
      "cell_type": "code",
      "source": [
        "final_submission.to_csv(\"LSTM_TCN_trainedonhalf.csv\", sep = \",\", header = True, index = False)"
      ],
      "execution_count": 0,
      "outputs": []
    },
    {
      "metadata": {
        "id": "hOAAiJ1lHdgv",
        "colab_type": "code",
        "colab": {}
      },
      "cell_type": "code",
      "source": [
        "!gsutil -m cp LSTM_TCN_trainedonhalf.csv gs://peijinbucket"
      ],
      "execution_count": 0,
      "outputs": []
    },
    {
      "metadata": {
        "id": "lLqAh2NzHuk2",
        "colab_type": "code",
        "colab": {}
      },
      "cell_type": "code",
      "source": [
        "!gsutil -m cp rounded_final_submission.csv gs://peijinbucket"
      ],
      "execution_count": 0,
      "outputs": []
    },
    {
      "metadata": {
        "id": "dzO2PgOLG5_r",
        "colab_type": "code",
        "colab": {}
      },
      "cell_type": "code",
      "source": [
        "import numpy as np \n",
        "rounded_final = np.round(final_submission)"
      ],
      "execution_count": 0,
      "outputs": []
    }
  ]
}